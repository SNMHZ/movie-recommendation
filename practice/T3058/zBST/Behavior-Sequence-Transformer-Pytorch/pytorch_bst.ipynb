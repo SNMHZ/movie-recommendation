{
 "cells": [
  {
   "cell_type": "code",
   "execution_count": 1,
   "id": "quarterly-wallet",
   "metadata": {
    "id": "resistant-artist"
   },
   "outputs": [],
   "source": [
    "import pandas as pd\n",
    "import torch\n",
    "import pytorch_lightning as pl\n",
    "from tqdm import tqdm\n",
    "import torchmetrics\n",
    "import math\n",
    "from urllib.request import urlretrieve\n",
    "from zipfile import ZipFile\n",
    "import os\n",
    "import torch.nn as nn\n",
    "import numpy as np\n",
    "from torch.utils.tensorboard import SummaryWriter"
   ]
  },
  {
   "cell_type": "code",
   "execution_count": 2,
   "id": "parental-uncle",
   "metadata": {
    "id": "radio-effectiveness"
   },
   "outputs": [],
   "source": [
    "# users = pd.read_csv(\n",
    "#     \"data/users.csv\",\n",
    "#     sep=\",\",\n",
    "# )\n",
    "\n",
    "ratings = pd.read_csv(\n",
    "    \"data/ratings.csv\",\n",
    "    sep=\",\",\n",
    ")\n",
    "\n",
    "movies = pd.read_csv(\n",
    "    \"data/movies.csv\", sep=\",\"\n",
    ")\n",
    "\n",
    "genres = pd.read_csv(\n",
    "    \"ml-1m/genres.tsv\", sep=\"\\t\"\n",
    ")"
   ]
  },
  {
   "cell_type": "markdown",
   "id": "intensive-circular",
   "metadata": {
    "id": "constitutional-lyric"
   },
   "source": [
    "\n",
    "## Pytorch dataset"
   ]
  },
  {
   "cell_type": "code",
   "execution_count": 3,
   "id": "absolute-columbia",
   "metadata": {
    "id": "terminal-aspect"
   },
   "outputs": [],
   "source": [
    "import pandas as pd\n",
    "import torch\n",
    "import torch.utils.data as data\n",
    "from torchvision import transforms\n",
    "import ast\n",
    "from torch.nn.utils.rnn import pad_sequence\n",
    "\n",
    "class MovieDataset(data.Dataset):\n",
    "    \"\"\"Movie dataset.\"\"\"\n",
    "\n",
    "    def __init__(\n",
    "        self, ratings_file,test=False\n",
    "    ):\n",
    "        \"\"\"\n",
    "        Args:\n",
    "            csv_file (string): Path to the csv file with user,past,future.\n",
    "        \"\"\"\n",
    "        self.ratings_frame = pd.read_csv(\n",
    "            ratings_file,\n",
    "            delimiter=\",\",\n",
    "            # iterator=True,\n",
    "        )\n",
    "        self.test = test\n",
    "\n",
    "    def __len__(self):\n",
    "        return len(self.ratings_frame)\n",
    "\n",
    "    def __getitem__(self, idx):\n",
    "        data = self.ratings_frame.iloc[idx]\n",
    "        user_id = data.user_id\n",
    "        \n",
    "        movie_history = eval(data.sequence_movie_ids)\n",
    "        movie_history_ratings = eval(data.sequence_ratings)\n",
    "        target_movie_id = movie_history[-1:][0]\n",
    "        target_movie_rating = movie_history_ratings[-1:][0]\n",
    "        \n",
    "        movie_history = torch.LongTensor(movie_history[:-1])\n",
    "        movie_history_ratings = torch.LongTensor(movie_history_ratings[:-1])\n",
    "        \n",
    "        return user_id, movie_history, target_movie_id,  movie_history_ratings, target_movie_rating"
   ]
  },
  {
   "cell_type": "code",
   "execution_count": 4,
   "id": "536fa242",
   "metadata": {},
   "outputs": [],
   "source": [
    "first =True\n",
    "for i, group in genres.groupby(\"item\")[\"genre\"]:\n",
    "    tmp = pd.DataFrame({\"item\" : i, \"genre\":\"|\".join(group)}, index=[0])\n",
    "    if first:\n",
    "        genre_df = tmp\n",
    "        first = False\n",
    "    else:\n",
    "        genre_df = pd.concat([genre_df, tmp], axis = 0, sort=False)\n",
    "\n",
    "movies = movies.merge(genre_df, on=\"item\")"
   ]
  },
  {
   "cell_type": "code",
   "execution_count": 5,
   "id": "median-ballot",
   "metadata": {
    "id": "dominican-canberra"
   },
   "outputs": [],
   "source": [
    "genres = list(set(genres[\"genre\"]))\n",
    "\n",
    "for genre in genres:\n",
    "    movies[genre] = movies[\"genre\"].apply(\n",
    "        lambda values: int(genre in values.split(\"|\"))\n",
    "    )\n",
    "\n",
    "sequence_length = 8"
   ]
  },
  {
   "cell_type": "code",
   "execution_count": 7,
   "id": "26b148ed",
   "metadata": {},
   "outputs": [
    {
     "data": {
      "text/plain": [
       "8"
      ]
     },
     "execution_count": 7,
     "metadata": {},
     "output_type": "execute_result"
    }
   ],
   "source": [
    "sequence_length"
   ]
  },
  {
   "cell_type": "code",
   "execution_count": 8,
   "id": "starting-victor",
   "metadata": {
    "colab": {
     "referenced_widgets": [
      "",
      "83a4c8aa292f42309167fd2b3df8ff9f"
     ]
    },
    "id": "damaged-soldier",
    "outputId": "4327a927-29e4-4fdc-9769-d79c3bb64daa"
   },
   "outputs": [
    {
     "name": "stderr",
     "output_type": "stream",
     "text": [
      "GPU available: True, used: True\n",
      "TPU available: False, using: 0 TPU cores\n",
      "IPU available: False, using: 0 IPUs\n",
      "HPU available: False, using: 0 HPUs\n"
     ]
    },
    {
     "name": "stdout",
     "output_type": "stream",
     "text": [
      "Loading datasets\n",
      "Done\n"
     ]
    },
    {
     "name": "stderr",
     "output_type": "stream",
     "text": [
      "LOCAL_RANK: 0 - CUDA_VISIBLE_DEVICES: [0]\n",
      "\n",
      "  | Name                   | Type                    | Params\n",
      "-------------------------------------------------------------------\n",
      "0 | embeddings_user_id     | Embedding               | 51.7 M\n",
      "1 | embeddings_movie_id    | Embedding               | 41.2 M\n",
      "2 | embeddings_position    | Embedding               | 2.8 K \n",
      "3 | embeddings_movie_genre | Embedding               | 122 K \n",
      "4 | embeddings_movie_year  | Embedding               | 1.0 K \n",
      "5 | transfomerlayer        | TransformerEncoderLayer | 1.9 M \n",
      "6 | linear                 | Sequential              | 3.9 M \n",
      "7 | criterion              | MSELoss                 | 0     \n",
      "8 | mae                    | MeanAbsoluteError       | 0     \n",
      "9 | mse                    | MeanSquaredError        | 0     \n",
      "-------------------------------------------------------------------\n",
      "98.8 M    Trainable params\n",
      "0         Non-trainable params\n",
      "98.8 M    Total params\n",
      "395.137   Total estimated model params size (MB)\n"
     ]
    },
    {
     "data": {
      "application/vnd.jupyter.widget-view+json": {
       "model_id": "70ba5e2ba2bc406ba6b1ead6c615a45b",
       "version_major": 2,
       "version_minor": 0
      },
      "text/plain": [
       "Sanity Checking: 0it [00:00, ?it/s]"
      ]
     },
     "metadata": {},
     "output_type": "display_data"
    },
    {
     "data": {
      "application/vnd.jupyter.widget-view+json": {
       "model_id": "19d1723c31184edfbaafec60a32227a6",
       "version_major": 2,
       "version_minor": 0
      },
      "text/plain": [
       "Training: 0it [00:00, ?it/s]"
      ]
     },
     "metadata": {},
     "output_type": "display_data"
    },
    {
     "data": {
      "application/vnd.jupyter.widget-view+json": {
       "model_id": "e9713be627854dff8130c60fd19b9de4",
       "version_major": 2,
       "version_minor": 0
      },
      "text/plain": [
       "Validation: 0it [00:00, ?it/s]"
      ]
     },
     "metadata": {},
     "output_type": "display_data"
    },
    {
     "name": "stderr",
     "output_type": "stream",
     "text": [
      "/opt/conda/lib/python3.8/site-packages/pytorch_lightning/trainer/trainer.py:1447: UserWarning: `.test(ckpt_path=None)` was called without a model. The best model of the previous `fit` call will be used. You can pass `test(ckpt_path='best')` to use and best model checkpoint and avoid this warning or `ckpt_path=trainer.checkpoint_callback.last_model_path` to use the last model.\n",
      "  rank_zero_warn(\n"
     ]
    },
    {
     "name": "stdout",
     "output_type": "stream",
     "text": [
      "Loading datasets\n"
     ]
    },
    {
     "name": "stderr",
     "output_type": "stream",
     "text": [
      "Restoring states from the checkpoint path at /opt/ml/zBST/Behavior-Sequence-Transformer-Pytorch/lightning_logs/version_23/checkpoints/epoch=0-step=32978.ckpt\n"
     ]
    },
    {
     "name": "stdout",
     "output_type": "stream",
     "text": [
      "Done\n"
     ]
    },
    {
     "name": "stderr",
     "output_type": "stream",
     "text": [
      "LOCAL_RANK: 0 - CUDA_VISIBLE_DEVICES: [0]\n",
      "Loaded model weights from checkpoint at /opt/ml/zBST/Behavior-Sequence-Transformer-Pytorch/lightning_logs/version_23/checkpoints/epoch=0-step=32978.ckpt\n"
     ]
    },
    {
     "data": {
      "application/vnd.jupyter.widget-view+json": {
       "model_id": "49b5ce6faa3641d68d31761e38bb5ad9",
       "version_major": 2,
       "version_minor": 0
      },
      "text/plain": [
       "Testing: 0it [00:00, ?it/s]"
      ]
     },
     "metadata": {},
     "output_type": "display_data"
    },
    {
     "name": "stdout",
     "output_type": "stream",
     "text": [
      "4966311\n"
     ]
    },
    {
     "data": {
      "text/plain": [
       "[{}]"
      ]
     },
     "execution_count": 8,
     "metadata": {},
     "output_type": "execute_result"
    }
   ],
   "source": [
    "class BST(pl.LightningModule):\n",
    "    def __init__(\n",
    "        self, args=None,\n",
    "    ):\n",
    "        super().__init__()\n",
    "        super(BST, self).__init__()\n",
    "        \n",
    "        self.save_hyperparameters()\n",
    "        self.args = args\n",
    "        #-------------------\n",
    "        # Embedding layers\n",
    "        ##Users \n",
    "        self.embeddings_user_id = nn.Embedding(\n",
    "            int(ratings.user.max())+1, int(math.sqrt(ratings.user.max()))+1\n",
    "        )\n",
    "        # ###Users features embeddings\n",
    "        # self.embeddings_user_sex = nn.Embedding(\n",
    "        #     len(users.sex.unique()), int(math.sqrt(len(users.sex.unique())))\n",
    "        # )\n",
    "        # self.embeddings_age_group = nn.Embedding(\n",
    "        #     len(users.age_group.unique()), int(math.sqrt(len(users.age_group.unique())))\n",
    "        # )\n",
    "        # self.embeddings_user_occupation = nn.Embedding(\n",
    "        #     len(users.occupation.unique()), int(math.sqrt(len(users.occupation.unique())))\n",
    "        # )\n",
    "        # self.embeddings_user_zip_code = nn.Embedding(\n",
    "        #     len(users.zip_code.unique()), int(math.sqrt(len(users.sex.unique())))\n",
    "        # )\n",
    "        \n",
    "        ##Movies\n",
    "        self.embeddings_movie_id = nn.Embedding(\n",
    "            int(movies.item.max())+1, int(math.sqrt(movies.item.max()))+1\n",
    "        )\n",
    "        self.embeddings_position  = nn.Embedding(\n",
    "           sequence_length, int(math.sqrt(movies.item.max()))+1\n",
    "        )\n",
    "        ###Movies features embeddings\n",
    "        genre_vectors = movies[genres].to_numpy()\n",
    "        self.embeddings_movie_genre = nn.Embedding(\n",
    "            genre_vectors.shape[0], genre_vectors.shape[1]\n",
    "        )\n",
    "        \n",
    "        self.embeddings_movie_genre.weight.requires_grad = True #Not training genres\n",
    "        \n",
    "        \n",
    "        self.embeddings_movie_year = nn.Embedding(\n",
    "            len(movies.year.unique()), int(math.sqrt(len(movies.year.unique())))\n",
    "        )\n",
    "        \n",
    "        \n",
    "        # Network\n",
    "        self.transfomerlayer = nn.TransformerEncoderLayer(346, 2, dropout=0.2)\n",
    "        self.linear = nn.Sequential(\n",
    "            nn.Linear(\n",
    "                3141,\n",
    "                1024,\n",
    "            ),\n",
    "            nn.LeakyReLU(),\n",
    "            nn.Linear(1024, 512),\n",
    "            nn.LeakyReLU(),\n",
    "            nn.Linear(512, 256),\n",
    "            nn.LeakyReLU(),\n",
    "            nn.Linear(256, 1),\n",
    "        )\n",
    "        self.criterion = torch.nn.MSELoss()\n",
    "        self.mae = torchmetrics.MeanAbsoluteError()\n",
    "        self.mse = torchmetrics.MeanSquaredError()\n",
    "        \n",
    "    def encode_input(self,inputs):\n",
    "        user_id, movie_history, target_movie_id,  movie_history_ratings, target_movie_rating = inputs\n",
    "        \n",
    "        \n",
    "        #MOVIES\n",
    "        #positions : for sequence\n",
    "        movie_history = self.embeddings_movie_id(movie_history)\n",
    "        target_movie = self.embeddings_movie_id(target_movie_id)\n",
    "        \n",
    "        # positions = torch.arange(0,sequence_length-1,1,dtype=int,device=self.device)\n",
    "        # positions = self.embeddings_position(positions)\n",
    "        \n",
    "        # encoded_sequence_movies_with_poistion_and_rating = (movie_history + positions) #Yet to multiply by rating\n",
    "        encoded_sequence_movies_with_poistion_and_rating = movie_history\n",
    "        \n",
    "        target_movie = torch.unsqueeze(target_movie, 1)\n",
    "        transfomer_features = torch.cat((encoded_sequence_movies_with_poistion_and_rating, target_movie),dim=1)\n",
    "        \n",
    "        #USERS\n",
    "        user_id = self.embeddings_user_id(user_id)\n",
    "        \n",
    "        # sex = self.embeddings_user_sex(sex)\n",
    "        # age_group = self.embeddings_age_group(age_group)\n",
    "        # occupation = self.embeddings_user_occupation(occupation)\n",
    "        # user_features = torch.cat((user_id, sex, age_group,occupation), 1)\n",
    "        \n",
    "        return transfomer_features, user_id, target_movie_rating.float()\n",
    "    \n",
    "    def forward(self, batch):\n",
    "        transfomer_features, user_id, target_movie_rating = self.encode_input(batch)\n",
    "        transformer_output = self.transfomerlayer(transfomer_features)\n",
    "        transformer_output = torch.flatten(transformer_output,start_dim=1)\n",
    "        \n",
    "        #Concat with other features\n",
    "        features = torch.cat((user_id, transformer_output),dim=1)\n",
    "        # features = transformer_output\n",
    "\n",
    "        output = self.linear(features)\n",
    "        return output, target_movie_rating\n",
    "        \n",
    "    def training_step(self, batch, batch_idx):\n",
    "        out, target_movie_rating = self(batch)\n",
    "        out = out.flatten()\n",
    "        loss = self.criterion(out, target_movie_rating)\n",
    "        \n",
    "        mae = self.mae(out, target_movie_rating)\n",
    "        mse = self.mse(out, target_movie_rating)\n",
    "        rmse =torch.sqrt(mse)\n",
    "        self.log(\n",
    "            \"train/mae\", mae, on_step=True, on_epoch=False, prog_bar=False\n",
    "        )\n",
    "        \n",
    "        self.log(\n",
    "            \"train/rmse\", rmse, on_step=True, on_epoch=False, prog_bar=False\n",
    "        )\n",
    "        \n",
    "        self.log(\"train/step_loss\", loss, on_step=True, on_epoch=False, prog_bar=False)\n",
    "        return loss\n",
    "    \n",
    "    def validation_step(self, batch, batch_idx):\n",
    "        out, target_movie_rating = self(batch)\n",
    "        out = out.flatten()\n",
    "        loss = self.criterion(out, target_movie_rating)\n",
    "        \n",
    "        mae = self.mae(out, target_movie_rating)\n",
    "        mse = self.mse(out, target_movie_rating)\n",
    "        rmse =torch.sqrt(mse)\n",
    "        \n",
    "        return {\"val_loss\": loss, \"mae\": mae.detach(), \"rmse\":rmse.detach()}\n",
    "    \n",
    "    def test_step(self, batch, batch_idx):\n",
    "        out, target_movie_rating = self(batch)\n",
    "        out = out.flatten()\n",
    "        \n",
    "        return {\"users\": batch[0], \"top10\":out}\n",
    "\n",
    "    def validation_epoch_end(self, outputs):\n",
    "        avg_loss = torch.stack([x[\"val_loss\"] for x in outputs]).mean()\n",
    "        avg_mae = torch.stack([x[\"mae\"] for x in outputs]).mean()\n",
    "        avg_rmse = torch.stack([x[\"rmse\"] for x in outputs]).mean()\n",
    "        \n",
    "        self.log(\"val/loss\", avg_loss, on_step=False, on_epoch=True, prog_bar=False)\n",
    "        self.log(\"val/mae\", avg_mae, on_step=False, on_epoch=True, prog_bar=False)\n",
    "        self.log(\"val/rmse\", avg_rmse, on_step=False, on_epoch=True, prog_bar=False)\n",
    "\n",
    "\n",
    "    def test_epoch_end(self, outputs):\n",
    "        users = torch.cat([x[\"users\"] for x in outputs])\n",
    "        y_hat = torch.cat([x[\"top10\"] for x in outputs])\n",
    "        users = users.tolist()\n",
    "        y_hat = y_hat.tolist()\n",
    "        \n",
    "        data = {\"users\": users, \"item\": y_hat}\n",
    "        df = pd.DataFrame.from_dict(data)\n",
    "        print(len(df))\n",
    "        df.to_csv(\"lightning_logs/predict.csv\", index=False)\n",
    "\n",
    "    def configure_optimizers(self):\n",
    "        return torch.optim.AdamW(self.parameters(), lr=0.0005)\n",
    "\n",
    "    @staticmethod\n",
    "    def add_model_specific_args(parent_parser):\n",
    "        parser = ArgumentParser(parents=[parent_parser], add_help=False)\n",
    "        parser.add_argument(\"--learning_rate\", type=float, default=0.01)\n",
    "        return parser\n",
    "\n",
    "    ####################\n",
    "    # DATA RELATED HOOKS\n",
    "    ####################\n",
    "\n",
    "    def setup(self, stage=None):\n",
    "        print(\"Loading datasets\")\n",
    "        self.train_dataset = MovieDataset(\"data/train_data.csv\")\n",
    "        self.val_dataset = MovieDataset(\"data/val_data.csv\")\n",
    "        self.test_dataset = MovieDataset(\"data/test_data.csv\")\n",
    "        print(\"Done\")\n",
    "\n",
    "    def train_dataloader(self):\n",
    "        return torch.utils.data.DataLoader(\n",
    "            self.train_dataset,\n",
    "            batch_size=128,\n",
    "            shuffle=False,\n",
    "            num_workers=os.cpu_count(),\n",
    "        )\n",
    "\n",
    "    def val_dataloader(self):\n",
    "        return torch.utils.data.DataLoader(\n",
    "            self.val_dataset,\n",
    "            batch_size=128,\n",
    "            shuffle=False,\n",
    "            num_workers=os.cpu_count(),\n",
    "        )\n",
    "\n",
    "    def test_dataloader(self):\n",
    "        return torch.utils.data.DataLoader(\n",
    "            self.test_dataset,\n",
    "            batch_size=128,\n",
    "            shuffle=False,\n",
    "            num_workers=os.cpu_count(),\n",
    "        )\n",
    "        \n",
    "model = BST()\n",
    "trainer = pl.Trainer(gpus=1,max_epochs=1)\n",
    "trainer.fit(model)\n",
    "trainer.test()"
   ]
  },
  {
   "cell_type": "code",
   "execution_count": 24,
   "id": "cbc3d678",
   "metadata": {},
   "outputs": [
    {
     "data": {
      "text/plain": [
       "(11,\n",
       " tensor([4643,  170,  531,  616, 2140, 2722, 2313]),\n",
       " 2688,\n",
       " tensor([1, 1, 1, 1, 1, 1, 1]),\n",
       " 1)"
      ]
     },
     "execution_count": 24,
     "metadata": {},
     "output_type": "execute_result"
    }
   ],
   "source": [
    "model.test_dataset[0]\n",
    "# user_id, movie_history, target_movie_id,  movie_history_ratings, target_movie_rating"
   ]
  },
  {
   "cell_type": "code",
   "execution_count": null,
   "id": "bf5f0c94",
   "metadata": {},
   "outputs": [],
   "source": []
  }
 ],
 "metadata": {
  "colab": {
   "name": "pytorch-bst.ipynb",
   "provenance": []
  },
  "interpreter": {
   "hash": "d4d1e4263499bec80672ea0156c357c1ee493ec2b1c70f0acce89fc37c4a6abe"
  },
  "kernelspec": {
   "display_name": "CUDAtorch",
   "language": "python",
   "name": "python3"
  },
  "language_info": {
   "codemirror_mode": {
    "name": "ipython",
    "version": 3
   },
   "file_extension": ".py",
   "mimetype": "text/x-python",
   "name": "python",
   "nbconvert_exporter": "python",
   "pygments_lexer": "ipython3",
   "version": "3.8.5"
  }
 },
 "nbformat": 4,
 "nbformat_minor": 5
}
