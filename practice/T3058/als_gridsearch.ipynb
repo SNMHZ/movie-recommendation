{
 "cells": [
  {
   "cell_type": "code",
   "execution_count": 2,
   "metadata": {},
   "outputs": [],
   "source": [
    "import os\n",
    "\n",
    "import pandas as pd\n",
    "import numpy as np\n",
    "import scipy\n",
    "from tqdm import tqdm\n",
    "import random\n",
    "\n",
    "import implicit"
   ]
  },
  {
   "cell_type": "code",
   "execution_count": 3,
   "metadata": {},
   "outputs": [],
   "source": [
    "import os\n",
    "import time\n",
    "import argparse\n",
    "import pandas as pd\n",
    "from multiprocessing import Pool\n",
    "\n",
    "DATA_DIR = '/opt/ml/input/data/train'\n",
    "GENERAL_DIR = os.path.join(DATA_DIR, 'general')\n",
    "\n",
    "try:\n",
    "    label_df = pd.read_csv(os.path.join(GENERAL_DIR, 'test_ratings.csv'), header=0)\n",
    "except:\n",
    "    print('No test_ratings.csv found')\n",
    "    exit(0)\n",
    "\n",
    "def _worker_getRecall(user_df):\n",
    "        user, submission_df = user_df\n",
    "\n",
    "        preds = submission_df[submission_df['user'] == user]['item']\n",
    "        labels = label_df[label_df['user'] == user]['item']\n",
    "\n",
    "        # preds = label_df[label_df['user'] == user]['item']\n",
    "        # labels = submission_df[submission_df['user'] == user]['item']\n",
    "\n",
    "        return preds.isin(labels).sum() / labels.shape[0]\n",
    "\n",
    "def getRecall(submission_df):\n",
    "    with Pool(os.cpu_count()) as p:\n",
    "        users = label_df['user'].unique()\n",
    "        result = p.map(_worker_getRecall, zip(users, [submission_df]*len(users)) )\n",
    "    return sum(result) / label_df['user'].nunique()"
   ]
  },
  {
   "cell_type": "code",
   "execution_count": 4,
   "metadata": {},
   "outputs": [],
   "source": [
    "# general\n",
    "train = pd.read_csv('/opt/ml/input/data/train/general/train_ratings.csv')"
   ]
  },
  {
   "cell_type": "code",
   "execution_count": 4,
   "metadata": {},
   "outputs": [],
   "source": [
    "# total\n",
    "# train = pd.read_csv('/opt/ml/input/data/train/train_ratings.csv')"
   ]
  },
  {
   "cell_type": "code",
   "execution_count": 5,
   "metadata": {},
   "outputs": [],
   "source": [
    "LABEL_CNT = 10\n",
    "SEED = 777"
   ]
  },
  {
   "cell_type": "code",
   "execution_count": 6,
   "metadata": {},
   "outputs": [],
   "source": [
    "train['view'] = 1\n",
    "pivot = pd.pivot_table(data=train, values='view', index='user', columns='item').fillna(0)\n",
    "preference_matrix_csr = scipy.sparse.csr_matrix(pivot)"
   ]
  },
  {
   "cell_type": "code",
   "execution_count": 7,
   "metadata": {},
   "outputs": [
    {
     "data": {
      "application/vnd.jupyter.widget-view+json": {
       "model_id": "61383f0e703f4e2282c2ff28845d6874",
       "version_major": 2,
       "version_minor": 0
      },
      "text/plain": [
       "  0%|          | 0/50 [00:00<?, ?it/s]"
      ]
     },
     "metadata": {},
     "output_type": "display_data"
    }
   ],
   "source": [
    "random.seed(SEED)\n",
    "np.random.seed(SEED)\n",
    "\n",
    "# model\n",
    "als_model = implicit.als.AlternatingLeastSquares(factors=300, regularization=50, iterations=50, random_state=SEED)\n",
    "als_model.fit(preference_matrix_csr)\n",
    "als_model_df = pd.DataFrame(np.matmul(als_model.user_factors.to_numpy(), als_model.item_factors.to_numpy().T), columns=pivot.columns, index=pivot.index)\n",
    "\n",
    "# masking\n",
    "als_model_df.values[preference_matrix_csr.nonzero()]=float('-inf')\n",
    "# als_model_df_final = als_model_df - pivot * 1000\n",
    "\n",
    "# top N\n",
    "result = [ m.argpartition(-LABEL_CNT)[-LABEL_CNT:] for m in als_model_df.values ]\n",
    "# result = [m.argsort()[::-1][:50] for m in als_model_df_final.values]"
   ]
  },
  {
   "cell_type": "code",
   "execution_count": 8,
   "metadata": {},
   "outputs": [
    {
     "name": "stderr",
     "output_type": "stream",
     "text": [
      "100%|██████████| 31360/31360 [00:00<00:00, 93076.89it/s]\n"
     ]
    }
   ],
   "source": [
    "# 노필터링\n",
    "users, items = list(), list()\n",
    "item_columns = als_model_df.columns\n",
    "user_id = als_model_df.index\n",
    "for idx in tqdm(range(len(result))):\n",
    "    users.extend([user_id[idx]] * LABEL_CNT)\n",
    "    items.extend([item_columns[i] for i in result[idx]])\n",
    "    # movie_cnt = 0\n",
    "    # for i in result[idx]:\n",
    "    #     if movie_cnt < LABEL_CNT:\n",
    "    #         items.append(item_columns[i])\n",
    "    #         movie_cnt += 1\n",
    "    #     else:\n",
    "    #         break"
   ]
  },
  {
   "cell_type": "code",
   "execution_count": 9,
   "metadata": {},
   "outputs": [
    {
     "data": {
      "text/plain": [
       "0.17562792304421565"
      ]
     },
     "execution_count": 9,
     "metadata": {},
     "output_type": "execute_result"
    }
   ],
   "source": [
    "getRecall(pd.DataFrame(zip(users,items), columns=['user','item']))"
   ]
  },
  {
   "cell_type": "code",
   "execution_count": 46,
   "metadata": {},
   "outputs": [],
   "source": [
    "def getAlsPred_train_by_param(factors, iteration) -> pd.DataFrame:\n",
    "    random.seed(SEED)\n",
    "    np.random.seed(SEED)\n",
    "\n",
    "    # model\n",
    "    als_model = implicit.als.AlternatingLeastSquares(factors=factors, regularization=50, iterations=iteration, random_state=SEED)\n",
    "    als_model.fit(preference_matrix_csr)\n",
    "    als_model_df = pd.DataFrame(np.matmul(als_model.user_factors.to_numpy(), als_model.item_factors.to_numpy().T), columns=pivot.columns, index=pivot.index)\n",
    "    # masking\n",
    "    als_model_df.values[preference_matrix_csr.nonzero()]=float('-inf')\n",
    "\n",
    "    return pd.DataFrame(als_model_df, index = als_model_df.index, columns=als_model_df.columns)\n",
    "    # top N\n",
    "    result = [ m.argpartition(-LABEL_CNT)[-LABEL_CNT:] for m in als_model_df.values ]\n",
    "\n",
    "    users, items = list(), list()\n",
    "    user_id = als_model_df.index\n",
    "    item_columns = als_model_df.columns\n",
    "    for idx in tqdm(range(len(result))):\n",
    "        users.extend([user_id[idx]] * LABEL_CNT)\n",
    "        items.extend([item_columns[i] for i in result[idx]])\n",
    "    \n",
    "    return pd.DataFrame(zip(users,items), columns=['user','item'])"
   ]
  },
  {
   "cell_type": "code",
   "execution_count": 11,
   "metadata": {},
   "outputs": [
    {
     "data": {
      "text/plain": [
       "[10, 20, 30, 40, 50, 60, 70, 80, 90, 100]"
      ]
     },
     "execution_count": 11,
     "metadata": {},
     "output_type": "execute_result"
    }
   ],
   "source": [
    "list(range(10,101,10))"
   ]
  },
  {
   "cell_type": "code",
   "execution_count": 12,
   "metadata": {},
   "outputs": [
    {
     "data": {
      "application/vnd.jupyter.widget-view+json": {
       "model_id": "b9e7203c2b0247e8832b15efc90cd13e",
       "version_major": 2,
       "version_minor": 0
      },
      "text/plain": [
       "  0%|          | 0/10 [00:00<?, ?it/s]"
      ]
     },
     "metadata": {},
     "output_type": "display_data"
    },
    {
     "data": {
      "application/vnd.jupyter.widget-view+json": {
       "model_id": "c93136b0ac9b40739750ebc6ddffb503",
       "version_major": 2,
       "version_minor": 0
      },
      "text/plain": [
       "  0%|          | 0/20 [00:00<?, ?it/s]"
      ]
     },
     "metadata": {},
     "output_type": "display_data"
    },
    {
     "data": {
      "application/vnd.jupyter.widget-view+json": {
       "model_id": "0155f428912d487b9b3fe2fbb0a270bf",
       "version_major": 2,
       "version_minor": 0
      },
      "text/plain": [
       "  0%|          | 0/30 [00:00<?, ?it/s]"
      ]
     },
     "metadata": {},
     "output_type": "display_data"
    },
    {
     "data": {
      "application/vnd.jupyter.widget-view+json": {
       "model_id": "adb702801fc84e35a1a9df7bda3fdd67",
       "version_major": 2,
       "version_minor": 0
      },
      "text/plain": [
       "  0%|          | 0/40 [00:00<?, ?it/s]"
      ]
     },
     "metadata": {},
     "output_type": "display_data"
    },
    {
     "data": {
      "application/vnd.jupyter.widget-view+json": {
       "model_id": "41e9621252724131bbb0c1cbabde8817",
       "version_major": 2,
       "version_minor": 0
      },
      "text/plain": [
       "  0%|          | 0/50 [00:00<?, ?it/s]"
      ]
     },
     "metadata": {},
     "output_type": "display_data"
    },
    {
     "data": {
      "application/vnd.jupyter.widget-view+json": {
       "model_id": "df40a5ac23f6458ea5bb659d4ff8ede8",
       "version_major": 2,
       "version_minor": 0
      },
      "text/plain": [
       "  0%|          | 0/60 [00:00<?, ?it/s]"
      ]
     },
     "metadata": {},
     "output_type": "display_data"
    },
    {
     "data": {
      "application/vnd.jupyter.widget-view+json": {
       "model_id": "1e208e31b199493981a57f552d392707",
       "version_major": 2,
       "version_minor": 0
      },
      "text/plain": [
       "  0%|          | 0/70 [00:00<?, ?it/s]"
      ]
     },
     "metadata": {},
     "output_type": "display_data"
    },
    {
     "data": {
      "application/vnd.jupyter.widget-view+json": {
       "model_id": "76346a278900476da23fdd5367f9205d",
       "version_major": 2,
       "version_minor": 0
      },
      "text/plain": [
       "  0%|          | 0/80 [00:00<?, ?it/s]"
      ]
     },
     "metadata": {},
     "output_type": "display_data"
    },
    {
     "data": {
      "application/vnd.jupyter.widget-view+json": {
       "model_id": "61446f83cfc34c46baace891d622e81b",
       "version_major": 2,
       "version_minor": 0
      },
      "text/plain": [
       "  0%|          | 0/90 [00:00<?, ?it/s]"
      ]
     },
     "metadata": {},
     "output_type": "display_data"
    },
    {
     "data": {
      "application/vnd.jupyter.widget-view+json": {
       "model_id": "1a7a9d42a1db4c37ae41336233926e31",
       "version_major": 2,
       "version_minor": 0
      },
      "text/plain": [
       "  0%|          | 0/100 [00:00<?, ?it/s]"
      ]
     },
     "metadata": {},
     "output_type": "display_data"
    }
   ],
   "source": [
    "als_res_iters = [getAlsPred_train_by_param(factors=300, iteration=i) for i in range(10,101,10)]"
   ]
  },
  {
   "cell_type": "code",
   "execution_count": 13,
   "metadata": {},
   "outputs": [],
   "source": [
    "for k, df in enumerate(als_res_iters):\n",
    "    print((k+1)*10, getRecall(df))"
   ]
  },
  {
   "cell_type": "code",
   "execution_count": null,
   "metadata": {},
   "outputs": [
    {
     "data": {
      "application/vnd.jupyter.widget-view+json": {
       "model_id": "fb3df18f8d7f4d96a610e4daa5a71145",
       "version_major": 2,
       "version_minor": 0
      },
      "text/plain": [
       "  0%|          | 0/10 [00:00<?, ?it/s]"
      ]
     },
     "metadata": {},
     "output_type": "display_data"
    },
    {
     "name": "stderr",
     "output_type": "stream",
     "text": [
      "100%|██████████| 31360/31360 [00:00<00:00, 96686.92it/s]\n"
     ]
    },
    {
     "data": {
      "application/vnd.jupyter.widget-view+json": {
       "model_id": "db6901778f754ccea118c61acedde797",
       "version_major": 2,
       "version_minor": 0
      },
      "text/plain": [
       "  0%|          | 0/10 [00:00<?, ?it/s]"
      ]
     },
     "metadata": {},
     "output_type": "display_data"
    },
    {
     "name": "stderr",
     "output_type": "stream",
     "text": [
      "100%|██████████| 31360/31360 [00:00<00:00, 98652.79it/s]\n"
     ]
    },
    {
     "data": {
      "application/vnd.jupyter.widget-view+json": {
       "model_id": "aaf872ef5918439293c6f0e60d706c5c",
       "version_major": 2,
       "version_minor": 0
      },
      "text/plain": [
       "  0%|          | 0/10 [00:00<?, ?it/s]"
      ]
     },
     "metadata": {},
     "output_type": "display_data"
    },
    {
     "name": "stderr",
     "output_type": "stream",
     "text": [
      "100%|██████████| 31360/31360 [00:00<00:00, 98729.43it/s]\n"
     ]
    },
    {
     "data": {
      "application/vnd.jupyter.widget-view+json": {
       "model_id": "b2b30da675e74a07805065f953cd2597",
       "version_major": 2,
       "version_minor": 0
      },
      "text/plain": [
       "  0%|          | 0/10 [00:00<?, ?it/s]"
      ]
     },
     "metadata": {},
     "output_type": "display_data"
    },
    {
     "name": "stderr",
     "output_type": "stream",
     "text": [
      "100%|██████████| 31360/31360 [00:00<00:00, 98268.21it/s]\n"
     ]
    },
    {
     "data": {
      "application/vnd.jupyter.widget-view+json": {
       "model_id": "18614afe599942ccb0b1ab4e6c35a6c3",
       "version_major": 2,
       "version_minor": 0
      },
      "text/plain": [
       "  0%|          | 0/10 [00:00<?, ?it/s]"
      ]
     },
     "metadata": {},
     "output_type": "display_data"
    },
    {
     "name": "stderr",
     "output_type": "stream",
     "text": [
      "100%|██████████| 31360/31360 [00:00<00:00, 98511.74it/s]\n"
     ]
    },
    {
     "data": {
      "application/vnd.jupyter.widget-view+json": {
       "model_id": "f73876dcb7dc4f969147637fd2de995e",
       "version_major": 2,
       "version_minor": 0
      },
      "text/plain": [
       "  0%|          | 0/10 [00:00<?, ?it/s]"
      ]
     },
     "metadata": {},
     "output_type": "display_data"
    },
    {
     "name": "stderr",
     "output_type": "stream",
     "text": [
      "100%|██████████| 31360/31360 [00:00<00:00, 98390.67it/s]\n"
     ]
    },
    {
     "data": {
      "application/vnd.jupyter.widget-view+json": {
       "model_id": "24b0f97b04314ef5922b3bed3344cb90",
       "version_major": 2,
       "version_minor": 0
      },
      "text/plain": [
       "  0%|          | 0/10 [00:00<?, ?it/s]"
      ]
     },
     "metadata": {},
     "output_type": "display_data"
    },
    {
     "name": "stderr",
     "output_type": "stream",
     "text": [
      "100%|██████████| 31360/31360 [00:00<00:00, 99094.42it/s]\n"
     ]
    },
    {
     "data": {
      "application/vnd.jupyter.widget-view+json": {
       "model_id": "81ad430812304cb0944e5603921cbf2e",
       "version_major": 2,
       "version_minor": 0
      },
      "text/plain": [
       "  0%|          | 0/10 [00:00<?, ?it/s]"
      ]
     },
     "metadata": {},
     "output_type": "display_data"
    },
    {
     "name": "stderr",
     "output_type": "stream",
     "text": [
      "100%|██████████| 31360/31360 [00:00<00:00, 99653.21it/s] \n"
     ]
    },
    {
     "data": {
      "application/vnd.jupyter.widget-view+json": {
       "model_id": "6f1403496ea34fb3bce2942b67c6c500",
       "version_major": 2,
       "version_minor": 0
      },
      "text/plain": [
       "  0%|          | 0/10 [00:00<?, ?it/s]"
      ]
     },
     "metadata": {},
     "output_type": "display_data"
    },
    {
     "name": "stderr",
     "output_type": "stream",
     "text": [
      "100%|██████████| 31360/31360 [00:00<00:00, 99306.90it/s] \n"
     ]
    },
    {
     "data": {
      "application/vnd.jupyter.widget-view+json": {
       "model_id": "c333927917104978892032e83e491acc",
       "version_major": 2,
       "version_minor": 0
      },
      "text/plain": [
       "  0%|          | 0/10 [00:00<?, ?it/s]"
      ]
     },
     "metadata": {},
     "output_type": "display_data"
    },
    {
     "name": "stderr",
     "output_type": "stream",
     "text": [
      "100%|██████████| 31360/31360 [00:00<00:00, 99302.62it/s] \n"
     ]
    },
    {
     "data": {
      "application/vnd.jupyter.widget-view+json": {
       "model_id": "7cde61a8bf154aa89c332fa558969d7f",
       "version_major": 2,
       "version_minor": 0
      },
      "text/plain": [
       "  0%|          | 0/10 [00:00<?, ?it/s]"
      ]
     },
     "metadata": {},
     "output_type": "display_data"
    },
    {
     "name": "stderr",
     "output_type": "stream",
     "text": [
      "100%|██████████| 31360/31360 [00:00<00:00, 100307.92it/s]\n"
     ]
    },
    {
     "data": {
      "application/vnd.jupyter.widget-view+json": {
       "model_id": "bb73cbdeab7d4ac4ad6651b28ba4cad1",
       "version_major": 2,
       "version_minor": 0
      },
      "text/plain": [
       "  0%|          | 0/10 [00:00<?, ?it/s]"
      ]
     },
     "metadata": {},
     "output_type": "display_data"
    },
    {
     "name": "stderr",
     "output_type": "stream",
     "text": [
      "100%|██████████| 31360/31360 [00:00<00:00, 99174.96it/s]\n"
     ]
    },
    {
     "data": {
      "application/vnd.jupyter.widget-view+json": {
       "model_id": "c53a6514bccc4847b16c6f329b1e2055",
       "version_major": 2,
       "version_minor": 0
      },
      "text/plain": [
       "  0%|          | 0/10 [00:00<?, ?it/s]"
      ]
     },
     "metadata": {},
     "output_type": "display_data"
    },
    {
     "name": "stderr",
     "output_type": "stream",
     "text": [
      "100%|██████████| 31360/31360 [00:00<00:00, 99579.73it/s] \n"
     ]
    },
    {
     "data": {
      "application/vnd.jupyter.widget-view+json": {
       "model_id": "831fcd31aabd4e908851c804c64b7016",
       "version_major": 2,
       "version_minor": 0
      },
      "text/plain": [
       "  0%|          | 0/10 [00:00<?, ?it/s]"
      ]
     },
     "metadata": {},
     "output_type": "display_data"
    },
    {
     "name": "stderr",
     "output_type": "stream",
     "text": [
      "100%|██████████| 31360/31360 [00:00<00:00, 99793.24it/s] \n"
     ]
    },
    {
     "data": {
      "application/vnd.jupyter.widget-view+json": {
       "model_id": "1a66ade1a28c47ae88de77b75eafdfa5",
       "version_major": 2,
       "version_minor": 0
      },
      "text/plain": [
       "  0%|          | 0/10 [00:00<?, ?it/s]"
      ]
     },
     "metadata": {},
     "output_type": "display_data"
    },
    {
     "name": "stderr",
     "output_type": "stream",
     "text": [
      "100%|██████████| 31360/31360 [00:00<00:00, 99407.99it/s] \n"
     ]
    },
    {
     "data": {
      "application/vnd.jupyter.widget-view+json": {
       "model_id": "b467122e2b4a423b8a5a8c53538790d3",
       "version_major": 2,
       "version_minor": 0
      },
      "text/plain": [
       "  0%|          | 0/10 [00:00<?, ?it/s]"
      ]
     },
     "metadata": {},
     "output_type": "display_data"
    },
    {
     "name": "stderr",
     "output_type": "stream",
     "text": [
      "100%|██████████| 31360/31360 [00:00<00:00, 99352.35it/s] \n"
     ]
    },
    {
     "data": {
      "application/vnd.jupyter.widget-view+json": {
       "model_id": "c2a089b7634546769f509304b011a044",
       "version_major": 2,
       "version_minor": 0
      },
      "text/plain": [
       "  0%|          | 0/10 [00:00<?, ?it/s]"
      ]
     },
     "metadata": {},
     "output_type": "display_data"
    },
    {
     "name": "stderr",
     "output_type": "stream",
     "text": [
      "100%|██████████| 31360/31360 [00:00<00:00, 98918.77it/s]\n"
     ]
    },
    {
     "data": {
      "application/vnd.jupyter.widget-view+json": {
       "model_id": "4f10555bf9e44533ab135453f9b10756",
       "version_major": 2,
       "version_minor": 0
      },
      "text/plain": [
       "  0%|          | 0/10 [00:00<?, ?it/s]"
      ]
     },
     "metadata": {},
     "output_type": "display_data"
    },
    {
     "name": "stderr",
     "output_type": "stream",
     "text": [
      "100%|██████████| 31360/31360 [00:00<00:00, 99141.55it/s]\n"
     ]
    },
    {
     "data": {
      "application/vnd.jupyter.widget-view+json": {
       "model_id": "f4e299b3e2734b3ab12892ef4042453f",
       "version_major": 2,
       "version_minor": 0
      },
      "text/plain": [
       "  0%|          | 0/10 [00:00<?, ?it/s]"
      ]
     },
     "metadata": {},
     "output_type": "display_data"
    },
    {
     "name": "stderr",
     "output_type": "stream",
     "text": [
      "100%|██████████| 31360/31360 [00:00<00:00, 94659.65it/s]\n"
     ]
    },
    {
     "data": {
      "application/vnd.jupyter.widget-view+json": {
       "model_id": "86889f4d1e964b049d6fa706f5e587dd",
       "version_major": 2,
       "version_minor": 0
      },
      "text/plain": [
       "  0%|          | 0/10 [00:00<?, ?it/s]"
      ]
     },
     "metadata": {},
     "output_type": "display_data"
    },
    {
     "name": "stderr",
     "output_type": "stream",
     "text": [
      "100%|██████████| 31360/31360 [00:00<00:00, 97464.62it/s]\n"
     ]
    }
   ],
   "source": [
    "als_res_factors = [getAlsPred_train_by_param(factors=i, iteration=10) for i in range(50,1001,50)]"
   ]
  },
  {
   "cell_type": "code",
   "execution_count": null,
   "metadata": {},
   "outputs": [
    {
     "name": "stdout",
     "output_type": "stream",
     "text": [
      "50 0.1631944444444373\n",
      "100 0.16795528628117357\n",
      "150 0.16836947278910977\n",
      "200 0.16846513605441604\n",
      "250 0.1685289115646198\n",
      "300 0.16836628401359968\n",
      "350 0.1682514880952318\n",
      "400 0.1683570719954591\n",
      "450 0.16792942176870107\n",
      "500 0.16791383219954034\n",
      "550 0.16775439342403015\n",
      "600 0.16764916383219347\n",
      "650 0.16733347505668278\n",
      "700 0.16729839852607079\n",
      "750 0.16714214852607087\n",
      "800 0.16709112811790766\n",
      "850 0.1670624291383154\n",
      "900 0.1669093679138257\n",
      "950 0.16659447633219313\n",
      "1000 0.16647569444443802\n"
     ]
    }
   ],
   "source": [
    "for k, df in enumerate(als_res_factors):\n",
    "    print(k*50+50, getRecall(df))"
   ]
  },
  {
   "cell_type": "code",
   "execution_count": 11,
   "metadata": {},
   "outputs": [
    {
     "data": {
      "application/vnd.jupyter.widget-view+json": {
       "model_id": "6fdf7bb42571424ea1c8431f77d10d08",
       "version_major": 2,
       "version_minor": 0
      },
      "text/plain": [
       "  0%|          | 0/90 [00:00<?, ?it/s]"
      ]
     },
     "metadata": {},
     "output_type": "display_data"
    }
   ],
   "source": [
    "res = getAlsPred_train_by_param(factors=300, iteration=90)"
   ]
  },
  {
   "cell_type": "code",
   "execution_count": 72,
   "metadata": {},
   "outputs": [],
   "source": [
    "res.to_csv('als_300_90.csv', index=False)"
   ]
  },
  {
   "cell_type": "code",
   "execution_count": 12,
   "metadata": {},
   "outputs": [],
   "source": [
    "from zease_rec.ease_rec.model import EASE\n",
    "import pandas as pd\n",
    "import numpy as np\n",
    "from tqdm import tqdm"
   ]
  },
  {
   "cell_type": "code",
   "execution_count": 13,
   "metadata": {},
   "outputs": [],
   "source": [
    "\n",
    "df = pd.read_csv('/opt/ml/input/code/data/train/train_ratings.csv')\n",
    "df[\"time\"] = 1\n",
    "df[\"rating\"] = df[\"time\"]\n",
    "df = df.drop(\"time\", axis = 1)"
   ]
  },
  {
   "cell_type": "code",
   "execution_count": 14,
   "metadata": {},
   "outputs": [],
   "source": [
    "ease = EASE()\n",
    "ease.fit(df)"
   ]
  },
  {
   "cell_type": "code",
   "execution_count": 15,
   "metadata": {},
   "outputs": [
    {
     "data": {
      "text/html": [
       "<div>\n",
       "<style scoped>\n",
       "    .dataframe tbody tr th:only-of-type {\n",
       "        vertical-align: middle;\n",
       "    }\n",
       "\n",
       "    .dataframe tbody tr th {\n",
       "        vertical-align: top;\n",
       "    }\n",
       "\n",
       "    .dataframe thead th {\n",
       "        text-align: right;\n",
       "    }\n",
       "</style>\n",
       "<table border=\"1\" class=\"dataframe\">\n",
       "  <thead>\n",
       "    <tr style=\"text-align: right;\">\n",
       "      <th></th>\n",
       "      <th>1</th>\n",
       "      <th>2</th>\n",
       "      <th>3</th>\n",
       "      <th>4</th>\n",
       "      <th>5</th>\n",
       "      <th>6</th>\n",
       "      <th>7</th>\n",
       "      <th>8</th>\n",
       "      <th>9</th>\n",
       "      <th>10</th>\n",
       "      <th>...</th>\n",
       "      <th>116823</th>\n",
       "      <th>117176</th>\n",
       "      <th>117533</th>\n",
       "      <th>117881</th>\n",
       "      <th>118696</th>\n",
       "      <th>118700</th>\n",
       "      <th>118900</th>\n",
       "      <th>118997</th>\n",
       "      <th>119141</th>\n",
       "      <th>119145</th>\n",
       "    </tr>\n",
       "  </thead>\n",
       "  <tbody>\n",
       "    <tr>\n",
       "      <th>11</th>\n",
       "      <td>1.258381</td>\n",
       "      <td>0.250919</td>\n",
       "      <td>-0.055039</td>\n",
       "      <td>0.006458</td>\n",
       "      <td>0.134333</td>\n",
       "      <td>-0.107586</td>\n",
       "      <td>-0.050891</td>\n",
       "      <td>0.022107</td>\n",
       "      <td>-0.027569</td>\n",
       "      <td>-0.279545</td>\n",
       "      <td>...</td>\n",
       "      <td>-0.027983</td>\n",
       "      <td>0.035127</td>\n",
       "      <td>-0.017318</td>\n",
       "      <td>-0.006492</td>\n",
       "      <td>-0.033234</td>\n",
       "      <td>-0.020554</td>\n",
       "      <td>0.005417</td>\n",
       "      <td>-0.011128</td>\n",
       "      <td>-0.010236</td>\n",
       "      <td>0.021098</td>\n",
       "    </tr>\n",
       "    <tr>\n",
       "      <th>14</th>\n",
       "      <td>0.803931</td>\n",
       "      <td>-0.025579</td>\n",
       "      <td>0.097246</td>\n",
       "      <td>0.018633</td>\n",
       "      <td>0.114207</td>\n",
       "      <td>-0.207166</td>\n",
       "      <td>0.503053</td>\n",
       "      <td>0.057501</td>\n",
       "      <td>-0.016112</td>\n",
       "      <td>-0.086544</td>\n",
       "      <td>...</td>\n",
       "      <td>-0.018831</td>\n",
       "      <td>-0.031491</td>\n",
       "      <td>-0.007077</td>\n",
       "      <td>-0.020517</td>\n",
       "      <td>-0.016586</td>\n",
       "      <td>0.006714</td>\n",
       "      <td>-0.002908</td>\n",
       "      <td>0.021961</td>\n",
       "      <td>-0.007562</td>\n",
       "      <td>0.009450</td>\n",
       "    </tr>\n",
       "    <tr>\n",
       "      <th>18</th>\n",
       "      <td>-0.018633</td>\n",
       "      <td>-0.106086</td>\n",
       "      <td>-0.069810</td>\n",
       "      <td>0.002768</td>\n",
       "      <td>-0.005774</td>\n",
       "      <td>-0.039691</td>\n",
       "      <td>-0.039332</td>\n",
       "      <td>-0.016880</td>\n",
       "      <td>0.036858</td>\n",
       "      <td>0.185123</td>\n",
       "      <td>...</td>\n",
       "      <td>-0.005679</td>\n",
       "      <td>-0.004353</td>\n",
       "      <td>-0.037844</td>\n",
       "      <td>-0.010111</td>\n",
       "      <td>0.021173</td>\n",
       "      <td>0.035211</td>\n",
       "      <td>0.007655</td>\n",
       "      <td>-0.005321</td>\n",
       "      <td>-0.018572</td>\n",
       "      <td>0.004717</td>\n",
       "    </tr>\n",
       "    <tr>\n",
       "      <th>25</th>\n",
       "      <td>0.555131</td>\n",
       "      <td>0.286341</td>\n",
       "      <td>0.071230</td>\n",
       "      <td>0.007592</td>\n",
       "      <td>0.023211</td>\n",
       "      <td>0.133739</td>\n",
       "      <td>-0.047326</td>\n",
       "      <td>-0.003105</td>\n",
       "      <td>0.010604</td>\n",
       "      <td>0.232436</td>\n",
       "      <td>...</td>\n",
       "      <td>0.005987</td>\n",
       "      <td>0.001174</td>\n",
       "      <td>-0.002946</td>\n",
       "      <td>-0.007046</td>\n",
       "      <td>-0.013003</td>\n",
       "      <td>0.001047</td>\n",
       "      <td>0.004012</td>\n",
       "      <td>0.002411</td>\n",
       "      <td>0.002830</td>\n",
       "      <td>0.004853</td>\n",
       "    </tr>\n",
       "    <tr>\n",
       "      <th>31</th>\n",
       "      <td>0.272176</td>\n",
       "      <td>-0.151521</td>\n",
       "      <td>0.022918</td>\n",
       "      <td>-0.035111</td>\n",
       "      <td>0.036588</td>\n",
       "      <td>-0.018155</td>\n",
       "      <td>-0.051333</td>\n",
       "      <td>-0.013300</td>\n",
       "      <td>0.006758</td>\n",
       "      <td>-0.194501</td>\n",
       "      <td>...</td>\n",
       "      <td>0.201127</td>\n",
       "      <td>-0.051806</td>\n",
       "      <td>0.034046</td>\n",
       "      <td>0.002090</td>\n",
       "      <td>0.250195</td>\n",
       "      <td>0.002007</td>\n",
       "      <td>-0.000831</td>\n",
       "      <td>0.061271</td>\n",
       "      <td>0.089862</td>\n",
       "      <td>0.043675</td>\n",
       "    </tr>\n",
       "    <tr>\n",
       "      <th>...</th>\n",
       "      <td>...</td>\n",
       "      <td>...</td>\n",
       "      <td>...</td>\n",
       "      <td>...</td>\n",
       "      <td>...</td>\n",
       "      <td>...</td>\n",
       "      <td>...</td>\n",
       "      <td>...</td>\n",
       "      <td>...</td>\n",
       "      <td>...</td>\n",
       "      <td>...</td>\n",
       "      <td>...</td>\n",
       "      <td>...</td>\n",
       "      <td>...</td>\n",
       "      <td>...</td>\n",
       "      <td>...</td>\n",
       "      <td>...</td>\n",
       "      <td>...</td>\n",
       "      <td>...</td>\n",
       "      <td>...</td>\n",
       "      <td>...</td>\n",
       "    </tr>\n",
       "    <tr>\n",
       "      <th>138473</th>\n",
       "      <td>0.257500</td>\n",
       "      <td>0.161101</td>\n",
       "      <td>-0.003286</td>\n",
       "      <td>0.006881</td>\n",
       "      <td>0.024166</td>\n",
       "      <td>0.109546</td>\n",
       "      <td>0.011954</td>\n",
       "      <td>0.002995</td>\n",
       "      <td>-0.017070</td>\n",
       "      <td>-0.120643</td>\n",
       "      <td>...</td>\n",
       "      <td>0.024772</td>\n",
       "      <td>-0.007064</td>\n",
       "      <td>-0.010112</td>\n",
       "      <td>-0.000631</td>\n",
       "      <td>-0.008343</td>\n",
       "      <td>0.004888</td>\n",
       "      <td>0.007438</td>\n",
       "      <td>-0.004843</td>\n",
       "      <td>0.018046</td>\n",
       "      <td>-0.011270</td>\n",
       "    </tr>\n",
       "    <tr>\n",
       "      <th>138475</th>\n",
       "      <td>0.096747</td>\n",
       "      <td>-0.134284</td>\n",
       "      <td>-0.082431</td>\n",
       "      <td>0.027418</td>\n",
       "      <td>-0.044292</td>\n",
       "      <td>-0.207432</td>\n",
       "      <td>-0.009193</td>\n",
       "      <td>0.000422</td>\n",
       "      <td>-0.033554</td>\n",
       "      <td>0.151003</td>\n",
       "      <td>...</td>\n",
       "      <td>-0.068037</td>\n",
       "      <td>-0.002289</td>\n",
       "      <td>-0.031778</td>\n",
       "      <td>0.028999</td>\n",
       "      <td>0.027839</td>\n",
       "      <td>-0.026070</td>\n",
       "      <td>-0.018859</td>\n",
       "      <td>-0.017275</td>\n",
       "      <td>-0.015674</td>\n",
       "      <td>-0.026932</td>\n",
       "    </tr>\n",
       "    <tr>\n",
       "      <th>138486</th>\n",
       "      <td>0.957625</td>\n",
       "      <td>0.404350</td>\n",
       "      <td>0.020889</td>\n",
       "      <td>-0.004020</td>\n",
       "      <td>-0.017058</td>\n",
       "      <td>0.058989</td>\n",
       "      <td>-0.044771</td>\n",
       "      <td>0.001502</td>\n",
       "      <td>-0.014831</td>\n",
       "      <td>0.261850</td>\n",
       "      <td>...</td>\n",
       "      <td>0.002541</td>\n",
       "      <td>-0.013237</td>\n",
       "      <td>-0.003281</td>\n",
       "      <td>0.016377</td>\n",
       "      <td>-0.009025</td>\n",
       "      <td>0.002501</td>\n",
       "      <td>-0.020657</td>\n",
       "      <td>0.030430</td>\n",
       "      <td>-0.033772</td>\n",
       "      <td>0.022859</td>\n",
       "    </tr>\n",
       "    <tr>\n",
       "      <th>138492</th>\n",
       "      <td>0.210544</td>\n",
       "      <td>-0.088471</td>\n",
       "      <td>0.010329</td>\n",
       "      <td>-0.000670</td>\n",
       "      <td>0.004211</td>\n",
       "      <td>0.124843</td>\n",
       "      <td>0.020910</td>\n",
       "      <td>0.003286</td>\n",
       "      <td>-0.025106</td>\n",
       "      <td>-0.043644</td>\n",
       "      <td>...</td>\n",
       "      <td>-0.013279</td>\n",
       "      <td>-0.000515</td>\n",
       "      <td>0.005927</td>\n",
       "      <td>0.001287</td>\n",
       "      <td>-0.011733</td>\n",
       "      <td>-0.003140</td>\n",
       "      <td>-0.009762</td>\n",
       "      <td>-0.011064</td>\n",
       "      <td>0.013494</td>\n",
       "      <td>-0.013387</td>\n",
       "    </tr>\n",
       "    <tr>\n",
       "      <th>138493</th>\n",
       "      <td>1.256696</td>\n",
       "      <td>0.868945</td>\n",
       "      <td>0.011196</td>\n",
       "      <td>-0.036160</td>\n",
       "      <td>-0.003497</td>\n",
       "      <td>0.019393</td>\n",
       "      <td>0.003893</td>\n",
       "      <td>0.027364</td>\n",
       "      <td>0.038693</td>\n",
       "      <td>0.357528</td>\n",
       "      <td>...</td>\n",
       "      <td>-0.008529</td>\n",
       "      <td>-0.058380</td>\n",
       "      <td>0.010917</td>\n",
       "      <td>0.017606</td>\n",
       "      <td>0.057178</td>\n",
       "      <td>-0.007693</td>\n",
       "      <td>0.002073</td>\n",
       "      <td>0.021742</td>\n",
       "      <td>0.017946</td>\n",
       "      <td>-0.009731</td>\n",
       "    </tr>\n",
       "  </tbody>\n",
       "</table>\n",
       "<p>31360 rows × 6807 columns</p>\n",
       "</div>"
      ],
      "text/plain": [
       "          1         2         3         4         5         6         7       \\\n",
       "11      1.258381  0.250919 -0.055039  0.006458  0.134333 -0.107586 -0.050891   \n",
       "14      0.803931 -0.025579  0.097246  0.018633  0.114207 -0.207166  0.503053   \n",
       "18     -0.018633 -0.106086 -0.069810  0.002768 -0.005774 -0.039691 -0.039332   \n",
       "25      0.555131  0.286341  0.071230  0.007592  0.023211  0.133739 -0.047326   \n",
       "31      0.272176 -0.151521  0.022918 -0.035111  0.036588 -0.018155 -0.051333   \n",
       "...          ...       ...       ...       ...       ...       ...       ...   \n",
       "138473  0.257500  0.161101 -0.003286  0.006881  0.024166  0.109546  0.011954   \n",
       "138475  0.096747 -0.134284 -0.082431  0.027418 -0.044292 -0.207432 -0.009193   \n",
       "138486  0.957625  0.404350  0.020889 -0.004020 -0.017058  0.058989 -0.044771   \n",
       "138492  0.210544 -0.088471  0.010329 -0.000670  0.004211  0.124843  0.020910   \n",
       "138493  1.256696  0.868945  0.011196 -0.036160 -0.003497  0.019393  0.003893   \n",
       "\n",
       "          8         9         10      ...    116823    117176    117533  \\\n",
       "11      0.022107 -0.027569 -0.279545  ... -0.027983  0.035127 -0.017318   \n",
       "14      0.057501 -0.016112 -0.086544  ... -0.018831 -0.031491 -0.007077   \n",
       "18     -0.016880  0.036858  0.185123  ... -0.005679 -0.004353 -0.037844   \n",
       "25     -0.003105  0.010604  0.232436  ...  0.005987  0.001174 -0.002946   \n",
       "31     -0.013300  0.006758 -0.194501  ...  0.201127 -0.051806  0.034046   \n",
       "...          ...       ...       ...  ...       ...       ...       ...   \n",
       "138473  0.002995 -0.017070 -0.120643  ...  0.024772 -0.007064 -0.010112   \n",
       "138475  0.000422 -0.033554  0.151003  ... -0.068037 -0.002289 -0.031778   \n",
       "138486  0.001502 -0.014831  0.261850  ...  0.002541 -0.013237 -0.003281   \n",
       "138492  0.003286 -0.025106 -0.043644  ... -0.013279 -0.000515  0.005927   \n",
       "138493  0.027364  0.038693  0.357528  ... -0.008529 -0.058380  0.010917   \n",
       "\n",
       "          117881    118696    118700    118900    118997    119141    119145  \n",
       "11     -0.006492 -0.033234 -0.020554  0.005417 -0.011128 -0.010236  0.021098  \n",
       "14     -0.020517 -0.016586  0.006714 -0.002908  0.021961 -0.007562  0.009450  \n",
       "18     -0.010111  0.021173  0.035211  0.007655 -0.005321 -0.018572  0.004717  \n",
       "25     -0.007046 -0.013003  0.001047  0.004012  0.002411  0.002830  0.004853  \n",
       "31      0.002090  0.250195  0.002007 -0.000831  0.061271  0.089862  0.043675  \n",
       "...          ...       ...       ...       ...       ...       ...       ...  \n",
       "138473 -0.000631 -0.008343  0.004888  0.007438 -0.004843  0.018046 -0.011270  \n",
       "138475  0.028999  0.027839 -0.026070 -0.018859 -0.017275 -0.015674 -0.026932  \n",
       "138486  0.016377 -0.009025  0.002501 -0.020657  0.030430 -0.033772  0.022859  \n",
       "138492  0.001287 -0.011733 -0.003140 -0.009762 -0.011064  0.013494 -0.013387  \n",
       "138493  0.017606  0.057178 -0.007693  0.002073  0.021742  0.017946 -0.009731  \n",
       "\n",
       "[31360 rows x 6807 columns]"
      ]
     },
     "execution_count": 15,
     "metadata": {},
     "output_type": "execute_result"
    }
   ],
   "source": [
    "answer_df = pd.DataFrame(ease.pred)\n",
    "answer_df.columns = ease.item_enc.inverse_transform(answer_df.columns)\n",
    "answer_df.index = ease.user_enc.inverse_transform(answer_df.index)\n",
    "answer_df"
   ]
  },
  {
   "cell_type": "code",
   "execution_count": null,
   "metadata": {},
   "outputs": [],
   "source": [
    "#(1) min max 정규화\n",
    "ans_mini = answer_df.min().min()\n",
    "ans_maxi = answer_df.max().max()-ans_mini\n",
    "res_mini = res.min().min()\n",
    "res_maxi = res.max().max()-res_mini\n",
    "norm_answer_df = answer_df.apply(lambda x:(x-ans_mini)/ans_maxi)\n",
    "norm_res = res.apply(lambda x:(x-res_mini)/res_maxi)"
   ]
  },
  {
   "cell_type": "code",
   "execution_count": 32,
   "metadata": {},
   "outputs": [],
   "source": [
    "#(2) standarization 정규화\n",
    "# mean_res = res.mean().mean()\n",
    "# var_res = res.apply(lambda x: (x-mean_res)**2)\n",
    "# dev_res = (var_res.sum().sum()/var_res.size)**0.5\n",
    "\n",
    "# mean_ans = answer_df.mean().mean()\n",
    "# var_ans = answer_df.apply(lambda x: (x-mean_ans)**2)\n",
    "# dev_ans = (var_ans.sum().sum()/var_ans.size)**0.5\n",
    "# norm_answer_df = answer_df.apply(lambda x: (x-mean_ans)/dev_ans)\n",
    "# norm_res = res.apply(lambda x: (x-mean_res)/dev_res)\n"
   ]
  },
  {
   "cell_type": "code",
   "execution_count": 39,
   "metadata": {},
   "outputs": [
    {
     "data": {
      "text/html": [
       "<div>\n",
       "<style scoped>\n",
       "    .dataframe tbody tr th:only-of-type {\n",
       "        vertical-align: middle;\n",
       "    }\n",
       "\n",
       "    .dataframe tbody tr th {\n",
       "        vertical-align: top;\n",
       "    }\n",
       "\n",
       "    .dataframe thead th {\n",
       "        text-align: right;\n",
       "    }\n",
       "</style>\n",
       "<table border=\"1\" class=\"dataframe\">\n",
       "  <thead>\n",
       "    <tr style=\"text-align: right;\">\n",
       "      <th>item</th>\n",
       "      <th>1</th>\n",
       "      <th>2</th>\n",
       "      <th>3</th>\n",
       "      <th>4</th>\n",
       "      <th>5</th>\n",
       "      <th>6</th>\n",
       "      <th>7</th>\n",
       "      <th>8</th>\n",
       "      <th>9</th>\n",
       "      <th>10</th>\n",
       "      <th>...</th>\n",
       "      <th>116823</th>\n",
       "      <th>117176</th>\n",
       "      <th>117533</th>\n",
       "      <th>117881</th>\n",
       "      <th>118696</th>\n",
       "      <th>118700</th>\n",
       "      <th>118900</th>\n",
       "      <th>118997</th>\n",
       "      <th>119141</th>\n",
       "      <th>119145</th>\n",
       "    </tr>\n",
       "    <tr>\n",
       "      <th>user</th>\n",
       "      <th></th>\n",
       "      <th></th>\n",
       "      <th></th>\n",
       "      <th></th>\n",
       "      <th></th>\n",
       "      <th></th>\n",
       "      <th></th>\n",
       "      <th></th>\n",
       "      <th></th>\n",
       "      <th></th>\n",
       "      <th></th>\n",
       "      <th></th>\n",
       "      <th></th>\n",
       "      <th></th>\n",
       "      <th></th>\n",
       "      <th></th>\n",
       "      <th></th>\n",
       "      <th></th>\n",
       "      <th></th>\n",
       "      <th></th>\n",
       "      <th></th>\n",
       "    </tr>\n",
       "  </thead>\n",
       "  <tbody>\n",
       "    <tr>\n",
       "      <th>11</th>\n",
       "      <td>0.590686</td>\n",
       "      <td>0.436315</td>\n",
       "      <td>0.164056</td>\n",
       "      <td>0.149661</td>\n",
       "      <td>0.178553</td>\n",
       "      <td>0.152783</td>\n",
       "      <td>0.169440</td>\n",
       "      <td>0.156982</td>\n",
       "      <td>0.157862</td>\n",
       "      <td>0.293461</td>\n",
       "      <td>...</td>\n",
       "      <td>0.149415</td>\n",
       "      <td>0.146229</td>\n",
       "      <td>0.147986</td>\n",
       "      <td>0.147851</td>\n",
       "      <td>0.152781</td>\n",
       "      <td>0.147918</td>\n",
       "      <td>0.148042</td>\n",
       "      <td>0.148921</td>\n",
       "      <td>0.149909</td>\n",
       "      <td>0.147979</td>\n",
       "    </tr>\n",
       "    <tr>\n",
       "      <th>14</th>\n",
       "      <td>0.413830</td>\n",
       "      <td>0.224749</td>\n",
       "      <td>0.176305</td>\n",
       "      <td>0.147986</td>\n",
       "      <td>0.188541</td>\n",
       "      <td>0.148557</td>\n",
       "      <td>0.210043</td>\n",
       "      <td>0.153407</td>\n",
       "      <td>0.146723</td>\n",
       "      <td>0.164259</td>\n",
       "      <td>...</td>\n",
       "      <td>0.150881</td>\n",
       "      <td>0.149860</td>\n",
       "      <td>0.147607</td>\n",
       "      <td>0.148408</td>\n",
       "      <td>0.147180</td>\n",
       "      <td>0.148362</td>\n",
       "      <td>0.148504</td>\n",
       "      <td>0.151966</td>\n",
       "      <td>0.147015</td>\n",
       "      <td>0.148522</td>\n",
       "    </tr>\n",
       "    <tr>\n",
       "      <th>18</th>\n",
       "      <td>0.189386</td>\n",
       "      <td>0.142204</td>\n",
       "      <td>0.152650</td>\n",
       "      <td>0.148631</td>\n",
       "      <td>0.147392</td>\n",
       "      <td>0.142996</td>\n",
       "      <td>0.148320</td>\n",
       "      <td>0.148347</td>\n",
       "      <td>0.148262</td>\n",
       "      <td>0.146321</td>\n",
       "      <td>...</td>\n",
       "      <td>0.147032</td>\n",
       "      <td>0.148899</td>\n",
       "      <td>0.148298</td>\n",
       "      <td>0.148656</td>\n",
       "      <td>0.147489</td>\n",
       "      <td>0.148358</td>\n",
       "      <td>0.148090</td>\n",
       "      <td>0.147292</td>\n",
       "      <td>0.147900</td>\n",
       "      <td>0.147318</td>\n",
       "    </tr>\n",
       "    <tr>\n",
       "      <th>25</th>\n",
       "      <td>0.303159</td>\n",
       "      <td>0.222593</td>\n",
       "      <td>0.167647</td>\n",
       "      <td>0.148994</td>\n",
       "      <td>0.155234</td>\n",
       "      <td>0.208121</td>\n",
       "      <td>0.152072</td>\n",
       "      <td>0.149357</td>\n",
       "      <td>0.148468</td>\n",
       "      <td>0.215908</td>\n",
       "      <td>...</td>\n",
       "      <td>0.148162</td>\n",
       "      <td>0.148105</td>\n",
       "      <td>0.147863</td>\n",
       "      <td>0.147896</td>\n",
       "      <td>0.148328</td>\n",
       "      <td>0.148510</td>\n",
       "      <td>0.148725</td>\n",
       "      <td>0.148160</td>\n",
       "      <td>0.148657</td>\n",
       "      <td>0.147921</td>\n",
       "    </tr>\n",
       "    <tr>\n",
       "      <th>31</th>\n",
       "      <td>0.243768</td>\n",
       "      <td>0.185262</td>\n",
       "      <td>0.146363</td>\n",
       "      <td>0.148180</td>\n",
       "      <td>0.146792</td>\n",
       "      <td>0.135421</td>\n",
       "      <td>0.150410</td>\n",
       "      <td>0.149365</td>\n",
       "      <td>0.149662</td>\n",
       "      <td>0.129113</td>\n",
       "      <td>...</td>\n",
       "      <td>0.176880</td>\n",
       "      <td>0.154306</td>\n",
       "      <td>0.147899</td>\n",
       "      <td>0.147987</td>\n",
       "      <td>0.182374</td>\n",
       "      <td>0.148210</td>\n",
       "      <td>0.148739</td>\n",
       "      <td>0.153369</td>\n",
       "      <td>0.156942</td>\n",
       "      <td>0.154333</td>\n",
       "    </tr>\n",
       "    <tr>\n",
       "      <th>...</th>\n",
       "      <td>...</td>\n",
       "      <td>...</td>\n",
       "      <td>...</td>\n",
       "      <td>...</td>\n",
       "      <td>...</td>\n",
       "      <td>...</td>\n",
       "      <td>...</td>\n",
       "      <td>...</td>\n",
       "      <td>...</td>\n",
       "      <td>...</td>\n",
       "      <td>...</td>\n",
       "      <td>...</td>\n",
       "      <td>...</td>\n",
       "      <td>...</td>\n",
       "      <td>...</td>\n",
       "      <td>...</td>\n",
       "      <td>...</td>\n",
       "      <td>...</td>\n",
       "      <td>...</td>\n",
       "      <td>...</td>\n",
       "      <td>...</td>\n",
       "    </tr>\n",
       "    <tr>\n",
       "      <th>138473</th>\n",
       "      <td>0.311912</td>\n",
       "      <td>0.167624</td>\n",
       "      <td>0.148475</td>\n",
       "      <td>0.148676</td>\n",
       "      <td>0.149148</td>\n",
       "      <td>0.192778</td>\n",
       "      <td>0.145550</td>\n",
       "      <td>0.148727</td>\n",
       "      <td>0.147581</td>\n",
       "      <td>0.144020</td>\n",
       "      <td>...</td>\n",
       "      <td>0.149220</td>\n",
       "      <td>0.149194</td>\n",
       "      <td>0.148087</td>\n",
       "      <td>0.148552</td>\n",
       "      <td>0.148866</td>\n",
       "      <td>0.148254</td>\n",
       "      <td>0.148506</td>\n",
       "      <td>0.148676</td>\n",
       "      <td>0.148775</td>\n",
       "      <td>0.148778</td>\n",
       "    </tr>\n",
       "    <tr>\n",
       "      <th>138475</th>\n",
       "      <td>0.161018</td>\n",
       "      <td>0.128390</td>\n",
       "      <td>0.145687</td>\n",
       "      <td>0.148177</td>\n",
       "      <td>0.148802</td>\n",
       "      <td>0.174122</td>\n",
       "      <td>0.145169</td>\n",
       "      <td>0.146971</td>\n",
       "      <td>0.148363</td>\n",
       "      <td>0.148116</td>\n",
       "      <td>...</td>\n",
       "      <td>0.147457</td>\n",
       "      <td>0.146881</td>\n",
       "      <td>0.148476</td>\n",
       "      <td>0.148811</td>\n",
       "      <td>0.148928</td>\n",
       "      <td>0.147414</td>\n",
       "      <td>0.149147</td>\n",
       "      <td>0.149390</td>\n",
       "      <td>0.147367</td>\n",
       "      <td>0.147464</td>\n",
       "    </tr>\n",
       "    <tr>\n",
       "      <th>138486</th>\n",
       "      <td>0.483795</td>\n",
       "      <td>0.304767</td>\n",
       "      <td>0.165986</td>\n",
       "      <td>0.148064</td>\n",
       "      <td>0.156846</td>\n",
       "      <td>0.149792</td>\n",
       "      <td>0.139115</td>\n",
       "      <td>0.149616</td>\n",
       "      <td>0.152008</td>\n",
       "      <td>0.256640</td>\n",
       "      <td>...</td>\n",
       "      <td>0.148347</td>\n",
       "      <td>0.148484</td>\n",
       "      <td>0.147774</td>\n",
       "      <td>0.148899</td>\n",
       "      <td>0.146837</td>\n",
       "      <td>0.149379</td>\n",
       "      <td>0.148730</td>\n",
       "      <td>0.148789</td>\n",
       "      <td>0.150437</td>\n",
       "      <td>0.149253</td>\n",
       "    </tr>\n",
       "    <tr>\n",
       "      <th>138492</th>\n",
       "      <td>0.195892</td>\n",
       "      <td>0.137672</td>\n",
       "      <td>0.156516</td>\n",
       "      <td>0.148230</td>\n",
       "      <td>0.150092</td>\n",
       "      <td>0.156977</td>\n",
       "      <td>0.154002</td>\n",
       "      <td>0.147617</td>\n",
       "      <td>0.147166</td>\n",
       "      <td>0.164730</td>\n",
       "      <td>...</td>\n",
       "      <td>0.146854</td>\n",
       "      <td>0.146307</td>\n",
       "      <td>0.148188</td>\n",
       "      <td>0.147863</td>\n",
       "      <td>0.146588</td>\n",
       "      <td>0.148330</td>\n",
       "      <td>0.147207</td>\n",
       "      <td>0.147031</td>\n",
       "      <td>0.148824</td>\n",
       "      <td>0.147543</td>\n",
       "    </tr>\n",
       "    <tr>\n",
       "      <th>138493</th>\n",
       "      <td>0.569580</td>\n",
       "      <td>0.342986</td>\n",
       "      <td>0.175816</td>\n",
       "      <td>0.149171</td>\n",
       "      <td>0.178035</td>\n",
       "      <td>0.187541</td>\n",
       "      <td>0.172687</td>\n",
       "      <td>0.153408</td>\n",
       "      <td>0.153566</td>\n",
       "      <td>0.235532</td>\n",
       "      <td>...</td>\n",
       "      <td>0.150094</td>\n",
       "      <td>0.151664</td>\n",
       "      <td>0.147239</td>\n",
       "      <td>0.150011</td>\n",
       "      <td>0.157538</td>\n",
       "      <td>0.147977</td>\n",
       "      <td>0.148811</td>\n",
       "      <td>0.150847</td>\n",
       "      <td>0.149462</td>\n",
       "      <td>0.148979</td>\n",
       "    </tr>\n",
       "  </tbody>\n",
       "</table>\n",
       "<p>31360 rows × 6807 columns</p>\n",
       "</div>"
      ],
      "text/plain": [
       "item      1         2         3         4         5         6         7       \\\n",
       "user                                                                           \n",
       "11      0.590686  0.436315  0.164056  0.149661  0.178553  0.152783  0.169440   \n",
       "14      0.413830  0.224749  0.176305  0.147986  0.188541  0.148557  0.210043   \n",
       "18      0.189386  0.142204  0.152650  0.148631  0.147392  0.142996  0.148320   \n",
       "25      0.303159  0.222593  0.167647  0.148994  0.155234  0.208121  0.152072   \n",
       "31      0.243768  0.185262  0.146363  0.148180  0.146792  0.135421  0.150410   \n",
       "...          ...       ...       ...       ...       ...       ...       ...   \n",
       "138473  0.311912  0.167624  0.148475  0.148676  0.149148  0.192778  0.145550   \n",
       "138475  0.161018  0.128390  0.145687  0.148177  0.148802  0.174122  0.145169   \n",
       "138486  0.483795  0.304767  0.165986  0.148064  0.156846  0.149792  0.139115   \n",
       "138492  0.195892  0.137672  0.156516  0.148230  0.150092  0.156977  0.154002   \n",
       "138493  0.569580  0.342986  0.175816  0.149171  0.178035  0.187541  0.172687   \n",
       "\n",
       "item      8         9         10      ...    116823    117176    117533  \\\n",
       "user                                  ...                                 \n",
       "11      0.156982  0.157862  0.293461  ...  0.149415  0.146229  0.147986   \n",
       "14      0.153407  0.146723  0.164259  ...  0.150881  0.149860  0.147607   \n",
       "18      0.148347  0.148262  0.146321  ...  0.147032  0.148899  0.148298   \n",
       "25      0.149357  0.148468  0.215908  ...  0.148162  0.148105  0.147863   \n",
       "31      0.149365  0.149662  0.129113  ...  0.176880  0.154306  0.147899   \n",
       "...          ...       ...       ...  ...       ...       ...       ...   \n",
       "138473  0.148727  0.147581  0.144020  ...  0.149220  0.149194  0.148087   \n",
       "138475  0.146971  0.148363  0.148116  ...  0.147457  0.146881  0.148476   \n",
       "138486  0.149616  0.152008  0.256640  ...  0.148347  0.148484  0.147774   \n",
       "138492  0.147617  0.147166  0.164730  ...  0.146854  0.146307  0.148188   \n",
       "138493  0.153408  0.153566  0.235532  ...  0.150094  0.151664  0.147239   \n",
       "\n",
       "item      117881    118696    118700    118900    118997    119141    119145  \n",
       "user                                                                          \n",
       "11      0.147851  0.152781  0.147918  0.148042  0.148921  0.149909  0.147979  \n",
       "14      0.148408  0.147180  0.148362  0.148504  0.151966  0.147015  0.148522  \n",
       "18      0.148656  0.147489  0.148358  0.148090  0.147292  0.147900  0.147318  \n",
       "25      0.147896  0.148328  0.148510  0.148725  0.148160  0.148657  0.147921  \n",
       "31      0.147987  0.182374  0.148210  0.148739  0.153369  0.156942  0.154333  \n",
       "...          ...       ...       ...       ...       ...       ...       ...  \n",
       "138473  0.148552  0.148866  0.148254  0.148506  0.148676  0.148775  0.148778  \n",
       "138475  0.148811  0.148928  0.147414  0.149147  0.149390  0.147367  0.147464  \n",
       "138486  0.148899  0.146837  0.149379  0.148730  0.148789  0.150437  0.149253  \n",
       "138492  0.147863  0.146588  0.148330  0.147207  0.147031  0.148824  0.147543  \n",
       "138493  0.150011  0.157538  0.147977  0.148811  0.150847  0.149462  0.148979  \n",
       "\n",
       "[31360 rows x 6807 columns]"
      ]
     },
     "execution_count": 39,
     "metadata": {},
     "output_type": "execute_result"
    }
   ],
   "source": [
    "norm_res"
   ]
  },
  {
   "cell_type": "code",
   "execution_count": 42,
   "metadata": {},
   "outputs": [
    {
     "data": {
      "text/html": [
       "<div>\n",
       "<style scoped>\n",
       "    .dataframe tbody tr th:only-of-type {\n",
       "        vertical-align: middle;\n",
       "    }\n",
       "\n",
       "    .dataframe tbody tr th {\n",
       "        vertical-align: top;\n",
       "    }\n",
       "\n",
       "    .dataframe thead th {\n",
       "        text-align: right;\n",
       "    }\n",
       "</style>\n",
       "<table border=\"1\" class=\"dataframe\">\n",
       "  <thead>\n",
       "    <tr style=\"text-align: right;\">\n",
       "      <th></th>\n",
       "      <th>1</th>\n",
       "      <th>2</th>\n",
       "      <th>3</th>\n",
       "      <th>4</th>\n",
       "      <th>5</th>\n",
       "      <th>6</th>\n",
       "      <th>7</th>\n",
       "      <th>8</th>\n",
       "      <th>9</th>\n",
       "      <th>10</th>\n",
       "      <th>...</th>\n",
       "      <th>116823</th>\n",
       "      <th>117176</th>\n",
       "      <th>117533</th>\n",
       "      <th>117881</th>\n",
       "      <th>118696</th>\n",
       "      <th>118700</th>\n",
       "      <th>118900</th>\n",
       "      <th>118997</th>\n",
       "      <th>119141</th>\n",
       "      <th>119145</th>\n",
       "    </tr>\n",
       "  </thead>\n",
       "  <tbody>\n",
       "    <tr>\n",
       "      <th>11</th>\n",
       "      <td>2.133124</td>\n",
       "      <td>0.820453</td>\n",
       "      <td>-0.023793</td>\n",
       "      <td>0.009243</td>\n",
       "      <td>0.194241</td>\n",
       "      <td>-0.098629</td>\n",
       "      <td>-0.009000</td>\n",
       "      <td>0.039367</td>\n",
       "      <td>-0.008569</td>\n",
       "      <td>0.007549</td>\n",
       "      <td>...</td>\n",
       "      <td>-0.025684</td>\n",
       "      <td>0.031127</td>\n",
       "      <td>-0.017844</td>\n",
       "      <td>-0.007285</td>\n",
       "      <td>-0.024280</td>\n",
       "      <td>-0.021214</td>\n",
       "      <td>0.005002</td>\n",
       "      <td>-0.009805</td>\n",
       "      <td>-0.006960</td>\n",
       "      <td>0.020558</td>\n",
       "    </tr>\n",
       "    <tr>\n",
       "      <th>14</th>\n",
       "      <td>1.329009</td>\n",
       "      <td>0.125664</td>\n",
       "      <td>0.152709</td>\n",
       "      <td>0.018106</td>\n",
       "      <td>0.193862</td>\n",
       "      <td>-0.206563</td>\n",
       "      <td>0.625220</td>\n",
       "      <td>0.067693</td>\n",
       "      <td>-0.019136</td>\n",
       "      <td>-0.054897</td>\n",
       "      <td>...</td>\n",
       "      <td>-0.013633</td>\n",
       "      <td>-0.028312</td>\n",
       "      <td>-0.008353</td>\n",
       "      <td>-0.020210</td>\n",
       "      <td>-0.018706</td>\n",
       "      <td>0.006930</td>\n",
       "      <td>-0.002409</td>\n",
       "      <td>0.029302</td>\n",
       "      <td>-0.010008</td>\n",
       "      <td>0.009985</td>\n",
       "    </tr>\n",
       "    <tr>\n",
       "      <th>18</th>\n",
       "      <td>0.062694</td>\n",
       "      <td>-0.118044</td>\n",
       "      <td>-0.061116</td>\n",
       "      <td>0.003517</td>\n",
       "      <td>-0.007475</td>\n",
       "      <td>-0.050083</td>\n",
       "      <td>-0.039197</td>\n",
       "      <td>-0.016693</td>\n",
       "      <td>0.036878</td>\n",
       "      <td>0.181304</td>\n",
       "      <td>...</td>\n",
       "      <td>-0.008092</td>\n",
       "      <td>-0.003074</td>\n",
       "      <td>-0.037754</td>\n",
       "      <td>-0.009313</td>\n",
       "      <td>0.019663</td>\n",
       "      <td>0.035419</td>\n",
       "      <td>0.007335</td>\n",
       "      <td>-0.007219</td>\n",
       "      <td>-0.019268</td>\n",
       "      <td>0.002869</td>\n",
       "    </tr>\n",
       "    <tr>\n",
       "      <th>25</th>\n",
       "      <td>0.861399</td>\n",
       "      <td>0.433322</td>\n",
       "      <td>0.109576</td>\n",
       "      <td>0.009059</td>\n",
       "      <td>0.037014</td>\n",
       "      <td>0.252106</td>\n",
       "      <td>-0.039775</td>\n",
       "      <td>-0.000922</td>\n",
       "      <td>0.011030</td>\n",
       "      <td>0.366199</td>\n",
       "      <td>...</td>\n",
       "      <td>0.005808</td>\n",
       "      <td>0.000884</td>\n",
       "      <td>-0.003716</td>\n",
       "      <td>-0.007750</td>\n",
       "      <td>-0.012854</td>\n",
       "      <td>0.001557</td>\n",
       "      <td>0.004946</td>\n",
       "      <td>0.002228</td>\n",
       "      <td>0.003629</td>\n",
       "      <td>0.004198</td>\n",
       "    </tr>\n",
       "    <tr>\n",
       "      <th>31</th>\n",
       "      <td>0.461021</td>\n",
       "      <td>-0.078349</td>\n",
       "      <td>0.019184</td>\n",
       "      <td>-0.035253</td>\n",
       "      <td>0.033700</td>\n",
       "      <td>-0.043523</td>\n",
       "      <td>-0.047067</td>\n",
       "      <td>-0.011100</td>\n",
       "      <td>0.009545</td>\n",
       "      <td>-0.232341</td>\n",
       "      <td>...</td>\n",
       "      <td>0.257727</td>\n",
       "      <td>-0.039838</td>\n",
       "      <td>0.033349</td>\n",
       "      <td>0.001565</td>\n",
       "      <td>0.317658</td>\n",
       "      <td>0.001923</td>\n",
       "      <td>0.000131</td>\n",
       "      <td>0.071386</td>\n",
       "      <td>0.107044</td>\n",
       "      <td>0.055697</td>\n",
       "    </tr>\n",
       "    <tr>\n",
       "      <th>...</th>\n",
       "      <td>...</td>\n",
       "      <td>...</td>\n",
       "      <td>...</td>\n",
       "      <td>...</td>\n",
       "      <td>...</td>\n",
       "      <td>...</td>\n",
       "      <td>...</td>\n",
       "      <td>...</td>\n",
       "      <td>...</td>\n",
       "      <td>...</td>\n",
       "      <td>...</td>\n",
       "      <td>...</td>\n",
       "      <td>...</td>\n",
       "      <td>...</td>\n",
       "      <td>...</td>\n",
       "      <td>...</td>\n",
       "      <td>...</td>\n",
       "      <td>...</td>\n",
       "      <td>...</td>\n",
       "      <td>...</td>\n",
       "      <td>...</td>\n",
       "    </tr>\n",
       "    <tr>\n",
       "      <th>138473</th>\n",
       "      <td>0.581075</td>\n",
       "      <td>0.199401</td>\n",
       "      <td>-0.002845</td>\n",
       "      <td>0.007718</td>\n",
       "      <td>0.025937</td>\n",
       "      <td>0.197578</td>\n",
       "      <td>0.006612</td>\n",
       "      <td>0.003932</td>\n",
       "      <td>-0.018398</td>\n",
       "      <td>-0.129010</td>\n",
       "      <td>...</td>\n",
       "      <td>0.026685</td>\n",
       "      <td>-0.005203</td>\n",
       "      <td>-0.010438</td>\n",
       "      <td>-0.000038</td>\n",
       "      <td>-0.007130</td>\n",
       "      <td>0.004892</td>\n",
       "      <td>0.007941</td>\n",
       "      <td>-0.004005</td>\n",
       "      <td>0.019080</td>\n",
       "      <td>-0.010232</td>\n",
       "    </tr>\n",
       "    <tr>\n",
       "      <th>138475</th>\n",
       "      <td>0.121986</td>\n",
       "      <td>-0.173555</td>\n",
       "      <td>-0.087503</td>\n",
       "      <td>0.027268</td>\n",
       "      <td>-0.043206</td>\n",
       "      <td>-0.156284</td>\n",
       "      <td>-0.015288</td>\n",
       "      <td>-0.002110</td>\n",
       "      <td>-0.033336</td>\n",
       "      <td>0.150735</td>\n",
       "      <td>...</td>\n",
       "      <td>-0.069611</td>\n",
       "      <td>-0.004999</td>\n",
       "      <td>-0.031335</td>\n",
       "      <td>0.030104</td>\n",
       "      <td>0.029175</td>\n",
       "      <td>-0.027727</td>\n",
       "      <td>-0.017090</td>\n",
       "      <td>-0.015026</td>\n",
       "      <td>-0.017424</td>\n",
       "      <td>-0.028492</td>\n",
       "    </tr>\n",
       "    <tr>\n",
       "      <th>138486</th>\n",
       "      <td>1.621033</td>\n",
       "      <td>0.713798</td>\n",
       "      <td>0.055951</td>\n",
       "      <td>-0.004391</td>\n",
       "      <td>-0.000068</td>\n",
       "      <td>0.062034</td>\n",
       "      <td>-0.062837</td>\n",
       "      <td>0.004197</td>\n",
       "      <td>-0.007405</td>\n",
       "      <td>0.476145</td>\n",
       "      <td>...</td>\n",
       "      <td>0.002728</td>\n",
       "      <td>-0.012780</td>\n",
       "      <td>-0.004226</td>\n",
       "      <td>0.017655</td>\n",
       "      <td>-0.011824</td>\n",
       "      <td>0.004728</td>\n",
       "      <td>-0.019713</td>\n",
       "      <td>0.031491</td>\n",
       "      <td>-0.029452</td>\n",
       "      <td>0.024837</td>\n",
       "    </tr>\n",
       "    <tr>\n",
       "      <th>138492</th>\n",
       "      <td>0.304734</td>\n",
       "      <td>-0.109388</td>\n",
       "      <td>0.026668</td>\n",
       "      <td>-0.000714</td>\n",
       "      <td>0.007849</td>\n",
       "      <td>0.142092</td>\n",
       "      <td>0.032279</td>\n",
       "      <td>0.002029</td>\n",
       "      <td>-0.027254</td>\n",
       "      <td>-0.011066</td>\n",
       "      <td>...</td>\n",
       "      <td>-0.016043</td>\n",
       "      <td>-0.004361</td>\n",
       "      <td>0.005799</td>\n",
       "      <td>0.000518</td>\n",
       "      <td>-0.015024</td>\n",
       "      <td>-0.002986</td>\n",
       "      <td>-0.011828</td>\n",
       "      <td>-0.013479</td>\n",
       "      <td>0.014624</td>\n",
       "      <td>-0.014789</td>\n",
       "    </tr>\n",
       "    <tr>\n",
       "      <th>138493</th>\n",
       "      <td>2.089710</td>\n",
       "      <td>1.253957</td>\n",
       "      <td>0.065694</td>\n",
       "      <td>-0.034344</td>\n",
       "      <td>0.055387</td>\n",
       "      <td>0.097072</td>\n",
       "      <td>0.052203</td>\n",
       "      <td>0.037559</td>\n",
       "      <td>0.049198</td>\n",
       "      <td>0.530090</td>\n",
       "      <td>...</td>\n",
       "      <td>-0.004887</td>\n",
       "      <td>-0.051634</td>\n",
       "      <td>0.008912</td>\n",
       "      <td>0.021084</td>\n",
       "      <td>0.075538</td>\n",
       "      <td>-0.008238</td>\n",
       "      <td>0.003178</td>\n",
       "      <td>0.026871</td>\n",
       "      <td>0.020337</td>\n",
       "      <td>-0.008293</td>\n",
       "    </tr>\n",
       "  </tbody>\n",
       "</table>\n",
       "<p>31360 rows × 6807 columns</p>\n",
       "</div>"
      ],
      "text/plain": [
       "          1         2         3         4         5         6         7       \\\n",
       "11      2.133124  0.820453 -0.023793  0.009243  0.194241 -0.098629 -0.009000   \n",
       "14      1.329009  0.125664  0.152709  0.018106  0.193862 -0.206563  0.625220   \n",
       "18      0.062694 -0.118044 -0.061116  0.003517 -0.007475 -0.050083 -0.039197   \n",
       "25      0.861399  0.433322  0.109576  0.009059  0.037014  0.252106 -0.039775   \n",
       "31      0.461021 -0.078349  0.019184 -0.035253  0.033700 -0.043523 -0.047067   \n",
       "...          ...       ...       ...       ...       ...       ...       ...   \n",
       "138473  0.581075  0.199401 -0.002845  0.007718  0.025937  0.197578  0.006612   \n",
       "138475  0.121986 -0.173555 -0.087503  0.027268 -0.043206 -0.156284 -0.015288   \n",
       "138486  1.621033  0.713798  0.055951 -0.004391 -0.000068  0.062034 -0.062837   \n",
       "138492  0.304734 -0.109388  0.026668 -0.000714  0.007849  0.142092  0.032279   \n",
       "138493  2.089710  1.253957  0.065694 -0.034344  0.055387  0.097072  0.052203   \n",
       "\n",
       "          8         9         10      ...    116823    117176    117533  \\\n",
       "11      0.039367 -0.008569  0.007549  ... -0.025684  0.031127 -0.017844   \n",
       "14      0.067693 -0.019136 -0.054897  ... -0.013633 -0.028312 -0.008353   \n",
       "18     -0.016693  0.036878  0.181304  ... -0.008092 -0.003074 -0.037754   \n",
       "25     -0.000922  0.011030  0.366199  ...  0.005808  0.000884 -0.003716   \n",
       "31     -0.011100  0.009545 -0.232341  ...  0.257727 -0.039838  0.033349   \n",
       "...          ...       ...       ...  ...       ...       ...       ...   \n",
       "138473  0.003932 -0.018398 -0.129010  ...  0.026685 -0.005203 -0.010438   \n",
       "138475 -0.002110 -0.033336  0.150735  ... -0.069611 -0.004999 -0.031335   \n",
       "138486  0.004197 -0.007405  0.476145  ...  0.002728 -0.012780 -0.004226   \n",
       "138492  0.002029 -0.027254 -0.011066  ... -0.016043 -0.004361  0.005799   \n",
       "138493  0.037559  0.049198  0.530090  ... -0.004887 -0.051634  0.008912   \n",
       "\n",
       "          117881    118696    118700    118900    118997    119141    119145  \n",
       "11     -0.007285 -0.024280 -0.021214  0.005002 -0.009805 -0.006960  0.020558  \n",
       "14     -0.020210 -0.018706  0.006930 -0.002409  0.029302 -0.010008  0.009985  \n",
       "18     -0.009313  0.019663  0.035419  0.007335 -0.007219 -0.019268  0.002869  \n",
       "25     -0.007750 -0.012854  0.001557  0.004946  0.002228  0.003629  0.004198  \n",
       "31      0.001565  0.317658  0.001923  0.000131  0.071386  0.107044  0.055697  \n",
       "...          ...       ...       ...       ...       ...       ...       ...  \n",
       "138473 -0.000038 -0.007130  0.004892  0.007941 -0.004005  0.019080 -0.010232  \n",
       "138475  0.030104  0.029175 -0.027727 -0.017090 -0.015026 -0.017424 -0.028492  \n",
       "138486  0.017655 -0.011824  0.004728 -0.019713  0.031491 -0.029452  0.024837  \n",
       "138492  0.000518 -0.015024 -0.002986 -0.011828 -0.013479  0.014624 -0.014789  \n",
       "138493  0.021084  0.075538 -0.008238  0.003178  0.026871  0.020337 -0.008293  \n",
       "\n",
       "[31360 rows x 6807 columns]"
      ]
     },
     "execution_count": 42,
     "metadata": {},
     "output_type": "execute_result"
    }
   ],
   "source": [
    "# ans = norm_answer_df+norm_res\n",
    "ans = answer_df + res\n",
    "ans"
   ]
  },
  {
   "cell_type": "code",
   "execution_count": 43,
   "metadata": {},
   "outputs": [
    {
     "name": "stderr",
     "output_type": "stream",
     "text": [
      "100%|██████████| 31360/31360 [00:00<00:00, 96408.48it/s]\n"
     ]
    }
   ],
   "source": [
    "\n",
    "ans.values[preference_matrix_csr.nonzero()]=float('-inf')\n",
    "# top N\n",
    "result = [ m.argpartition(-LABEL_CNT)[-LABEL_CNT:] for m in ans.values ]\n",
    "\n",
    "users, items = list(), list()\n",
    "user_id = ans.index\n",
    "item_columns = ans.columns\n",
    "for idx in tqdm(range(len(result))):\n",
    "    users.extend([user_id[idx]] * LABEL_CNT)\n",
    "    items.extend([item_columns[i] for i in result[idx]])\n"
   ]
  },
  {
   "cell_type": "code",
   "execution_count": 44,
   "metadata": {},
   "outputs": [
    {
     "data": {
      "text/plain": [
       "0.3165510482466751"
      ]
     },
     "execution_count": 44,
     "metadata": {},
     "output_type": "execute_result"
    }
   ],
   "source": [
    "ans_df = pd.DataFrame(zip(users,items), columns=['user','item'])\n",
    "getRecall(ans_df)"
   ]
  },
  {
   "cell_type": "code",
   "execution_count": 45,
   "metadata": {},
   "outputs": [],
   "source": [
    "ans_df.to_csv(\"./als_ease.csv\", index=False)"
   ]
  },
  {
   "cell_type": "code",
   "execution_count": null,
   "metadata": {},
   "outputs": [],
   "source": []
  }
 ],
 "metadata": {
  "interpreter": {
   "hash": "d4d1e4263499bec80672ea0156c357c1ee493ec2b1c70f0acce89fc37c4a6abe"
  },
  "kernelspec": {
   "display_name": "Python 3.8.5 ('base')",
   "language": "python",
   "name": "python3"
  },
  "language_info": {
   "codemirror_mode": {
    "name": "ipython",
    "version": 3
   },
   "file_extension": ".py",
   "mimetype": "text/x-python",
   "name": "python",
   "nbconvert_exporter": "python",
   "pygments_lexer": "ipython3",
   "version": "3.8.5"
  },
  "orig_nbformat": 4
 },
 "nbformat": 4,
 "nbformat_minor": 2
}
