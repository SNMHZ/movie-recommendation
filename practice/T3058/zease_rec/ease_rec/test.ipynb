{
 "cells": [
  {
   "cell_type": "code",
   "execution_count": 1,
   "metadata": {},
   "outputs": [],
   "source": [
    "from model import EASE\n",
    "import pandas as pd\n",
    "import numpy as np\n",
    "from tqdm import tqdm"
   ]
  },
  {
   "cell_type": "code",
   "execution_count": 2,
   "metadata": {},
   "outputs": [],
   "source": [
    "\n",
    "df = pd.read_csv('/opt/ml/input/code/data/train/train_ratings.csv')\n",
    "df[\"time\"] = 1\n",
    "df[\"rating\"] = df[\"time\"]\n",
    "df = df.drop(\"time\", axis = 1)"
   ]
  },
  {
   "cell_type": "code",
   "execution_count": 4,
   "metadata": {},
   "outputs": [
    {
     "name": "stderr",
     "output_type": "stream",
     "text": [
      "100%|██████████| 31360/31360 [20:42<00:00, 25.24it/s]\n"
     ]
    }
   ],
   "source": [
    "# user_group_dfs = list(df.groupby('user')['item'])\n",
    "# first_row = True\n",
    "# user_neg_dfs = pd.DataFrame()\n",
    "# items = set(df[\"item\"])\n",
    "# for u, u_items in tqdm(user_group_dfs):\n",
    "#     u_items = set(u_items)\n",
    "#     num_negative = len(u_items)\n",
    "#     i_user_neg_item = np.random.choice(list(items - u_items), num_negative, replace=False)\n",
    "    \n",
    "#     i_user_neg_df = pd.DataFrame({'user': [u]*num_negative, 'item': i_user_neg_item, 'rating': [0]*num_negative})\n",
    "#     if first_row == True:\n",
    "#         user_neg_dfs = i_user_neg_df\n",
    "#         first_row = False\n",
    "#     else:\n",
    "#         user_neg_dfs = pd.concat([user_neg_dfs, i_user_neg_df], axis = 0, sort=False)\n",
    "        \n",
    "# joined_rating_df = pd.concat([df, user_neg_dfs], axis = 0, sort=False)"
   ]
  },
  {
   "cell_type": "code",
   "execution_count": 3,
   "metadata": {},
   "outputs": [],
   "source": [
    "ease = EASE()\n",
    "ease.fit(df)"
   ]
  },
  {
   "cell_type": "code",
   "execution_count": 4,
   "metadata": {},
   "outputs": [
    {
     "name": "stderr",
     "output_type": "stream",
     "text": [
      "100%|██████████| 31360/31360 [01:13<00:00, 429.08it/s]\n"
     ]
    },
    {
     "data": {
      "text/html": [
       "<div>\n",
       "<style scoped>\n",
       "    .dataframe tbody tr th:only-of-type {\n",
       "        vertical-align: middle;\n",
       "    }\n",
       "\n",
       "    .dataframe tbody tr th {\n",
       "        vertical-align: top;\n",
       "    }\n",
       "\n",
       "    .dataframe thead th {\n",
       "        text-align: right;\n",
       "    }\n",
       "</style>\n",
       "<table border=\"1\" class=\"dataframe\">\n",
       "  <thead>\n",
       "    <tr style=\"text-align: right;\">\n",
       "      <th></th>\n",
       "      <th>user</th>\n",
       "      <th>item</th>\n",
       "      <th>score</th>\n",
       "    </tr>\n",
       "  </thead>\n",
       "  <tbody>\n",
       "    <tr>\n",
       "      <th>0</th>\n",
       "      <td>11</td>\n",
       "      <td>4370</td>\n",
       "      <td>0.737571</td>\n",
       "    </tr>\n",
       "    <tr>\n",
       "      <th>1</th>\n",
       "      <td>11</td>\n",
       "      <td>33004</td>\n",
       "      <td>0.611744</td>\n",
       "    </tr>\n",
       "    <tr>\n",
       "      <th>2</th>\n",
       "      <td>11</td>\n",
       "      <td>30707</td>\n",
       "      <td>0.594000</td>\n",
       "    </tr>\n",
       "    <tr>\n",
       "      <th>3</th>\n",
       "      <td>11</td>\n",
       "      <td>2997</td>\n",
       "      <td>0.590051</td>\n",
       "    </tr>\n",
       "    <tr>\n",
       "      <th>4</th>\n",
       "      <td>11</td>\n",
       "      <td>47</td>\n",
       "      <td>0.557925</td>\n",
       "    </tr>\n",
       "    <tr>\n",
       "      <th>...</th>\n",
       "      <td>...</td>\n",
       "      <td>...</td>\n",
       "      <td>...</td>\n",
       "    </tr>\n",
       "    <tr>\n",
       "      <th>313595</th>\n",
       "      <td>138493</td>\n",
       "      <td>4975</td>\n",
       "      <td>0.515432</td>\n",
       "    </tr>\n",
       "    <tr>\n",
       "      <th>313596</th>\n",
       "      <td>138493</td>\n",
       "      <td>4022</td>\n",
       "      <td>0.507874</td>\n",
       "    </tr>\n",
       "    <tr>\n",
       "      <th>313597</th>\n",
       "      <td>138493</td>\n",
       "      <td>919</td>\n",
       "      <td>0.502296</td>\n",
       "    </tr>\n",
       "    <tr>\n",
       "      <th>313598</th>\n",
       "      <td>138493</td>\n",
       "      <td>377</td>\n",
       "      <td>0.492138</td>\n",
       "    </tr>\n",
       "    <tr>\n",
       "      <th>313599</th>\n",
       "      <td>138493</td>\n",
       "      <td>2324</td>\n",
       "      <td>0.487931</td>\n",
       "    </tr>\n",
       "  </tbody>\n",
       "</table>\n",
       "<p>313600 rows × 3 columns</p>\n",
       "</div>"
      ],
      "text/plain": [
       "          user   item     score\n",
       "0           11   4370  0.737571\n",
       "1           11  33004  0.611744\n",
       "2           11  30707  0.594000\n",
       "3           11   2997  0.590051\n",
       "4           11     47  0.557925\n",
       "...        ...    ...       ...\n",
       "313595  138493   4975  0.515432\n",
       "313596  138493   4022  0.507874\n",
       "313597  138493    919  0.502296\n",
       "313598  138493    377  0.492138\n",
       "313599  138493   2324  0.487931\n",
       "\n",
       "[313600 rows x 3 columns]"
      ]
     },
     "execution_count": 4,
     "metadata": {},
     "output_type": "execute_result"
    }
   ],
   "source": [
    "answer = ease.predict(df, df[\"user\"], df[\"item\"],10)\n",
    "answer\n",
    "# answer = answer.drop(\"score\", axis = 1)\n",
    "# answer.to_csv(\"./submission2.csv\", index = False)"
   ]
  },
  {
   "cell_type": "code",
   "execution_count": 5,
   "metadata": {},
   "outputs": [],
   "source": [
    "answer_df = pd.DataFrame(ease.pred)\n",
    "answer_df.columns = ease.item_enc.inverse_transform(answer_df.columns)\n",
    "answer_df.index = ease.user_enc.inverse_transform(answer_df.index)"
   ]
  },
  {
   "cell_type": "code",
   "execution_count": null,
   "metadata": {},
   "outputs": [],
   "source": [
    "answer_df.to_csv(\"./ease.csv\", index = answer_df.index, columns=answer_df.columns)"
   ]
  },
  {
   "cell_type": "code",
   "execution_count": 11,
   "metadata": {},
   "outputs": [],
   "source": [
    "ans_mini = answer_df.min().min()\n",
    "ans_maxi = answer_df.max().max()-ans_mini\n",
    "norm_answer_df = answer_df.apply(lambda x:(x-ans_mini)/ans_maxi)"
   ]
  },
  {
   "cell_type": "code",
   "execution_count": 47,
   "metadata": {},
   "outputs": [
    {
     "data": {
      "text/plain": [
       "1         <function change at 0x7fe6900e0040>\n",
       "2         <function change at 0x7fe6900e0040>\n",
       "3         <function change at 0x7fe6900e0040>\n",
       "4         <function change at 0x7fe6900e0040>\n",
       "5         <function change at 0x7fe6900e0040>\n",
       "                         ...                 \n",
       "118700    <function change at 0x7fe6900e0040>\n",
       "118900    <function change at 0x7fe6900e0040>\n",
       "118997    <function change at 0x7fe6900e0040>\n",
       "119141    <function change at 0x7fe6900e0040>\n",
       "119145    <function change at 0x7fe6900e0040>\n",
       "Length: 6807, dtype: object"
      ]
     },
     "execution_count": 47,
     "metadata": {},
     "output_type": "execute_result"
    }
   ],
   "source": [
    "def change(x):\n",
    "    return 1 if x>0.5 else 0\n",
    "norm_answer_df.apply(lambda x: change)\n"
   ]
  },
  {
   "cell_type": "code",
   "execution_count": null,
   "metadata": {},
   "outputs": [],
   "source": [
    "import lightgbm as lgb"
   ]
  },
  {
   "cell_type": "code",
   "execution_count": null,
   "metadata": {},
   "outputs": [],
   "source": [
    "lgb.data"
   ]
  }
 ],
 "metadata": {
  "interpreter": {
   "hash": "d4d1e4263499bec80672ea0156c357c1ee493ec2b1c70f0acce89fc37c4a6abe"
  },
  "kernelspec": {
   "display_name": "Python 3.8.5 ('base')",
   "language": "python",
   "name": "python3"
  },
  "language_info": {
   "codemirror_mode": {
    "name": "ipython",
    "version": 3
   },
   "file_extension": ".py",
   "mimetype": "text/x-python",
   "name": "python",
   "nbconvert_exporter": "python",
   "pygments_lexer": "ipython3",
   "version": "3.8.5"
  },
  "orig_nbformat": 4
 },
 "nbformat": 4,
 "nbformat_minor": 2
}
