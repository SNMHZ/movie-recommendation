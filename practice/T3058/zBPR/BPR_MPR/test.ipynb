{
 "cells": [
  {
   "cell_type": "code",
   "execution_count": 1,
   "metadata": {},
   "outputs": [],
   "source": [
    "import numpy as np\n",
    "from BPR import BPR\n",
    "from tqdm import tqdm\n",
    "import pandas as pd"
   ]
  },
  {
   "cell_type": "code",
   "execution_count": 2,
   "metadata": {},
   "outputs": [
    {
     "data": {
      "text/plain": [
       "array([[   2,    5],\n",
       "       [  90, 1000],\n",
       "       [   9,  100]])"
      ]
     },
     "execution_count": 2,
     "metadata": {},
     "output_type": "execute_result"
    }
   ],
   "source": [
    "aa = np.array([[0,1,2,5],[90,10,5,1000],[9,1,3,100]])\n",
    "top = np.argpartition(aa, -2)[:,-2:]\n",
    "aa[np.arange(aa.shape[0])[:, None],top]"
   ]
  },
  {
   "cell_type": "code",
   "execution_count": 3,
   "metadata": {},
   "outputs": [
    {
     "name": "stderr",
     "output_type": "stream",
     "text": [
      "user_count: 100%|██████████| 31360/31360 [02:18<00:00, 225.65it/s]\n",
      "train_count: 100%|██████████| 1000/1000 [27:10<00:00,  1.63s/it]\n"
     ]
    },
    {
     "name": "stdout",
     "output_type": "stream",
     "text": [
      "AUC: 0.8139049847081666\n"
     ]
    }
   ],
   "source": [
    "\n",
    "bpr = BPR()\n",
    "tmp = bpr.main()"
   ]
  },
  {
   "cell_type": "code",
   "execution_count": 11,
   "metadata": {},
   "outputs": [
    {
     "data": {
      "text/plain": [
       "array([2591, 3472, 1729,  247, 4092, 3020,  201, 1624, 1850,  217])"
      ]
     },
     "execution_count": 11,
     "metadata": {},
     "output_type": "execute_result"
    }
   ],
   "source": [
    "np.argpartition(tmp[0], -10)[-10:]"
   ]
  },
  {
   "cell_type": "code",
   "execution_count": 15,
   "metadata": {},
   "outputs": [
    {
     "data": {
      "text/plain": [
       "array([1624, 1850,  217,  247, 4092,  201, 2591, 3020, 3472,  179])"
      ]
     },
     "execution_count": 15,
     "metadata": {},
     "output_type": "execute_result"
    }
   ],
   "source": [
    "np.argsort(-tmp[1])[:10]"
   ]
  },
  {
   "cell_type": "code",
   "execution_count": null,
   "metadata": {},
   "outputs": [],
   "source": [
    "\n",
    "first = True\n",
    "for i, item_list in tqdm(enumerate(tmp), desc = \"submit\"):\n",
    "    for j in item_list:\n",
    "        tmp_df = pd.DataFrame({\"user\":bpr.idx2user_dict[i],\"item\":j}, index = [0])\n",
    "        if first:\n",
    "            first = False\n",
    "            return_df = tmp_df\n",
    "        else:\n",
    "            return_df = pd.concat([return_df, tmp_df], axis = 0, sort = False)"
   ]
  },
  {
   "cell_type": "code",
   "execution_count": 13,
   "metadata": {},
   "outputs": [
    {
     "data": {
      "text/plain": [
       "array([1776, 2581, 1624, 2213, 6754, 5196, 5469, 5440, 3754, 4630])"
      ]
     },
     "execution_count": 13,
     "metadata": {},
     "output_type": "execute_result"
    }
   ],
   "source": [
    "\n",
    "return_df = return_df.sort_values(by=[\"user\"])\n",
    "return_df.to_csv(\"/opt/ml/output/submission.csv\", index = False)"
   ]
  }
 ],
 "metadata": {
  "interpreter": {
   "hash": "d4d1e4263499bec80672ea0156c357c1ee493ec2b1c70f0acce89fc37c4a6abe"
  },
  "kernelspec": {
   "display_name": "Python 3.8.5 ('base')",
   "language": "python",
   "name": "python3"
  },
  "language_info": {
   "codemirror_mode": {
    "name": "ipython",
    "version": 3
   },
   "file_extension": ".py",
   "mimetype": "text/x-python",
   "name": "python",
   "nbconvert_exporter": "python",
   "pygments_lexer": "ipython3",
   "version": "3.8.5"
  },
  "orig_nbformat": 4
 },
 "nbformat": 4,
 "nbformat_minor": 2
}
