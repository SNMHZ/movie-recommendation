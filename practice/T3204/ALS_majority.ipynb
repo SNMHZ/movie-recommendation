{
 "cells": [
  {
   "cell_type": "code",
   "execution_count": 1,
   "metadata": {},
   "outputs": [],
   "source": [
    "import os\n",
    "\n",
    "import pandas as pd\n",
    "import numpy as np\n",
    "import scipy\n",
    "import re\n",
    "import time\n",
    "\n",
    "from datetime import datetime\n",
    "from tqdm import tqdm\n",
    "import random\n",
    "\n",
    "from matplotlib import pyplot as plt\n",
    "import seaborn as sns\n",
    "%matplotlib inline\n",
    "\n",
    "import implicit\n",
    "import warnings\n",
    "warnings.filterwarnings(\"ignore\")\n",
    "\n",
    "seed = 42\n",
    "\n",
    "random.seed(seed)\n",
    "np.random.seed(seed)"
   ]
  },
  {
   "cell_type": "code",
   "execution_count": 2,
   "metadata": {},
   "outputs": [],
   "source": [
    "# total\n",
    "full = pd.read_csv('/opt/ml/input/data/train/train_ratings.csv')\n",
    "top_major = pd.read_csv('./top_major.csv')\n",
    "major = pd.read_csv('./major.csv')\n",
    "minor = pd.read_csv('./minor.csv')"
   ]
  },
  {
   "cell_type": "markdown",
   "metadata": {},
   "source": [
    "## top_major model"
   ]
  },
  {
   "cell_type": "code",
   "execution_count": 5,
   "metadata": {},
   "outputs": [
    {
     "data": {
      "application/vnd.jupyter.widget-view+json": {
       "model_id": "5e2cc59111bf4e388884e0d41a2b64d8",
       "version_major": 2,
       "version_minor": 0
      },
      "text/plain": [
       "HBox(children=(HTML(value=''), FloatProgress(value=0.0, max=90.0), HTML(value='')))"
      ]
     },
     "metadata": {},
     "output_type": "display_data"
    },
    {
     "name": "stdout",
     "output_type": "stream",
     "text": [
      "\n"
     ]
    }
   ],
   "source": [
    "top_major['view'] = 1\n",
    "top_major_pivot = pd.pivot_table(data=top_major, values='view', index='user', columns='item').fillna(0)\n",
    "preference_matrix_csr = scipy.sparse.csr_matrix(top_major_pivot)\n",
    "\n",
    "# model\n",
    "top_major_als = implicit.als.AlternatingLeastSquares(factors=300, regularization=50, iterations=90)\n",
    "top_major_als.fit(preference_matrix_csr)\n",
    "top_major_df = pd.DataFrame(np.matmul(top_major_als.user_factors.to_numpy(), top_major_als.item_factors.to_numpy().T), columns=top_major_pivot.columns, index=top_major_pivot.index)\n",
    "\n",
    "# masking\n",
    "top_major_df_final = top_major_df - top_major_pivot * 1000\n",
    "\n",
    "# top N\n",
    "top_major_result = [m.argsort()[::-1][:50] for m in top_major_df_final.values]"
   ]
  },
  {
   "cell_type": "markdown",
   "metadata": {},
   "source": [
    "## major model"
   ]
  },
  {
   "cell_type": "code",
   "execution_count": 3,
   "metadata": {},
   "outputs": [
    {
     "data": {
      "application/vnd.jupyter.widget-view+json": {
       "model_id": "7ca9b5fbd331409598c42b1d44c8403a",
       "version_major": 2,
       "version_minor": 0
      },
      "text/plain": [
       "HBox(children=(HTML(value=''), FloatProgress(value=0.0, max=90.0), HTML(value='')))"
      ]
     },
     "metadata": {},
     "output_type": "display_data"
    },
    {
     "name": "stdout",
     "output_type": "stream",
     "text": [
      "\n"
     ]
    }
   ],
   "source": [
    "major['view'] = 1\n",
    "major_pivot = pd.pivot_table(data=major, values='view', index='user', columns='item').fillna(0)\n",
    "preference_matrix_csr = scipy.sparse.csr_matrix(major_pivot)\n",
    "\n",
    "# model\n",
    "major_als = implicit.als.AlternatingLeastSquares(factors=300, regularization=50, iterations=90)\n",
    "major_als.fit(preference_matrix_csr)\n",
    "major_df = pd.DataFrame(np.matmul(major_als.user_factors.to_numpy(), major_als.item_factors.to_numpy().T), columns=major_pivot.columns, index=major_pivot.index)\n",
    "\n",
    "# masking\n",
    "major_df_final = major_df - major_pivot * 1000\n",
    "\n",
    "# top N\n",
    "major_result = [m.argsort()[::-1][:50] for m in major_df_final.values]"
   ]
  },
  {
   "cell_type": "markdown",
   "metadata": {},
   "source": [
    "## minor model"
   ]
  },
  {
   "cell_type": "code",
   "execution_count": 4,
   "metadata": {},
   "outputs": [
    {
     "data": {
      "application/vnd.jupyter.widget-view+json": {
       "model_id": "e2e44b8e314e4fd0b2add066eb18c43f",
       "version_major": 2,
       "version_minor": 0
      },
      "text/plain": [
       "HBox(children=(HTML(value=''), FloatProgress(value=0.0, max=90.0), HTML(value='')))"
      ]
     },
     "metadata": {},
     "output_type": "display_data"
    },
    {
     "name": "stdout",
     "output_type": "stream",
     "text": [
      "\n"
     ]
    }
   ],
   "source": [
    "minor['view'] = 1\n",
    "minor_pivot = pd.pivot_table(data=minor, values='view', index='user', columns='item').fillna(0)\n",
    "preference_matrix_csr = scipy.sparse.csr_matrix(minor_pivot)\n",
    "\n",
    "# model\n",
    "minor_als = implicit.als.AlternatingLeastSquares(factors=300, regularization=50, iterations=90)\n",
    "minor_als.fit(preference_matrix_csr)\n",
    "minor_df = pd.DataFrame(np.matmul(minor_als.user_factors.to_numpy(), minor_als.item_factors.to_numpy().T), columns=minor_pivot.columns, index=minor_pivot.index)\n",
    "\n",
    "# masking\n",
    "minor_df_final = minor_df - minor_pivot * 1000\n",
    "\n",
    "# top N\n",
    "minor_result = [m.argsort()[::-1][:50] for m in minor_df_final.values]"
   ]
  },
  {
   "cell_type": "markdown",
   "metadata": {},
   "source": [
    "-----------------"
   ]
  },
  {
   "cell_type": "code",
   "execution_count": 39,
   "metadata": {},
   "outputs": [
    {
     "name": "stdout",
     "output_type": "stream",
     "text": [
      "count    6807.000000\n",
      "mean      -24.123310\n",
      "std       142.323244\n",
      "min      -999.993850\n",
      "25%        -0.224123\n",
      "50%         0.003233\n",
      "75%         0.013027\n",
      "max         0.513246\n",
      "dtype: float64\n"
     ]
    }
   ],
   "source": [
    "#print(als_model_df_final.apply(pd.Series.describe, axis=1).mean())"
   ]
  },
  {
   "cell_type": "code",
   "execution_count": 9,
   "metadata": {},
   "outputs": [
    {
     "name": "stderr",
     "output_type": "stream",
     "text": [
      "100%|██████████| 635/635 [00:00<00:00, 72217.54it/s]\n"
     ]
    }
   ],
   "source": [
    "# 탑메이저_노필터링\n",
    "top_major_dict = {}\n",
    "item_columns = top_major_df_final.columns\n",
    "user_id = top_major_df_final.index\n",
    "for idx in tqdm(range(len(top_major_result))):\n",
    "    movie_cnt = 0\n",
    "    item_list = []\n",
    "    for i in top_major_result[idx]:\n",
    "        if movie_cnt < 10:\n",
    "            item_list.append(item_columns[i])\n",
    "            movie_cnt += 1\n",
    "        else:\n",
    "            break\n",
    "    top_major_dict[user_id[idx]] = item_list"
   ]
  },
  {
   "cell_type": "code",
   "execution_count": 5,
   "metadata": {},
   "outputs": [
    {
     "name": "stderr",
     "output_type": "stream",
     "text": [
      "100%|██████████| 29437/29437 [00:00<00:00, 79851.38it/s]\n"
     ]
    }
   ],
   "source": [
    "# 메이저_노필터링\n",
    "major_dict = {}\n",
    "item_columns = major_df_final.columns\n",
    "user_id = major_df_final.index\n",
    "for idx in tqdm(range(len(major_result))):\n",
    "    movie_cnt = 0\n",
    "    item_list = []\n",
    "    for i in major_result[idx]:\n",
    "        if movie_cnt < 10:\n",
    "            item_list.append(item_columns[i])\n",
    "            movie_cnt += 1\n",
    "        else:\n",
    "            break\n",
    "    major_dict[user_id[idx]] = item_list"
   ]
  },
  {
   "cell_type": "code",
   "execution_count": 6,
   "metadata": {},
   "outputs": [
    {
     "name": "stderr",
     "output_type": "stream",
     "text": [
      "100%|██████████| 1923/1923 [00:00<00:00, 77315.66it/s]\n"
     ]
    }
   ],
   "source": [
    "# 마이너_노필터링\n",
    "minor_dict = {}\n",
    "item_columns = minor_df_final.columns\n",
    "user_id = minor_df_final.index\n",
    "for idx in tqdm(range(len(minor_result))):\n",
    "    movie_cnt = 0\n",
    "    item_list = []\n",
    "    for i in minor_result[idx]:\n",
    "        if movie_cnt < 10:\n",
    "            item_list.append(item_columns[i])\n",
    "            movie_cnt += 1\n",
    "        else:\n",
    "            break\n",
    "    minor_dict[user_id[idx]] = item_list"
   ]
  },
  {
   "cell_type": "code",
   "execution_count": null,
   "metadata": {},
   "outputs": [],
   "source": [
    "final_dict = {}\n",
    "final_dict.update(top_major_dict)\n",
    "final_dict.update(major_dict)\n",
    "final_dict.update(minor_dict)"
   ]
  },
  {
   "cell_type": "code",
   "execution_count": 17,
   "metadata": {},
   "outputs": [],
   "source": [
    "user_unique = full['user'].unique()\n",
    "users = user_unique.repeat(10)\n",
    "items = []\n",
    "for u in user_unique:\n",
    "    items.extend(final_dict[u])"
   ]
  },
  {
   "cell_type": "markdown",
   "metadata": {},
   "source": [
    "### submission"
   ]
  },
  {
   "cell_type": "code",
   "execution_count": 18,
   "metadata": {},
   "outputs": [],
   "source": [
    "sub = pd.DataFrame(zip(users,items), columns=['user','item'])\n",
    "sub.to_csv(\"major_ensemble.csv\", index=False)"
   ]
  },
  {
   "cell_type": "code",
   "execution_count": null,
   "metadata": {},
   "outputs": [],
   "source": []
  }
 ],
 "metadata": {
  "interpreter": {
   "hash": "d4d1e4263499bec80672ea0156c357c1ee493ec2b1c70f0acce89fc37c4a6abe"
  },
  "kernelspec": {
   "display_name": "Python 3 (ipykernel)",
   "language": "python",
   "name": "python3"
  },
  "language_info": {
   "codemirror_mode": {
    "name": "ipython",
    "version": 3
   },
   "file_extension": ".py",
   "mimetype": "text/x-python",
   "name": "python",
   "nbconvert_exporter": "python",
   "pygments_lexer": "ipython3",
   "version": ""
  }
 },
 "nbformat": 4,
 "nbformat_minor": 4
}
