{
 "cells": [
  {
   "cell_type": "code",
   "execution_count": 1,
   "metadata": {},
   "outputs": [],
   "source": [
    "import argparse\n",
    "import time\n",
    "import torch\n",
    "import torch.nn as nn\n",
    "import torch.optim as optim\n",
    "import numpy as np\n",
    "from scipy import sparse\n",
    "import os\n",
    "import pandas as pd\n",
    "from scipy import sparse\n",
    "import numpy as np\n",
    "from typing import Tuple"
   ]
  },
  {
   "cell_type": "code",
   "execution_count": 2,
   "metadata": {},
   "outputs": [],
   "source": [
    "SEED = 777\n",
    "VERBOSE = False"
   ]
  },
  {
   "cell_type": "code",
   "execution_count": 3,
   "metadata": {},
   "outputs": [
    {
     "data": {
      "text/plain": [
       "device(type='cuda')"
      ]
     },
     "execution_count": 3,
     "metadata": {},
     "output_type": "execute_result"
    }
   ],
   "source": [
    "torch.manual_seed(SEED)\n",
    "\n",
    "#만약 GPU가 사용가능한 환경이라면 GPU를 사용\n",
    "if torch.cuda.is_available():\n",
    "    use_cuda = True\n",
    "\n",
    "device = torch.device(\"cuda\" if use_cuda else \"cpu\")\n",
    "device"
   ]
  },
  {
   "cell_type": "code",
   "execution_count": 4,
   "metadata": {},
   "outputs": [
    {
     "name": "stdout",
     "output_type": "stream",
     "text": [
      "Load Movielens dataset\n"
     ]
    }
   ],
   "source": [
    "print(\"Load Movielens dataset\")\n",
    "# Load Data\n",
    "DATA_DIR = '/opt/ml/input/data/train'\n",
    "raw_data = pd.read_csv(os.path.join(DATA_DIR, 'train_ratings.csv'), header=0)"
   ]
  },
  {
   "cell_type": "code",
   "execution_count": 5,
   "metadata": {},
   "outputs": [],
   "source": [
    "_min_cnt = float('inf')\n",
    "for usr_id, tp in raw_data.groupby('user', as_index=False):\n",
    "    usr_id, tp['item']\n",
    "    if not isinstance(usr_id, int) and not isinstance(tp, pd.DataFrame):\n",
    "        print('except')\n",
    "        break\n",
    "    _min_cnt = min(tp.shape[0], _min_cnt)"
   ]
  },
  {
   "cell_type": "code",
   "execution_count": 6,
   "metadata": {},
   "outputs": [
    {
     "data": {
      "text/plain": [
       "16"
      ]
     },
     "execution_count": 6,
     "metadata": {},
     "output_type": "execute_result"
    }
   ],
   "source": [
    "_min_cnt"
   ]
  },
  {
   "cell_type": "code",
   "execution_count": 7,
   "metadata": {},
   "outputs": [
    {
     "data": {
      "text/plain": [
       "5154471"
      ]
     },
     "execution_count": 7,
     "metadata": {},
     "output_type": "execute_result"
    }
   ],
   "source": [
    "raw_data.shape[0]"
   ]
  },
  {
   "cell_type": "markdown",
   "metadata": {},
   "source": [
    "# 테스트셋 분리"
   ]
  },
  {
   "cell_type": "code",
   "execution_count": 8,
   "metadata": {},
   "outputs": [],
   "source": [
    "def generate_general_train_test_set(test_plays: pd.DataFrame, n_all=10, n_seq=2) -> Tuple[pd.DataFrame, pd.DataFrame]:\n",
    "    np.random.seed(SEED)\n",
    "    trains, labels = [], []\n",
    "    for usr_id, tp in test_plays.groupby('user', as_index=False):\n",
    "        _n_all = min(tp.shape[0]//4, n_all)\n",
    "        _n_seq = min(_n_all, n_seq)\n",
    "        _n_static = _n_all - _n_seq\n",
    "        _n_all = _n_static + _n_seq\n",
    "\n",
    "        _idxs = np.random.permutation(tp.shape[0]-_n_seq)[:_n_static]\n",
    "        _mask = tp.index.isin(tp.index[_idxs])\n",
    "        for i in range(_n_seq):\n",
    "            _mask[-i-1] = True\n",
    "        if VERBOSE:\n",
    "         if _n_all != 10:\n",
    "            print('_n_all:', _n_all)\n",
    "            print(usr_id, _idxs)\n",
    "            print(_n_static, _n_seq)\n",
    "\n",
    "        trains.append(tp[~_mask])\n",
    "        labels.append(tp[_mask])\n",
    "        \n",
    "    train_df = pd.concat(trains)\n",
    "    label_df = pd.concat(labels)\n",
    "    return train_df, label_df"
   ]
  },
  {
   "cell_type": "code",
   "execution_count": 9,
   "metadata": {},
   "outputs": [],
   "source": [
    "train_df, label_df = generate_general_train_test_set(raw_data, n_all=10, n_seq=2)"
   ]
  },
  {
   "cell_type": "code",
   "execution_count": 10,
   "metadata": {},
   "outputs": [],
   "source": [
    "assert raw_data.shape[0] == train_df.shape[0] + label_df.shape[0]"
   ]
  },
  {
   "cell_type": "code",
   "execution_count": 11,
   "metadata": {},
   "outputs": [
    {
     "data": {
      "text/html": [
       "<div>\n",
       "<style scoped>\n",
       "    .dataframe tbody tr th:only-of-type {\n",
       "        vertical-align: middle;\n",
       "    }\n",
       "\n",
       "    .dataframe tbody tr th {\n",
       "        vertical-align: top;\n",
       "    }\n",
       "\n",
       "    .dataframe thead th {\n",
       "        text-align: right;\n",
       "    }\n",
       "</style>\n",
       "<table border=\"1\" class=\"dataframe\">\n",
       "  <thead>\n",
       "    <tr style=\"text-align: right;\">\n",
       "      <th></th>\n",
       "      <th>user</th>\n",
       "      <th>item</th>\n",
       "      <th>time</th>\n",
       "    </tr>\n",
       "  </thead>\n",
       "  <tbody>\n",
       "    <tr>\n",
       "      <th>61</th>\n",
       "      <td>11</td>\n",
       "      <td>150</td>\n",
       "      <td>1230785343</td>\n",
       "    </tr>\n",
       "    <tr>\n",
       "      <th>89</th>\n",
       "      <td>11</td>\n",
       "      <td>60037</td>\n",
       "      <td>1230787639</td>\n",
       "    </tr>\n",
       "    <tr>\n",
       "      <th>131</th>\n",
       "      <td>11</td>\n",
       "      <td>57368</td>\n",
       "      <td>1230788571</td>\n",
       "    </tr>\n",
       "    <tr>\n",
       "      <th>134</th>\n",
       "      <td>11</td>\n",
       "      <td>1748</td>\n",
       "      <td>1230788594</td>\n",
       "    </tr>\n",
       "    <tr>\n",
       "      <th>257</th>\n",
       "      <td>11</td>\n",
       "      <td>6996</td>\n",
       "      <td>1230856754</td>\n",
       "    </tr>\n",
       "    <tr>\n",
       "      <th>275</th>\n",
       "      <td>11</td>\n",
       "      <td>364</td>\n",
       "      <td>1230858919</td>\n",
       "    </tr>\n",
       "    <tr>\n",
       "      <th>301</th>\n",
       "      <td>11</td>\n",
       "      <td>3000</td>\n",
       "      <td>1230859482</td>\n",
       "    </tr>\n",
       "    <tr>\n",
       "      <th>351</th>\n",
       "      <td>11</td>\n",
       "      <td>69526</td>\n",
       "      <td>1251170492</td>\n",
       "    </tr>\n",
       "    <tr>\n",
       "      <th>374</th>\n",
       "      <td>11</td>\n",
       "      <td>7153</td>\n",
       "      <td>1294796132</td>\n",
       "    </tr>\n",
       "    <tr>\n",
       "      <th>375</th>\n",
       "      <td>11</td>\n",
       "      <td>4226</td>\n",
       "      <td>1294796159</td>\n",
       "    </tr>\n",
       "    <tr>\n",
       "      <th>376</th>\n",
       "      <td>14</td>\n",
       "      <td>8961</td>\n",
       "      <td>1225308746</td>\n",
       "    </tr>\n",
       "    <tr>\n",
       "      <th>380</th>\n",
       "      <td>14</td>\n",
       "      <td>1042</td>\n",
       "      <td>1225308819</td>\n",
       "    </tr>\n",
       "  </tbody>\n",
       "</table>\n",
       "</div>"
      ],
      "text/plain": [
       "     user   item        time\n",
       "61     11    150  1230785343\n",
       "89     11  60037  1230787639\n",
       "131    11  57368  1230788571\n",
       "134    11   1748  1230788594\n",
       "257    11   6996  1230856754\n",
       "275    11    364  1230858919\n",
       "301    11   3000  1230859482\n",
       "351    11  69526  1251170492\n",
       "374    11   7153  1294796132\n",
       "375    11   4226  1294796159\n",
       "376    14   8961  1225308746\n",
       "380    14   1042  1225308819"
      ]
     },
     "execution_count": 11,
     "metadata": {},
     "output_type": "execute_result"
    }
   ],
   "source": [
    "label_df.head(12)"
   ]
  },
  {
   "cell_type": "code",
   "execution_count": 12,
   "metadata": {},
   "outputs": [
    {
     "data": {
      "text/plain": [
       "array([    11,     14,     18, ..., 138486, 138492, 138493])"
      ]
     },
     "execution_count": 12,
     "metadata": {},
     "output_type": "execute_result"
    }
   ],
   "source": [
    "label_df['user'].unique()"
   ]
  },
  {
   "cell_type": "markdown",
   "metadata": {},
   "source": [
    "# recall계산 속도 테스트"
   ]
  },
  {
   "cell_type": "code",
   "execution_count": 13,
   "metadata": {},
   "outputs": [],
   "source": [
    "test_submission = pd.read_csv(\"general_test_submission.csv\")"
   ]
  },
  {
   "cell_type": "code",
   "execution_count": 57,
   "metadata": {},
   "outputs": [
    {
     "data": {
      "text/plain": [
       "0     1680\n",
       "1     1610\n",
       "2     2683\n",
       "3     4370\n",
       "4    80463\n",
       "5    88125\n",
       "6     4741\n",
       "7     1252\n",
       "8      915\n",
       "9     1237\n",
       "Name: item, dtype: int64"
      ]
     },
     "execution_count": 57,
     "metadata": {},
     "output_type": "execute_result"
    }
   ],
   "source": [
    "test_submission[test_submission['user'] == 11]['item']"
   ]
  },
  {
   "cell_type": "markdown",
   "metadata": {},
   "source": [
    "## for loop"
   ]
  },
  {
   "cell_type": "code",
   "execution_count": 58,
   "metadata": {},
   "outputs": [
    {
     "data": {
      "text/plain": [
       "0"
      ]
     },
     "execution_count": 58,
     "metadata": {},
     "output_type": "execute_result"
    }
   ],
   "source": [
    "label_df[label_df['user'] == 11]['item'].isin(test_submission[test_submission['user'] == 11]['item']).sum()"
   ]
  },
  {
   "cell_type": "code",
   "execution_count": 59,
   "metadata": {},
   "outputs": [],
   "source": [
    "from tqdm import tqdm"
   ]
  },
  {
   "cell_type": "code",
   "execution_count": 60,
   "metadata": {},
   "outputs": [
    {
     "name": "stderr",
     "output_type": "stream",
     "text": [
      "100%|██████████| 31360/31360 [00:42<00:00, 737.54it/s]"
     ]
    },
    {
     "name": "stdout",
     "output_type": "stream",
     "text": [
      "CPU times: user 42.5 s, sys: 80 ms, total: 42.6 s\n",
      "Wall time: 42.5 s\n"
     ]
    },
    {
     "name": "stderr",
     "output_type": "stream",
     "text": [
      "\n"
     ]
    }
   ],
   "source": [
    "%%time\n",
    "recall_sum = 0\n",
    "for user in tqdm(label_df['user'].unique()):\n",
    "    preds = label_df[label_df['user'] == user]['item']\n",
    "    labels = test_submission[test_submission['user'] == user]['item']\n",
    "\n",
    "    recall_sum += preds.isin(labels).sum() / labels.shape[0]"
   ]
  },
  {
   "cell_type": "code",
   "execution_count": 61,
   "metadata": {},
   "outputs": [
    {
     "data": {
      "text/plain": [
       "0.09025510204079744"
      ]
     },
     "execution_count": 61,
     "metadata": {},
     "output_type": "execute_result"
    }
   ],
   "source": [
    "recall_sum/label_df['user'].nunique()"
   ]
  },
  {
   "cell_type": "markdown",
   "metadata": {},
   "source": [
    "## async"
   ]
  },
  {
   "cell_type": "code",
   "execution_count": 62,
   "metadata": {},
   "outputs": [],
   "source": [
    "import asyncio"
   ]
  },
  {
   "cell_type": "code",
   "execution_count": 63,
   "metadata": {},
   "outputs": [],
   "source": [
    "async def _worker(user):\n",
    "    preds = label_df[label_df['user'] == user]['item']\n",
    "    labels = test_submission[test_submission['user'] == user]['item']\n",
    "\n",
    "    return preds.isin(labels).sum() / labels.shape[0]"
   ]
  },
  {
   "cell_type": "code",
   "execution_count": 64,
   "metadata": {},
   "outputs": [],
   "source": [
    "async def get_recall():\n",
    "    loop = asyncio.get_event_loop()\n",
    "    tasks = [loop.create_task(_worker(user)) for user in label_df['user'].unique()]\n",
    "    result = await asyncio.gather(*tasks)\n",
    "    print(sum(result) / label_df['user'].nunique())\n",
    "    return sum(result) / label_df['user'].nunique()"
   ]
  },
  {
   "cell_type": "code",
   "execution_count": 65,
   "metadata": {},
   "outputs": [
    {
     "name": "stdout",
     "output_type": "stream",
     "text": [
      "0.09025510204079744\n",
      "***run time(sec) : 43\n"
     ]
    }
   ],
   "source": [
    "start = int(time.time())\n",
    "await get_recall()\n",
    "print(\"***run time(sec) :\", int(time.time()) - start)"
   ]
  },
  {
   "cell_type": "markdown",
   "metadata": {},
   "source": [
    "## multiprocessing"
   ]
  },
  {
   "cell_type": "code",
   "execution_count": 66,
   "metadata": {},
   "outputs": [],
   "source": [
    "from multiprocessing import Pool"
   ]
  },
  {
   "cell_type": "code",
   "execution_count": 67,
   "metadata": {},
   "outputs": [],
   "source": [
    "def _worker(user):\n",
    "    preds = label_df[label_df['user'] == user]['item']\n",
    "    labels = test_submission[test_submission['user'] == user]['item']\n",
    "\n",
    "    return preds.isin(labels).sum() / labels.shape[0]"
   ]
  },
  {
   "cell_type": "code",
   "execution_count": 68,
   "metadata": {},
   "outputs": [],
   "source": [
    "def get_recall():\n",
    "    with Pool(os.cpu_count()) as p:\n",
    "        result = p.map(_worker, label_df['user'].unique())\n",
    "    return sum(result) / label_df['user'].nunique()"
   ]
  },
  {
   "cell_type": "code",
   "execution_count": 69,
   "metadata": {},
   "outputs": [
    {
     "name": "stdout",
     "output_type": "stream",
     "text": [
      "CPU times: user 104 ms, sys: 172 ms, total: 276 ms\n",
      "Wall time: 5.66 s\n"
     ]
    },
    {
     "data": {
      "text/plain": [
       "0.09025510204079744"
      ]
     },
     "execution_count": 69,
     "metadata": {},
     "output_type": "execute_result"
    }
   ],
   "source": [
    "%%time\n",
    "get_recall()"
   ]
  },
  {
   "cell_type": "code",
   "execution_count": 97,
   "metadata": {},
   "outputs": [],
   "source": [
    "def _worker(user_df):\n",
    "        user, submission_df = user_df\n",
    "        preds = label_df[label_df['user'] == user]['item']\n",
    "        labels = submission_df[submission_df['user'] == user]['item']\n",
    "\n",
    "        return preds.isin(labels).sum() / labels.shape[0]"
   ]
  },
  {
   "cell_type": "code",
   "execution_count": 98,
   "metadata": {},
   "outputs": [],
   "source": [
    "def get_recall(submission_df):\n",
    "    with Pool(os.cpu_count()) as p:\n",
    "        users = label_df['user'].unique()\n",
    "        result = p.map(_worker, zip(users, [submission_df]*len(users)) )\n",
    "    \n",
    "    return sum(result) / label_df['user'].nunique()"
   ]
  },
  {
   "cell_type": "markdown",
   "metadata": {},
   "source": [
    "# 모델별 성능 테스트"
   ]
  },
  {
   "cell_type": "code",
   "execution_count": 70,
   "metadata": {},
   "outputs": [],
   "source": [
    "test_submission_ep1 = pd.read_csv(\"general_test_submission_ep1.csv\")"
   ]
  },
  {
   "cell_type": "code",
   "execution_count": 71,
   "metadata": {},
   "outputs": [
    {
     "name": "stderr",
     "output_type": "stream",
     "text": [
      "100%|██████████| 31360/31360 [00:41<00:00, 752.22it/s]\n"
     ]
    }
   ],
   "source": [
    "_cnt = 0\n",
    "for user in tqdm(label_df['user'].unique()):\n",
    "    _cnt += label_df[label_df['user'] == user]['item'].isin(test_submission_ep1[test_submission_ep1['user'] == user]['item']).sum()"
   ]
  },
  {
   "cell_type": "code",
   "execution_count": 72,
   "metadata": {},
   "outputs": [
    {
     "data": {
      "text/plain": [
       "0.07685905612244898"
      ]
     },
     "execution_count": 72,
     "metadata": {},
     "output_type": "execute_result"
    }
   ],
   "source": [
    "_cnt/test_submission.shape[0]"
   ]
  },
  {
   "cell_type": "code",
   "execution_count": 73,
   "metadata": {},
   "outputs": [],
   "source": [
    "all_test_submission = pd.read_csv(\"g_test_submission.csv\")"
   ]
  },
  {
   "cell_type": "code",
   "execution_count": 74,
   "metadata": {},
   "outputs": [
    {
     "name": "stderr",
     "output_type": "stream",
     "text": [
      "100%|██████████| 31360/31360 [00:41<00:00, 752.16it/s]\n"
     ]
    }
   ],
   "source": [
    "_cnt = 0\n",
    "for user in tqdm(label_df['user'].unique()):\n",
    "    _cnt += label_df[label_df['user'] == user]['item'].isin(all_test_submission[all_test_submission['user'] == user]['item']).sum()"
   ]
  },
  {
   "cell_type": "code",
   "execution_count": 75,
   "metadata": {},
   "outputs": [
    {
     "data": {
      "text/plain": [
       "0.11298469387755102"
      ]
     },
     "execution_count": 75,
     "metadata": {},
     "output_type": "execute_result"
    }
   ],
   "source": [
    "_cnt/test_submission.shape[0]"
   ]
  },
  {
   "cell_type": "code",
   "execution_count": 99,
   "metadata": {},
   "outputs": [
    {
     "data": {
      "text/plain": [
       "0.1129846938775256"
      ]
     },
     "execution_count": 99,
     "metadata": {},
     "output_type": "execute_result"
    }
   ],
   "source": [
    "get_recall(all_test_submission)"
   ]
  }
 ],
 "metadata": {
  "interpreter": {
   "hash": "d4d1e4263499bec80672ea0156c357c1ee493ec2b1c70f0acce89fc37c4a6abe"
  },
  "kernelspec": {
   "display_name": "Python ('multivae')",
   "language": "python",
   "name": "python3"
  },
  "language_info": {
   "codemirror_mode": {
    "name": "ipython",
    "version": 3
   },
   "file_extension": ".py",
   "mimetype": "text/x-python",
   "name": "python",
   "nbconvert_exporter": "python",
   "pygments_lexer": "ipython3",
   "version": "3.8.5"
  },
  "orig_nbformat": 4
 },
 "nbformat": 4,
 "nbformat_minor": 2
}
