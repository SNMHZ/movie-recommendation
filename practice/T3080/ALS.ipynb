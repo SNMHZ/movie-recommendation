{
 "cells": [
  {
   "cell_type": "code",
   "execution_count": 1,
   "metadata": {},
   "outputs": [],
   "source": [
    "import os\n",
    "\n",
    "import pandas as pd\n",
    "import numpy as np\n",
    "import scipy\n",
    "import re\n",
    "import time\n",
    "\n",
    "from datetime import datetime\n",
    "from tqdm import tqdm\n",
    "import random\n",
    "\n",
    "from matplotlib import pyplot as plt\n",
    "import seaborn as sns\n",
    "%matplotlib inline\n",
    "\n",
    "import implicit\n",
    "import split_dataset\n",
    "import make_dict\n",
    "import warnings\n",
    "warnings.filterwarnings(\"ignore\")\n",
    "\n",
    "seed = 777\n",
    "\n",
    "random.seed(seed)\n",
    "np.random.seed(seed)"
   ]
  },
  {
   "cell_type": "code",
   "execution_count": 2,
   "metadata": {},
   "outputs": [],
   "source": [
    "# total\n",
    "train = pd.read_csv('/opt/ml/input/data/train/train_ratings.csv')"
   ]
  },
  {
   "cell_type": "code",
   "execution_count": 12,
   "metadata": {},
   "outputs": [],
   "source": [
    "# # val num is N\n",
    "# train_data_dir = '/opt/ml/workspace/level2-movie-recommendation-level2-recsys-13/practice/T3080'\n",
    "# train = pd.read_csv(os.path.join(train_data_dir, 'train_set_7.csv'))\n",
    "# val = pd.read_csv(os.path.join(train_data_dir, 'val_set_7.csv'))"
   ]
  },
  {
   "cell_type": "code",
   "execution_count": 13,
   "metadata": {},
   "outputs": [],
   "source": [
    "# train = pd.read_csv('/opt/ml/input/data/train/general/train_ratings.csv')\n",
    "# val = pd.read_csv('/opt/ml/input/data/train/general/test_ratings.csv')"
   ]
  },
  {
   "cell_type": "code",
   "execution_count": 3,
   "metadata": {},
   "outputs": [],
   "source": [
    "popular_movie_id_ls = train['item'].value_counts().index\n",
    "total_user_num = train['user'].nunique()"
   ]
  },
  {
   "cell_type": "code",
   "execution_count": 44,
   "metadata": {},
   "outputs": [
    {
     "name": "stdout",
     "output_type": "stream",
     "text": [
      "1961\n"
     ]
    }
   ],
   "source": [
    "unpopular = train['item'].value_counts() < 500\n",
    "unpopular_movie_ls = unpopular[unpopular].index\n",
    "print(train['item'].nunique() - len(unpopular_movie_ls))"
   ]
  },
  {
   "cell_type": "code",
   "execution_count": 4,
   "metadata": {},
   "outputs": [
    {
     "data": {
      "application/vnd.jupyter.widget-view+json": {
       "model_id": "e9aa604e08ce415eb696c315be3cb699",
       "version_major": 2,
       "version_minor": 0
      },
      "text/plain": [
       "  0%|          | 0/90 [00:00<?, ?it/s]"
      ]
     },
     "metadata": {},
     "output_type": "display_data"
    }
   ],
   "source": [
    "train['view'] = 1\n",
    "pivot = pd.pivot_table(data=train, values='view', index='user', columns='item').fillna(0)\n",
    "preference_matrix_csr = scipy.sparse.csr_matrix(pivot)\n",
    "\n",
    "# model\n",
    "als_model = implicit.als.AlternatingLeastSquares(factors=300, regularization=50, iterations=90, random_state=seed)\n",
    "als_model.fit(preference_matrix_csr)\n",
    "als_model_df = pd.DataFrame(np.matmul(als_model.user_factors.to_numpy(), als_model.item_factors.to_numpy().T), columns=pivot.columns, index=pivot.index)\n",
    "\n",
    "# masking\n",
    "als_model_df_final = als_model_df - pivot * 1000\n",
    "\n",
    "# top N\n",
    "result = [m.argsort()[::-1][:1000] for m in als_model_df_final.values]\n",
    "N = 10"
   ]
  },
  {
   "cell_type": "code",
   "execution_count": 5,
   "metadata": {},
   "outputs": [],
   "source": [
    "user_movie_dict = dict([(a,list(b)) for a,b in train.groupby(['user']).agg({'item':'unique'}).reset_index().values])"
   ]
  },
  {
   "cell_type": "code",
   "execution_count": 6,
   "metadata": {},
   "outputs": [],
   "source": [
    "# make dict\n",
    "movie_genre_dict, movie_year_dict, movie_director_dict, movie_writer_dict = make_dict.make_movie_info_dict()\n",
    "user_genre_dict, user_year_dict, user_director_dict, user_writer_dict = make_dict.make_user_info_dict(train)"
   ]
  },
  {
   "cell_type": "markdown",
   "metadata": {},
   "source": [
    "-----------------"
   ]
  },
  {
   "cell_type": "code",
   "execution_count": 7,
   "metadata": {},
   "outputs": [
    {
     "name": "stderr",
     "output_type": "stream",
     "text": [
      "100%|██████████| 31360/31360 [00:04<00:00, 6627.85it/s]\n"
     ]
    }
   ],
   "source": [
    "# 테스트\n",
    "users, items = [], [[] for _ in range(total_user_num)]\n",
    "item_columns = als_model_df_final.columns\n",
    "user_id = als_model_df_final.index\n",
    "for idx in tqdm(range(total_user_num)):\n",
    "    users.extend([user_id[idx]] * N)\n",
    "    movie_cnt = 0\n",
    "    popular_cnt = 0\n",
    "    for k in popular_movie_id_ls:\n",
    "        if len(items[idx]) < 2:\n",
    "            if k not in user_movie_dict[user_id[idx]] and (movie_year_dict[k]<=user_year_dict[user_id[idx]]):\n",
    "                items[idx].append(k)\n",
    "        else:\n",
    "            break\n",
    "\n",
    "    for i in result[idx]:\n",
    "        if movie_year_dict[item_columns[i]]<=user_year_dict[user_id[idx]]:\n",
    "            if len(items[idx]) < N:\n",
    "                if item_columns[i] not in items[idx]:\n",
    "                    items[idx].append(item_columns[i])\n",
    "            else:\n",
    "                break"
   ]
  },
  {
   "cell_type": "code",
   "execution_count": 7,
   "metadata": {},
   "outputs": [
    {
     "name": "stderr",
     "output_type": "stream",
     "text": [
      "100%|██████████| 31360/31360 [00:00<00:00, 81093.98it/s]\n"
     ]
    }
   ],
   "source": [
    "# 노필터링\n",
    "users, items = [], [[] for _ in range(total_user_num)]\n",
    "item_columns = als_model_df_final.columns\n",
    "user_id = als_model_df_final.index\n",
    "for idx in tqdm(range(total_user_num)):\n",
    "    users.extend([user_id[idx]] * N)\n",
    "    for i in result[idx]:\n",
    "        if len(items[idx]) < N:\n",
    "            items[idx].append(item_columns[i])\n",
    "        else:\n",
    "            break"
   ]
  },
  {
   "cell_type": "code",
   "execution_count": 45,
   "metadata": {},
   "outputs": [
    {
     "name": "stderr",
     "output_type": "stream",
     "text": [
      "100%|██████████| 31360/31360 [00:01<00:00, 16379.82it/s]\n"
     ]
    }
   ],
   "source": [
    "# 연도 & 장르 필터링\n",
    "users, items = [], [[] for _ in range(total_user_num)]\n",
    "item_columns = als_model_df_final.columns\n",
    "user_id = als_model_df_final.index\n",
    "for idx in tqdm(range(total_user_num)):\n",
    "    users.extend([user_id[idx]] * N)\n",
    "    for i in result[idx]:\n",
    "        # if (len(set(movie_genre_dict[item_columns[i]])-set(user_genre_dict[user_id[idx]])) <= 1): # 장르\n",
    "        if (movie_year_dict[item_columns[i]]<=user_year_dict[user_id[idx]]) and item_columns[i] not in unpopular_movie_ls: # 연도\n",
    "        # if (len(set(movie_genre_dict[item_columns[i]])-set(user_genre_dict[user_id[idx]])) <= 1) and (movie_year_dict[item_columns[i]]<=user_year_dict[user_id[idx]]): # 장르,연도\n",
    "            if len(items[idx]) < N:\n",
    "                items[idx].append(item_columns[i])\n",
    "            else:\n",
    "                break"
   ]
  },
  {
   "cell_type": "code",
   "execution_count": null,
   "metadata": {},
   "outputs": [],
   "source": [
    "# 감독\n",
    "users, items = list(), list()\n",
    "item_columns = als_model_df_final.columns\n",
    "user_id = als_model_df_final.index\n",
    "for idx in tqdm(range(len(result))):\n",
    "    users.extend([user_id[idx]] * N)\n",
    "    movie_cnt = 0\n",
    "    for i in result[idx]:\n",
    "        if item_columns[i] in movie_director_dict:\n",
    "            if len(set(movie_director_dict[item_columns[i]]) - set(user_director_dict[user_id[idx]])) < 4:\n",
    "                if movie_cnt < N:\n",
    "                    items.append(item_columns[i])\n",
    "                    movie_cnt += 1\n",
    "                else:\n",
    "                    break\n",
    "        else:\n",
    "            if movie_cnt < 10:\n",
    "                items.append(item_columns[i])\n",
    "                movie_cnt += 1\n",
    "            else:\n",
    "                break"
   ]
  },
  {
   "cell_type": "code",
   "execution_count": null,
   "metadata": {},
   "outputs": [],
   "source": [
    "# nonfilter\n",
    "nonfilter = pd.DataFrame(zip(users,items), columns=['user','item'])\n",
    "\n",
    "tt = nonfilter.groupby(['user']).agg({'item':'unique'}).reset_index()\n",
    "vv = val.groupby(['user']).agg({'item':'unique'}).reset_index()\n",
    "\n",
    "user_num = train['user'].nunique()\n",
    "recall = []\n",
    "for i in range(user_num):\n",
    "    recall.append(len(set(tt.iloc[i,1]) & set(vv.iloc[i,1])) / N)\n",
    "print(sum(recall)/len(recall))"
   ]
  },
  {
   "cell_type": "code",
   "execution_count": null,
   "metadata": {},
   "outputs": [],
   "source": [
    "# genre filter\n",
    "genrefilter = pd.DataFrame(zip(users,items), columns=['user','item'])\n",
    "\n",
    "tt = genrefilter.groupby(['user']).agg({'item':'unique'}).reset_index()\n",
    "vv = val.groupby(['user']).agg({'item':'unique'}).reset_index()\n",
    "\n",
    "user_num = train['user'].nunique()\n",
    "recall = []\n",
    "for i in range(user_num):\n",
    "    recall.append(len(set(tt.iloc[i,1]) & set(vv.iloc[i,1])) / 5)\n",
    "print(sum(recall)/len(recall))"
   ]
  },
  {
   "cell_type": "code",
   "execution_count": null,
   "metadata": {},
   "outputs": [],
   "source": [
    "# year filter\n",
    "yearfilter = pd.DataFrame(zip(users,items), columns=['user','item'])\n",
    "\n",
    "tt = yearfilter.groupby(['user']).agg({'item':'unique'}).reset_index()\n",
    "vv = val.groupby(['user']).agg({'item':'unique'}).reset_index()\n",
    "\n",
    "user_num = train['user'].nunique()\n",
    "recall = []\n",
    "for i in range(user_num):\n",
    "    recall.append(len(set(tt.iloc[i,1]) & set(vv.iloc[i,1])) / 5)\n",
    "print(sum(recall)/len(recall))"
   ]
  },
  {
   "cell_type": "code",
   "execution_count": null,
   "metadata": {},
   "outputs": [],
   "source": [
    "# genre-year filter\n",
    "genreyearfilter = pd.DataFrame(zip(users,items), columns=['user','item'])\n",
    "\n",
    "tt = genreyearfilter.groupby(['user']).agg({'item':'unique'}).reset_index()\n",
    "vv = val.groupby(['user']).agg({'item':'unique'}).reset_index()\n",
    "\n",
    "user_num = train['user'].nunique()\n",
    "recall = []\n",
    "for i in range(user_num):\n",
    "    recall.append(len(set(tt.iloc[i,1]) & set(vv.iloc[i,1])) / N)\n",
    "print(sum(recall)/len(recall))"
   ]
  },
  {
   "cell_type": "code",
   "execution_count": null,
   "metadata": {},
   "outputs": [],
   "source": [
    "# director filter\n",
    "directorfilter = pd.DataFrame(zip(users,items), columns=['user','item'])\n",
    "\n",
    "tt = directorfilter.groupby(['user']).agg({'item':'unique'}).reset_index()\n",
    "vv = val.groupby(['user']).agg({'item':'unique'}).reset_index()\n",
    "\n",
    "user_num = train['user'].nunique()\n",
    "recall = []\n",
    "for i in range(user_num):\n",
    "    recall.append(len(set(tt.iloc[i,1]) & set(vv.iloc[i,1])) / N)\n",
    "print(sum(recall)/len(recall))"
   ]
  },
  {
   "cell_type": "markdown",
   "metadata": {},
   "source": [
    "### submission"
   ]
  },
  {
   "cell_type": "code",
   "execution_count": 46,
   "metadata": {},
   "outputs": [
    {
     "name": "stdout",
     "output_type": "stream",
     "text": [
      "(313600,)\n"
     ]
    }
   ],
   "source": [
    "sub = pd.DataFrame(zip(users,np.array(items).flatten()), columns=['user','item'])\n",
    "# sub = pd.DataFrame(zip(users, items), columns=['user','item'])\n",
    "sub.to_csv(\"result/unpopular500_als_yearfilter.csv\", index=False)\n",
    "print(sub.item.shape)"
   ]
  },
  {
   "cell_type": "markdown",
   "metadata": {},
   "source": [
    "### all parameter train"
   ]
  },
  {
   "cell_type": "code",
   "execution_count": null,
   "metadata": {},
   "outputs": [],
   "source": [
    "# vv = val.groupby(['user']).agg({'item':'unique'}).reset_index()\n",
    "# best_recall = 0\n",
    "# best_recall_dic = {'factor':0, 'regul':0, 'iter':0, 'recall':0}\n",
    "# for fac in [100, 150, 200]:\n",
    "#     for reg in [40, 50, 60]:\n",
    "#         for iter in [30, 40, 50, 70]:\n",
    "#             als_model = implicit.als.AlternatingLeastSquares(factors=fac, regularization=reg, iterations=iter, random_state=seed)\n",
    "#             preference_matrix_csr = scipy.sparse.csr_matrix(pivot)\n",
    "#             als_model.fit(preference_matrix_csr)\n",
    "#             als_model_df = pd.DataFrame(np.matmul(als_model.user_factors, als_model.item_factors.T), columns=pivot.columns, index=pivot.index)\n",
    "#             als_model_df_final = als_model_df - pivot * 1000\n",
    "#             result = [m.argsort()[::-1][:100] for m in als_model_df_final.values]\n",
    "#             users, items = list(), list()\n",
    "#             item_columns = als_model_df_final.columns\n",
    "#             user_id = als_model_df_final.index\n",
    "#             for idx in range(len(result)):\n",
    "#                 users.extend([user_id[idx]] * 10)\n",
    "#                 movie_cnt = 0\n",
    "#                 for i in result[idx]:\n",
    "#                     if len(set(movie_genre_dict[item_columns[i]]) - set(user_genre_preference_dict[user_id[idx]])) == 0:\n",
    "#                         if movie_cnt < 10:\n",
    "#                             items.append(item_columns[i])\n",
    "#                             movie_cnt += 1\n",
    "#                         else:\n",
    "#                             break\n",
    "                    \n",
    "#             test_df = pd.DataFrame(zip(users,items), columns=['user','item'])\n",
    "#             tt = test_df.groupby(['user']).agg({'item':'unique'}).reset_index()\n",
    "#             recall = []\n",
    "#             for i in tqdm(range(vv.shape[0])):\n",
    "#                 recall.append(len(set(vv.iloc[i,1]) & set(tt.iloc[i,1])) / 5)\n",
    "#             avg_recall = sum(recall) / len(recall)\n",
    "#             if best_recall < avg_recall:\n",
    "#                 best_recall = avg_recall\n",
    "#                 best_recall_dic['factor'] = fac\n",
    "#                 best_recall_dic['regul'] = reg\n",
    "#                 best_recall_dic['iter'] = iter\n",
    "#                 best_recall_dic['recall'] = best_recall\n",
    "#                 best_result = test_df\n",
    "#                 print(f'best recall={best_recall}')\n",
    "\n",
    "#             print(f'factor={fac} | regularization={reg} | iterations={iter} | recall={avg_recall}')\n"
   ]
  }
 ],
 "metadata": {
  "interpreter": {
   "hash": "d4d1e4263499bec80672ea0156c357c1ee493ec2b1c70f0acce89fc37c4a6abe"
  },
  "kernelspec": {
   "display_name": "Python 3 (ipykernel)",
   "language": "python",
   "name": "python3"
  },
  "language_info": {
   "codemirror_mode": {
    "name": "ipython",
    "version": 3
   },
   "file_extension": ".py",
   "mimetype": "text/x-python",
   "name": "python",
   "nbconvert_exporter": "python",
   "pygments_lexer": "ipython3",
   "version": "3.8.5"
  }
 },
 "nbformat": 4,
 "nbformat_minor": 4
}
