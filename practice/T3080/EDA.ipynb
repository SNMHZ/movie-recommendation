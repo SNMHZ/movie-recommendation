{
 "cells": [
  {
   "cell_type": "code",
   "execution_count": 1,
   "id": "846dc901-1419-414b-b4b1-8b55f22a04c7",
   "metadata": {},
   "outputs": [],
   "source": [
    "import pandas as pd\n",
    "import numpy as np\n",
    "import matplotlib.pyplot as plt\n",
    "import seaborn as sns\n",
    "\n",
    "import os\n",
    "import time"
   ]
  },
  {
   "cell_type": "code",
   "execution_count": 2,
   "id": "0dbc13b0-baae-45f9-8240-048db8fa6c7e",
   "metadata": {},
   "outputs": [],
   "source": [
    "train_data_dir = '/opt/ml/input/data/train/'"
   ]
  },
  {
   "cell_type": "code",
   "execution_count": 3,
   "id": "5e8cb8dc-7456-440e-be47-6e08c5ee40b1",
   "metadata": {},
   "outputs": [],
   "source": [
    "train_rating = pd.read_csv(os.path.join(train_data_dir, 'train_ratings.csv'))\n",
    "# item info\n",
    "writers = pd.read_csv(os.path.join(train_data_dir, 'writers.tsv'), sep='\\t')\n",
    "director = pd.read_csv(os.path.join(train_data_dir, 'directors.tsv'), sep='\\t')\n",
    "title = pd.read_csv(os.path.join(train_data_dir, 'titles.tsv'), sep='\\t')\n",
    "genre = pd.read_csv(os.path.join(train_data_dir, 'genres.tsv'), sep='\\t')\n",
    "year = pd.read_csv(os.path.join(train_data_dir, 'years.tsv'), sep='\\t')"
   ]
  },
  {
   "cell_type": "code",
   "execution_count": 4,
   "id": "5334fdba",
   "metadata": {},
   "outputs": [
    {
     "data": {
      "text/html": [
       "<div>\n",
       "<style scoped>\n",
       "    .dataframe tbody tr th:only-of-type {\n",
       "        vertical-align: middle;\n",
       "    }\n",
       "\n",
       "    .dataframe tbody tr th {\n",
       "        vertical-align: top;\n",
       "    }\n",
       "\n",
       "    .dataframe thead th {\n",
       "        text-align: right;\n",
       "    }\n",
       "</style>\n",
       "<table border=\"1\" class=\"dataframe\">\n",
       "  <thead>\n",
       "    <tr style=\"text-align: right;\">\n",
       "      <th></th>\n",
       "      <th>user</th>\n",
       "      <th>item</th>\n",
       "      <th>time</th>\n",
       "    </tr>\n",
       "  </thead>\n",
       "  <tbody>\n",
       "    <tr>\n",
       "      <th>0</th>\n",
       "      <td>11</td>\n",
       "      <td>4643</td>\n",
       "      <td>1230782529</td>\n",
       "    </tr>\n",
       "    <tr>\n",
       "      <th>1</th>\n",
       "      <td>11</td>\n",
       "      <td>170</td>\n",
       "      <td>1230782534</td>\n",
       "    </tr>\n",
       "    <tr>\n",
       "      <th>2</th>\n",
       "      <td>11</td>\n",
       "      <td>531</td>\n",
       "      <td>1230782539</td>\n",
       "    </tr>\n",
       "    <tr>\n",
       "      <th>3</th>\n",
       "      <td>11</td>\n",
       "      <td>616</td>\n",
       "      <td>1230782542</td>\n",
       "    </tr>\n",
       "    <tr>\n",
       "      <th>4</th>\n",
       "      <td>11</td>\n",
       "      <td>2140</td>\n",
       "      <td>1230782563</td>\n",
       "    </tr>\n",
       "    <tr>\n",
       "      <th>...</th>\n",
       "      <td>...</td>\n",
       "      <td>...</td>\n",
       "      <td>...</td>\n",
       "    </tr>\n",
       "    <tr>\n",
       "      <th>5154466</th>\n",
       "      <td>138493</td>\n",
       "      <td>44022</td>\n",
       "      <td>1260209449</td>\n",
       "    </tr>\n",
       "    <tr>\n",
       "      <th>5154467</th>\n",
       "      <td>138493</td>\n",
       "      <td>4958</td>\n",
       "      <td>1260209482</td>\n",
       "    </tr>\n",
       "    <tr>\n",
       "      <th>5154468</th>\n",
       "      <td>138493</td>\n",
       "      <td>68319</td>\n",
       "      <td>1260209720</td>\n",
       "    </tr>\n",
       "    <tr>\n",
       "      <th>5154469</th>\n",
       "      <td>138493</td>\n",
       "      <td>40819</td>\n",
       "      <td>1260209726</td>\n",
       "    </tr>\n",
       "    <tr>\n",
       "      <th>5154470</th>\n",
       "      <td>138493</td>\n",
       "      <td>27311</td>\n",
       "      <td>1260209807</td>\n",
       "    </tr>\n",
       "  </tbody>\n",
       "</table>\n",
       "<p>5154471 rows × 3 columns</p>\n",
       "</div>"
      ],
      "text/plain": [
       "           user   item        time\n",
       "0            11   4643  1230782529\n",
       "1            11    170  1230782534\n",
       "2            11    531  1230782539\n",
       "3            11    616  1230782542\n",
       "4            11   2140  1230782563\n",
       "...         ...    ...         ...\n",
       "5154466  138493  44022  1260209449\n",
       "5154467  138493   4958  1260209482\n",
       "5154468  138493  68319  1260209720\n",
       "5154469  138493  40819  1260209726\n",
       "5154470  138493  27311  1260209807\n",
       "\n",
       "[5154471 rows x 3 columns]"
      ]
     },
     "execution_count": 4,
     "metadata": {},
     "output_type": "execute_result"
    }
   ],
   "source": [
    "train_rating"
   ]
  },
  {
   "cell_type": "code",
   "execution_count": 5,
   "id": "5a7bd291",
   "metadata": {},
   "outputs": [
    {
     "name": "stdout",
     "output_type": "stream",
     "text": [
      "유저 id [    11     14     18 ... 138486 138492 138493]\n",
      "총 유저수 31360\n",
      "모든 유저가 본 총 영화 수 6807\n"
     ]
    }
   ],
   "source": [
    "print('유저 id',train_rating['user'].unique())\n",
    "print('총 유저수', train_rating['user'].nunique())\n",
    "print('모든 유저가 본 총 영화 수', train_rating['item'].nunique())"
   ]
  },
  {
   "cell_type": "markdown",
   "id": "6f38df2f",
   "metadata": {},
   "source": [
    "- time 이 unix시간으로 나타나 있으므로 변경\n",
    "- year 만 유의미할 것이라고 판단 (영화의 개봉연도만 제공하기 때문)"
   ]
  },
  {
   "cell_type": "code",
   "execution_count": 6,
   "id": "f5a65a84",
   "metadata": {},
   "outputs": [],
   "source": [
    "def change_time(t):\n",
    "    return time.strftime('%Y-%m-%d', time.localtime(t))"
   ]
  },
  {
   "cell_type": "code",
   "execution_count": 7,
   "id": "13c7cf67",
   "metadata": {},
   "outputs": [
    {
     "data": {
      "text/html": [
       "<div>\n",
       "<style scoped>\n",
       "    .dataframe tbody tr th:only-of-type {\n",
       "        vertical-align: middle;\n",
       "    }\n",
       "\n",
       "    .dataframe tbody tr th {\n",
       "        vertical-align: top;\n",
       "    }\n",
       "\n",
       "    .dataframe thead th {\n",
       "        text-align: right;\n",
       "    }\n",
       "</style>\n",
       "<table border=\"1\" class=\"dataframe\">\n",
       "  <thead>\n",
       "    <tr style=\"text-align: right;\">\n",
       "      <th></th>\n",
       "      <th>user</th>\n",
       "      <th>item</th>\n",
       "      <th>time</th>\n",
       "      <th>datetime</th>\n",
       "      <th>year</th>\n",
       "    </tr>\n",
       "  </thead>\n",
       "  <tbody>\n",
       "    <tr>\n",
       "      <th>0</th>\n",
       "      <td>11</td>\n",
       "      <td>4643</td>\n",
       "      <td>1230782529</td>\n",
       "      <td>2009-01-01</td>\n",
       "      <td>2009</td>\n",
       "    </tr>\n",
       "    <tr>\n",
       "      <th>1</th>\n",
       "      <td>11</td>\n",
       "      <td>170</td>\n",
       "      <td>1230782534</td>\n",
       "      <td>2009-01-01</td>\n",
       "      <td>2009</td>\n",
       "    </tr>\n",
       "    <tr>\n",
       "      <th>2</th>\n",
       "      <td>11</td>\n",
       "      <td>531</td>\n",
       "      <td>1230782539</td>\n",
       "      <td>2009-01-01</td>\n",
       "      <td>2009</td>\n",
       "    </tr>\n",
       "    <tr>\n",
       "      <th>3</th>\n",
       "      <td>11</td>\n",
       "      <td>616</td>\n",
       "      <td>1230782542</td>\n",
       "      <td>2009-01-01</td>\n",
       "      <td>2009</td>\n",
       "    </tr>\n",
       "    <tr>\n",
       "      <th>4</th>\n",
       "      <td>11</td>\n",
       "      <td>2140</td>\n",
       "      <td>1230782563</td>\n",
       "      <td>2009-01-01</td>\n",
       "      <td>2009</td>\n",
       "    </tr>\n",
       "    <tr>\n",
       "      <th>...</th>\n",
       "      <td>...</td>\n",
       "      <td>...</td>\n",
       "      <td>...</td>\n",
       "      <td>...</td>\n",
       "      <td>...</td>\n",
       "    </tr>\n",
       "    <tr>\n",
       "      <th>5154466</th>\n",
       "      <td>138493</td>\n",
       "      <td>44022</td>\n",
       "      <td>1260209449</td>\n",
       "      <td>2009-12-07</td>\n",
       "      <td>2009</td>\n",
       "    </tr>\n",
       "    <tr>\n",
       "      <th>5154467</th>\n",
       "      <td>138493</td>\n",
       "      <td>4958</td>\n",
       "      <td>1260209482</td>\n",
       "      <td>2009-12-07</td>\n",
       "      <td>2009</td>\n",
       "    </tr>\n",
       "    <tr>\n",
       "      <th>5154468</th>\n",
       "      <td>138493</td>\n",
       "      <td>68319</td>\n",
       "      <td>1260209720</td>\n",
       "      <td>2009-12-07</td>\n",
       "      <td>2009</td>\n",
       "    </tr>\n",
       "    <tr>\n",
       "      <th>5154469</th>\n",
       "      <td>138493</td>\n",
       "      <td>40819</td>\n",
       "      <td>1260209726</td>\n",
       "      <td>2009-12-07</td>\n",
       "      <td>2009</td>\n",
       "    </tr>\n",
       "    <tr>\n",
       "      <th>5154470</th>\n",
       "      <td>138493</td>\n",
       "      <td>27311</td>\n",
       "      <td>1260209807</td>\n",
       "      <td>2009-12-07</td>\n",
       "      <td>2009</td>\n",
       "    </tr>\n",
       "  </tbody>\n",
       "</table>\n",
       "<p>5154471 rows × 5 columns</p>\n",
       "</div>"
      ],
      "text/plain": [
       "           user   item        time   datetime  year\n",
       "0            11   4643  1230782529 2009-01-01  2009\n",
       "1            11    170  1230782534 2009-01-01  2009\n",
       "2            11    531  1230782539 2009-01-01  2009\n",
       "3            11    616  1230782542 2009-01-01  2009\n",
       "4            11   2140  1230782563 2009-01-01  2009\n",
       "...         ...    ...         ...        ...   ...\n",
       "5154466  138493  44022  1260209449 2009-12-07  2009\n",
       "5154467  138493   4958  1260209482 2009-12-07  2009\n",
       "5154468  138493  68319  1260209720 2009-12-07  2009\n",
       "5154469  138493  40819  1260209726 2009-12-07  2009\n",
       "5154470  138493  27311  1260209807 2009-12-07  2009\n",
       "\n",
       "[5154471 rows x 5 columns]"
      ]
     },
     "execution_count": 7,
     "metadata": {},
     "output_type": "execute_result"
    }
   ],
   "source": [
    "train_rating['datetime'] = train_rating['time'].apply(change_time)\n",
    "train_rating['datetime'] = pd.to_datetime(train_rating['datetime'])\n",
    "train_rating['year'] = train_rating['datetime'].dt.year\n",
    "train_rating"
   ]
  },
  {
   "cell_type": "markdown",
   "id": "1d695d3b",
   "metadata": {},
   "source": [
    "--------"
   ]
  },
  {
   "cell_type": "markdown",
   "id": "94c10506",
   "metadata": {},
   "source": [
    "## item infomation"
   ]
  },
  {
   "cell_type": "markdown",
   "id": "ea193221",
   "metadata": {},
   "source": [
    "### writer 작가"
   ]
  },
  {
   "cell_type": "code",
   "execution_count": 8,
   "id": "e86ca760",
   "metadata": {},
   "outputs": [
    {
     "data": {
      "text/html": [
       "<div>\n",
       "<style scoped>\n",
       "    .dataframe tbody tr th:only-of-type {\n",
       "        vertical-align: middle;\n",
       "    }\n",
       "\n",
       "    .dataframe tbody tr th {\n",
       "        vertical-align: top;\n",
       "    }\n",
       "\n",
       "    .dataframe thead th {\n",
       "        text-align: right;\n",
       "    }\n",
       "</style>\n",
       "<table border=\"1\" class=\"dataframe\">\n",
       "  <thead>\n",
       "    <tr style=\"text-align: right;\">\n",
       "      <th></th>\n",
       "      <th>item</th>\n",
       "      <th>writer</th>\n",
       "    </tr>\n",
       "  </thead>\n",
       "  <tbody>\n",
       "    <tr>\n",
       "      <th>0</th>\n",
       "      <td>1237</td>\n",
       "      <td>nm0000005</td>\n",
       "    </tr>\n",
       "    <tr>\n",
       "      <th>1</th>\n",
       "      <td>5147</td>\n",
       "      <td>nm0000005</td>\n",
       "    </tr>\n",
       "    <tr>\n",
       "      <th>2</th>\n",
       "      <td>7327</td>\n",
       "      <td>nm0000005</td>\n",
       "    </tr>\n",
       "    <tr>\n",
       "      <th>3</th>\n",
       "      <td>2068</td>\n",
       "      <td>nm0000005</td>\n",
       "    </tr>\n",
       "    <tr>\n",
       "      <th>4</th>\n",
       "      <td>7396</td>\n",
       "      <td>nm0000005</td>\n",
       "    </tr>\n",
       "    <tr>\n",
       "      <th>...</th>\n",
       "      <td>...</td>\n",
       "      <td>...</td>\n",
       "    </tr>\n",
       "    <tr>\n",
       "      <th>11301</th>\n",
       "      <td>27397</td>\n",
       "      <td>nm5371819</td>\n",
       "    </tr>\n",
       "    <tr>\n",
       "      <th>11302</th>\n",
       "      <td>2987</td>\n",
       "      <td>nm5927607</td>\n",
       "    </tr>\n",
       "    <tr>\n",
       "      <th>11303</th>\n",
       "      <td>33463</td>\n",
       "      <td>nm5927607</td>\n",
       "    </tr>\n",
       "    <tr>\n",
       "      <th>11304</th>\n",
       "      <td>2987</td>\n",
       "      <td>nm5927608</td>\n",
       "    </tr>\n",
       "    <tr>\n",
       "      <th>11305</th>\n",
       "      <td>33463</td>\n",
       "      <td>nm5927608</td>\n",
       "    </tr>\n",
       "  </tbody>\n",
       "</table>\n",
       "<p>11306 rows × 2 columns</p>\n",
       "</div>"
      ],
      "text/plain": [
       "        item     writer\n",
       "0       1237  nm0000005\n",
       "1       5147  nm0000005\n",
       "2       7327  nm0000005\n",
       "3       2068  nm0000005\n",
       "4       7396  nm0000005\n",
       "...      ...        ...\n",
       "11301  27397  nm5371819\n",
       "11302   2987  nm5927607\n",
       "11303  33463  nm5927607\n",
       "11304   2987  nm5927608\n",
       "11305  33463  nm5927608\n",
       "\n",
       "[11306 rows x 2 columns]"
      ]
     },
     "execution_count": 8,
     "metadata": {},
     "output_type": "execute_result"
    }
   ],
   "source": [
    "writers"
   ]
  },
  {
   "cell_type": "code",
   "execution_count": 9,
   "id": "885327ee",
   "metadata": {},
   "outputs": [
    {
     "name": "stdout",
     "output_type": "stream",
     "text": [
      "(11306, 2)\n",
      "결측치\n",
      "item      0\n",
      "writer    0\n",
      "dtype: int64\n",
      "영화 수 5648\n",
      "작가 수 2989\n"
     ]
    }
   ],
   "source": [
    "print(writers.shape)\n",
    "print('결측치')\n",
    "print(writers.isnull().sum())\n",
    "print('영화 수',writers['item'].nunique())\n",
    "print('작가 수', writers['writer'].nunique())\n"
   ]
  },
  {
   "cell_type": "code",
   "execution_count": 10,
   "id": "de6f14dc",
   "metadata": {},
   "outputs": [
    {
     "data": {
      "text/plain": [
       "nm0000095    47\n",
       "nm0000636    35\n",
       "nm0000175    32\n",
       "nm0372942    30\n",
       "nm0000108    29\n",
       "             ..\n",
       "nm0414893     2\n",
       "nm0414448     2\n",
       "nm0414117     2\n",
       "nm0414047     2\n",
       "nm5927608     2\n",
       "Name: writer, Length: 2989, dtype: int64"
      ]
     },
     "execution_count": 10,
     "metadata": {},
     "output_type": "execute_result"
    }
   ],
   "source": [
    "# 작가당 영화 참여수\n",
    "writers['writer'].value_counts()"
   ]
  },
  {
   "cell_type": "code",
   "execution_count": 11,
   "id": "b2eeb92c",
   "metadata": {},
   "outputs": [
    {
     "data": {
      "text/plain": [
       "1907     24\n",
       "783      23\n",
       "364      21\n",
       "2687     21\n",
       "48322    19\n",
       "         ..\n",
       "79073     1\n",
       "176       1\n",
       "2560      1\n",
       "42007     1\n",
       "1237      1\n",
       "Name: item, Length: 5648, dtype: int64"
      ]
     },
     "execution_count": 11,
     "metadata": {},
     "output_type": "execute_result"
    }
   ],
   "source": [
    "# 영화당 작가수\n",
    "writers['item'].value_counts()"
   ]
  },
  {
   "cell_type": "code",
   "execution_count": 12,
   "id": "9e4caaac",
   "metadata": {},
   "outputs": [
    {
     "data": {
      "text/html": [
       "<div>\n",
       "<style scoped>\n",
       "    .dataframe tbody tr th:only-of-type {\n",
       "        vertical-align: middle;\n",
       "    }\n",
       "\n",
       "    .dataframe tbody tr th {\n",
       "        vertical-align: top;\n",
       "    }\n",
       "\n",
       "    .dataframe thead th {\n",
       "        text-align: right;\n",
       "    }\n",
       "</style>\n",
       "<table border=\"1\" class=\"dataframe\">\n",
       "  <thead>\n",
       "    <tr style=\"text-align: right;\">\n",
       "      <th></th>\n",
       "      <th>writer</th>\n",
       "    </tr>\n",
       "    <tr>\n",
       "      <th>item</th>\n",
       "      <th></th>\n",
       "    </tr>\n",
       "  </thead>\n",
       "  <tbody>\n",
       "    <tr>\n",
       "      <th>1</th>\n",
       "      <td>[nm0004056, nm0005124, nm0169505, nm0230032, n...</td>\n",
       "    </tr>\n",
       "    <tr>\n",
       "      <th>2</th>\n",
       "      <td>[nm0378144, nm0852430, nm0885575]</td>\n",
       "    </tr>\n",
       "    <tr>\n",
       "      <th>3</th>\n",
       "      <td>[nm0425756]</td>\n",
       "    </tr>\n",
       "    <tr>\n",
       "      <th>4</th>\n",
       "      <td>[nm0060103]</td>\n",
       "    </tr>\n",
       "    <tr>\n",
       "      <th>5</th>\n",
       "      <td>[nm0329304, nm0352443, nm0583600, nm0796124]</td>\n",
       "    </tr>\n",
       "    <tr>\n",
       "      <th>...</th>\n",
       "      <td>...</td>\n",
       "    </tr>\n",
       "    <tr>\n",
       "      <th>118696</th>\n",
       "      <td>[nm0001392, nm0101991, nm0866058, nm0868219, n...</td>\n",
       "    </tr>\n",
       "    <tr>\n",
       "      <th>118900</th>\n",
       "      <td>[nm0394984]</td>\n",
       "    </tr>\n",
       "    <tr>\n",
       "      <th>118997</th>\n",
       "      <td>[nm0487567]</td>\n",
       "    </tr>\n",
       "    <tr>\n",
       "      <th>119141</th>\n",
       "      <td>[nm0736622, nm1698571]</td>\n",
       "    </tr>\n",
       "    <tr>\n",
       "      <th>119145</th>\n",
       "      <td>[nm0891216, nm0963359, nm1733301, nm2092839]</td>\n",
       "    </tr>\n",
       "  </tbody>\n",
       "</table>\n",
       "<p>5648 rows × 1 columns</p>\n",
       "</div>"
      ],
      "text/plain": [
       "                                                   writer\n",
       "item                                                     \n",
       "1       [nm0004056, nm0005124, nm0169505, nm0230032, n...\n",
       "2                       [nm0378144, nm0852430, nm0885575]\n",
       "3                                             [nm0425756]\n",
       "4                                             [nm0060103]\n",
       "5            [nm0329304, nm0352443, nm0583600, nm0796124]\n",
       "...                                                   ...\n",
       "118696  [nm0001392, nm0101991, nm0866058, nm0868219, n...\n",
       "118900                                        [nm0394984]\n",
       "118997                                        [nm0487567]\n",
       "119141                             [nm0736622, nm1698571]\n",
       "119145       [nm0891216, nm0963359, nm1733301, nm2092839]\n",
       "\n",
       "[5648 rows x 1 columns]"
      ]
     },
     "execution_count": 12,
     "metadata": {},
     "output_type": "execute_result"
    }
   ],
   "source": [
    "new_writers = writers.groupby(['item']).agg({'writer':'unique'})\n",
    "new_writers"
   ]
  },
  {
   "cell_type": "markdown",
   "id": "83c62f93",
   "metadata": {},
   "source": [
    "### director 감독"
   ]
  },
  {
   "cell_type": "code",
   "execution_count": 13,
   "id": "1c9673c2",
   "metadata": {},
   "outputs": [
    {
     "data": {
      "text/html": [
       "<div>\n",
       "<style scoped>\n",
       "    .dataframe tbody tr th:only-of-type {\n",
       "        vertical-align: middle;\n",
       "    }\n",
       "\n",
       "    .dataframe tbody tr th {\n",
       "        vertical-align: top;\n",
       "    }\n",
       "\n",
       "    .dataframe thead th {\n",
       "        text-align: right;\n",
       "    }\n",
       "</style>\n",
       "<table border=\"1\" class=\"dataframe\">\n",
       "  <thead>\n",
       "    <tr style=\"text-align: right;\">\n",
       "      <th></th>\n",
       "      <th>item</th>\n",
       "      <th>director</th>\n",
       "    </tr>\n",
       "  </thead>\n",
       "  <tbody>\n",
       "    <tr>\n",
       "      <th>0</th>\n",
       "      <td>1237</td>\n",
       "      <td>nm0000005</td>\n",
       "    </tr>\n",
       "    <tr>\n",
       "      <th>1</th>\n",
       "      <td>5147</td>\n",
       "      <td>nm0000005</td>\n",
       "    </tr>\n",
       "    <tr>\n",
       "      <th>2</th>\n",
       "      <td>7327</td>\n",
       "      <td>nm0000005</td>\n",
       "    </tr>\n",
       "    <tr>\n",
       "      <th>3</th>\n",
       "      <td>2068</td>\n",
       "      <td>nm0000005</td>\n",
       "    </tr>\n",
       "    <tr>\n",
       "      <th>4</th>\n",
       "      <td>7396</td>\n",
       "      <td>nm0000005</td>\n",
       "    </tr>\n",
       "    <tr>\n",
       "      <th>...</th>\n",
       "      <td>...</td>\n",
       "      <td>...</td>\n",
       "    </tr>\n",
       "    <tr>\n",
       "      <th>5900</th>\n",
       "      <td>84273</td>\n",
       "      <td>nm2879822</td>\n",
       "    </tr>\n",
       "    <tr>\n",
       "      <th>5901</th>\n",
       "      <td>58376</td>\n",
       "      <td>nm2879822</td>\n",
       "    </tr>\n",
       "    <tr>\n",
       "      <th>5902</th>\n",
       "      <td>65225</td>\n",
       "      <td>nm2879822</td>\n",
       "    </tr>\n",
       "    <tr>\n",
       "      <th>5903</th>\n",
       "      <td>2394</td>\n",
       "      <td>nm9054338</td>\n",
       "    </tr>\n",
       "    <tr>\n",
       "      <th>5904</th>\n",
       "      <td>55768</td>\n",
       "      <td>nm9054338</td>\n",
       "    </tr>\n",
       "  </tbody>\n",
       "</table>\n",
       "<p>5905 rows × 2 columns</p>\n",
       "</div>"
      ],
      "text/plain": [
       "       item   director\n",
       "0      1237  nm0000005\n",
       "1      5147  nm0000005\n",
       "2      7327  nm0000005\n",
       "3      2068  nm0000005\n",
       "4      7396  nm0000005\n",
       "...     ...        ...\n",
       "5900  84273  nm2879822\n",
       "5901  58376  nm2879822\n",
       "5902  65225  nm2879822\n",
       "5903   2394  nm9054338\n",
       "5904  55768  nm9054338\n",
       "\n",
       "[5905 rows x 2 columns]"
      ]
     },
     "execution_count": 13,
     "metadata": {},
     "output_type": "execute_result"
    }
   ],
   "source": [
    "director"
   ]
  },
  {
   "cell_type": "code",
   "execution_count": 14,
   "id": "bfbde285",
   "metadata": {},
   "outputs": [
    {
     "name": "stdout",
     "output_type": "stream",
     "text": [
      "(5905, 2)\n",
      "결측치\n",
      "item        0\n",
      "director    0\n",
      "dtype: int64\n",
      "영화 수 5503\n",
      "작가 수 1340\n"
     ]
    }
   ],
   "source": [
    "print(director.shape)\n",
    "print('결측치')\n",
    "print(director.isnull().sum())\n",
    "print('영화 수',director['item'].nunique())\n",
    "print('작가 수', director['director'].nunique())"
   ]
  },
  {
   "cell_type": "code",
   "execution_count": 15,
   "id": "725a89f6",
   "metadata": {},
   "outputs": [
    {
     "data": {
      "text/plain": [
       "50912    14\n",
       "1282     10\n",
       "27002     8\n",
       "7502      7\n",
       "596       7\n",
       "         ..\n",
       "163       1\n",
       "70        1\n",
       "6566      1\n",
       "5504      1\n",
       "55768     1\n",
       "Name: item, Length: 5503, dtype: int64"
      ]
     },
     "execution_count": 15,
     "metadata": {},
     "output_type": "execute_result"
    }
   ],
   "source": [
    "# 영화당 작가 수\n",
    "director['item'].value_counts()"
   ]
  },
  {
   "cell_type": "code",
   "execution_count": 16,
   "id": "71146e07",
   "metadata": {},
   "outputs": [
    {
     "data": {
      "text/plain": [
       "nm0000095    44\n",
       "nm0000033    33\n",
       "nm0000142    31\n",
       "nm0000229    29\n",
       "nm0000217    26\n",
       "             ..\n",
       "nm0404606     2\n",
       "nm0405605     2\n",
       "nm0410139     2\n",
       "nm0410769     2\n",
       "nm9054338     2\n",
       "Name: director, Length: 1340, dtype: int64"
      ]
     },
     "execution_count": 16,
     "metadata": {},
     "output_type": "execute_result"
    }
   ],
   "source": [
    "# 작가당 영화 수\n",
    "director['director'].value_counts()"
   ]
  },
  {
   "cell_type": "code",
   "execution_count": 17,
   "id": "87531d26",
   "metadata": {},
   "outputs": [
    {
     "data": {
      "text/html": [
       "<div>\n",
       "<style scoped>\n",
       "    .dataframe tbody tr th:only-of-type {\n",
       "        vertical-align: middle;\n",
       "    }\n",
       "\n",
       "    .dataframe tbody tr th {\n",
       "        vertical-align: top;\n",
       "    }\n",
       "\n",
       "    .dataframe thead th {\n",
       "        text-align: right;\n",
       "    }\n",
       "</style>\n",
       "<table border=\"1\" class=\"dataframe\">\n",
       "  <thead>\n",
       "    <tr style=\"text-align: right;\">\n",
       "      <th></th>\n",
       "      <th>director</th>\n",
       "    </tr>\n",
       "    <tr>\n",
       "      <th>item</th>\n",
       "      <th></th>\n",
       "    </tr>\n",
       "  </thead>\n",
       "  <tbody>\n",
       "    <tr>\n",
       "      <th>1</th>\n",
       "      <td>[nm0005124]</td>\n",
       "    </tr>\n",
       "    <tr>\n",
       "      <th>2</th>\n",
       "      <td>[nm0002653]</td>\n",
       "    </tr>\n",
       "    <tr>\n",
       "      <th>3</th>\n",
       "      <td>[nm0222043]</td>\n",
       "    </tr>\n",
       "    <tr>\n",
       "      <th>4</th>\n",
       "      <td>[nm0001845]</td>\n",
       "    </tr>\n",
       "    <tr>\n",
       "      <th>5</th>\n",
       "      <td>[nm0796124]</td>\n",
       "    </tr>\n",
       "    <tr>\n",
       "      <th>...</th>\n",
       "      <td>...</td>\n",
       "    </tr>\n",
       "    <tr>\n",
       "      <th>118696</th>\n",
       "      <td>[nm0001392]</td>\n",
       "    </tr>\n",
       "    <tr>\n",
       "      <th>118900</th>\n",
       "      <td>[nm0885249]</td>\n",
       "    </tr>\n",
       "    <tr>\n",
       "      <th>118997</th>\n",
       "      <td>[nm0551128]</td>\n",
       "    </tr>\n",
       "    <tr>\n",
       "      <th>119141</th>\n",
       "      <td>[nm0736622, nm1698571]</td>\n",
       "    </tr>\n",
       "    <tr>\n",
       "      <th>119145</th>\n",
       "      <td>[nm0891216]</td>\n",
       "    </tr>\n",
       "  </tbody>\n",
       "</table>\n",
       "<p>5503 rows × 1 columns</p>\n",
       "</div>"
      ],
      "text/plain": [
       "                      director\n",
       "item                          \n",
       "1                  [nm0005124]\n",
       "2                  [nm0002653]\n",
       "3                  [nm0222043]\n",
       "4                  [nm0001845]\n",
       "5                  [nm0796124]\n",
       "...                        ...\n",
       "118696             [nm0001392]\n",
       "118900             [nm0885249]\n",
       "118997             [nm0551128]\n",
       "119141  [nm0736622, nm1698571]\n",
       "119145             [nm0891216]\n",
       "\n",
       "[5503 rows x 1 columns]"
      ]
     },
     "execution_count": 17,
     "metadata": {},
     "output_type": "execute_result"
    }
   ],
   "source": [
    "new_director = director.groupby(['item']).agg({'director':'unique'})\n",
    "new_director"
   ]
  },
  {
   "cell_type": "markdown",
   "id": "a140c86d",
   "metadata": {},
   "source": [
    "### genre 장르"
   ]
  },
  {
   "cell_type": "code",
   "execution_count": 18,
   "id": "aeaec720",
   "metadata": {},
   "outputs": [
    {
     "data": {
      "text/html": [
       "<div>\n",
       "<style scoped>\n",
       "    .dataframe tbody tr th:only-of-type {\n",
       "        vertical-align: middle;\n",
       "    }\n",
       "\n",
       "    .dataframe tbody tr th {\n",
       "        vertical-align: top;\n",
       "    }\n",
       "\n",
       "    .dataframe thead th {\n",
       "        text-align: right;\n",
       "    }\n",
       "</style>\n",
       "<table border=\"1\" class=\"dataframe\">\n",
       "  <thead>\n",
       "    <tr style=\"text-align: right;\">\n",
       "      <th></th>\n",
       "      <th>item</th>\n",
       "      <th>genre</th>\n",
       "    </tr>\n",
       "  </thead>\n",
       "  <tbody>\n",
       "    <tr>\n",
       "      <th>0</th>\n",
       "      <td>318</td>\n",
       "      <td>Crime</td>\n",
       "    </tr>\n",
       "    <tr>\n",
       "      <th>1</th>\n",
       "      <td>318</td>\n",
       "      <td>Drama</td>\n",
       "    </tr>\n",
       "    <tr>\n",
       "      <th>2</th>\n",
       "      <td>2571</td>\n",
       "      <td>Action</td>\n",
       "    </tr>\n",
       "    <tr>\n",
       "      <th>3</th>\n",
       "      <td>2571</td>\n",
       "      <td>Sci-Fi</td>\n",
       "    </tr>\n",
       "    <tr>\n",
       "      <th>4</th>\n",
       "      <td>2571</td>\n",
       "      <td>Thriller</td>\n",
       "    </tr>\n",
       "    <tr>\n",
       "      <th>...</th>\n",
       "      <td>...</td>\n",
       "      <td>...</td>\n",
       "    </tr>\n",
       "    <tr>\n",
       "      <th>15928</th>\n",
       "      <td>109850</td>\n",
       "      <td>Drama</td>\n",
       "    </tr>\n",
       "    <tr>\n",
       "      <th>15929</th>\n",
       "      <td>8605</td>\n",
       "      <td>Action</td>\n",
       "    </tr>\n",
       "    <tr>\n",
       "      <th>15930</th>\n",
       "      <td>8605</td>\n",
       "      <td>Comedy</td>\n",
       "    </tr>\n",
       "    <tr>\n",
       "      <th>15931</th>\n",
       "      <td>3689</td>\n",
       "      <td>Comedy</td>\n",
       "    </tr>\n",
       "    <tr>\n",
       "      <th>15932</th>\n",
       "      <td>8130</td>\n",
       "      <td>Documentary</td>\n",
       "    </tr>\n",
       "  </tbody>\n",
       "</table>\n",
       "<p>15933 rows × 2 columns</p>\n",
       "</div>"
      ],
      "text/plain": [
       "         item        genre\n",
       "0         318        Crime\n",
       "1         318        Drama\n",
       "2        2571       Action\n",
       "3        2571       Sci-Fi\n",
       "4        2571     Thriller\n",
       "...       ...          ...\n",
       "15928  109850        Drama\n",
       "15929    8605       Action\n",
       "15930    8605       Comedy\n",
       "15931    3689       Comedy\n",
       "15932    8130  Documentary\n",
       "\n",
       "[15933 rows x 2 columns]"
      ]
     },
     "execution_count": 18,
     "metadata": {},
     "output_type": "execute_result"
    }
   ],
   "source": [
    "genre"
   ]
  },
  {
   "cell_type": "code",
   "execution_count": 19,
   "id": "bb8968d3",
   "metadata": {},
   "outputs": [
    {
     "name": "stdout",
     "output_type": "stream",
     "text": [
      "(15933, 2)\n",
      "결측치\n",
      "item     0\n",
      "genre    0\n",
      "dtype: int64\n",
      "영화 수 6807\n",
      "작가 수 18\n"
     ]
    }
   ],
   "source": [
    "print(genre.shape)\n",
    "print('결측치')\n",
    "print(genre.isnull().sum())\n",
    "print('영화 수',genre['item'].nunique())\n",
    "print('작가 수', genre['genre'].nunique())"
   ]
  },
  {
   "cell_type": "code",
   "execution_count": 20,
   "id": "4cdcfca5",
   "metadata": {},
   "outputs": [
    {
     "data": {
      "text/plain": [
       "81132     10\n",
       "26701      8\n",
       "4719       7\n",
       "2987       7\n",
       "56152      7\n",
       "          ..\n",
       "27329      1\n",
       "86852      1\n",
       "103624     1\n",
       "97673      1\n",
       "8130       1\n",
       "Name: item, Length: 6807, dtype: int64"
      ]
     },
     "execution_count": 20,
     "metadata": {},
     "output_type": "execute_result"
    }
   ],
   "source": [
    "# 영화당 장르 수\n",
    "genre['item'].value_counts()"
   ]
  },
  {
   "cell_type": "code",
   "execution_count": 21,
   "id": "54a2dde5",
   "metadata": {},
   "outputs": [
    {
     "data": {
      "text/plain": [
       "Drama          3490\n",
       "Comedy         2408\n",
       "Thriller       1466\n",
       "Romance        1251\n",
       "Action         1246\n",
       "Crime           924\n",
       "Adventure       891\n",
       "Sci-Fi          653\n",
       "Horror          602\n",
       "Fantasy         557\n",
       "Mystery         471\n",
       "Children        432\n",
       "Animation       355\n",
       "War             346\n",
       "Documentary     323\n",
       "Musical         282\n",
       "Western         139\n",
       "Film-Noir        97\n",
       "Name: genre, dtype: int64"
      ]
     },
     "execution_count": 21,
     "metadata": {},
     "output_type": "execute_result"
    }
   ],
   "source": [
    "# 장르당 영화수\n",
    "genre['genre'].value_counts()"
   ]
  },
  {
   "cell_type": "code",
   "execution_count": 22,
   "id": "04540291",
   "metadata": {},
   "outputs": [
    {
     "data": {
      "text/html": [
       "<div>\n",
       "<style scoped>\n",
       "    .dataframe tbody tr th:only-of-type {\n",
       "        vertical-align: middle;\n",
       "    }\n",
       "\n",
       "    .dataframe tbody tr th {\n",
       "        vertical-align: top;\n",
       "    }\n",
       "\n",
       "    .dataframe thead th {\n",
       "        text-align: right;\n",
       "    }\n",
       "</style>\n",
       "<table border=\"1\" class=\"dataframe\">\n",
       "  <thead>\n",
       "    <tr style=\"text-align: right;\">\n",
       "      <th></th>\n",
       "      <th>genre</th>\n",
       "    </tr>\n",
       "    <tr>\n",
       "      <th>item</th>\n",
       "      <th></th>\n",
       "    </tr>\n",
       "  </thead>\n",
       "  <tbody>\n",
       "    <tr>\n",
       "      <th>1</th>\n",
       "      <td>[Adventure, Animation, Children, Comedy, Fantasy]</td>\n",
       "    </tr>\n",
       "    <tr>\n",
       "      <th>2</th>\n",
       "      <td>[Adventure, Children, Fantasy]</td>\n",
       "    </tr>\n",
       "    <tr>\n",
       "      <th>3</th>\n",
       "      <td>[Comedy, Romance]</td>\n",
       "    </tr>\n",
       "    <tr>\n",
       "      <th>4</th>\n",
       "      <td>[Comedy, Drama, Romance]</td>\n",
       "    </tr>\n",
       "    <tr>\n",
       "      <th>5</th>\n",
       "      <td>[Comedy]</td>\n",
       "    </tr>\n",
       "    <tr>\n",
       "      <th>...</th>\n",
       "      <td>...</td>\n",
       "    </tr>\n",
       "    <tr>\n",
       "      <th>118700</th>\n",
       "      <td>[Drama]</td>\n",
       "    </tr>\n",
       "    <tr>\n",
       "      <th>118900</th>\n",
       "      <td>[Drama]</td>\n",
       "    </tr>\n",
       "    <tr>\n",
       "      <th>118997</th>\n",
       "      <td>[Children, Comedy, Fantasy, Musical]</td>\n",
       "    </tr>\n",
       "    <tr>\n",
       "      <th>119141</th>\n",
       "      <td>[Action, Comedy]</td>\n",
       "    </tr>\n",
       "    <tr>\n",
       "      <th>119145</th>\n",
       "      <td>[Action, Adventure, Comedy, Crime]</td>\n",
       "    </tr>\n",
       "  </tbody>\n",
       "</table>\n",
       "<p>6807 rows × 1 columns</p>\n",
       "</div>"
      ],
      "text/plain": [
       "                                                    genre\n",
       "item                                                     \n",
       "1       [Adventure, Animation, Children, Comedy, Fantasy]\n",
       "2                          [Adventure, Children, Fantasy]\n",
       "3                                       [Comedy, Romance]\n",
       "4                                [Comedy, Drama, Romance]\n",
       "5                                                [Comedy]\n",
       "...                                                   ...\n",
       "118700                                            [Drama]\n",
       "118900                                            [Drama]\n",
       "118997               [Children, Comedy, Fantasy, Musical]\n",
       "119141                                   [Action, Comedy]\n",
       "119145                 [Action, Adventure, Comedy, Crime]\n",
       "\n",
       "[6807 rows x 1 columns]"
      ]
     },
     "execution_count": 22,
     "metadata": {},
     "output_type": "execute_result"
    }
   ],
   "source": [
    "new_genre = genre.groupby(['item']).agg({'genre':'unique'})\n",
    "new_genre"
   ]
  },
  {
   "cell_type": "markdown",
   "id": "9712f759",
   "metadata": {},
   "source": [
    "### title 영화 제목"
   ]
  },
  {
   "cell_type": "code",
   "execution_count": 23,
   "id": "0d85d34f",
   "metadata": {},
   "outputs": [
    {
     "data": {
      "text/html": [
       "<div>\n",
       "<style scoped>\n",
       "    .dataframe tbody tr th:only-of-type {\n",
       "        vertical-align: middle;\n",
       "    }\n",
       "\n",
       "    .dataframe tbody tr th {\n",
       "        vertical-align: top;\n",
       "    }\n",
       "\n",
       "    .dataframe thead th {\n",
       "        text-align: right;\n",
       "    }\n",
       "</style>\n",
       "<table border=\"1\" class=\"dataframe\">\n",
       "  <thead>\n",
       "    <tr style=\"text-align: right;\">\n",
       "      <th></th>\n",
       "      <th>item</th>\n",
       "      <th>title</th>\n",
       "    </tr>\n",
       "  </thead>\n",
       "  <tbody>\n",
       "    <tr>\n",
       "      <th>0</th>\n",
       "      <td>318</td>\n",
       "      <td>Shawshank Redemption, The (1994)</td>\n",
       "    </tr>\n",
       "    <tr>\n",
       "      <th>1</th>\n",
       "      <td>2571</td>\n",
       "      <td>Matrix, The (1999)</td>\n",
       "    </tr>\n",
       "    <tr>\n",
       "      <th>2</th>\n",
       "      <td>2959</td>\n",
       "      <td>Fight Club (1999)</td>\n",
       "    </tr>\n",
       "    <tr>\n",
       "      <th>3</th>\n",
       "      <td>296</td>\n",
       "      <td>Pulp Fiction (1994)</td>\n",
       "    </tr>\n",
       "    <tr>\n",
       "      <th>4</th>\n",
       "      <td>356</td>\n",
       "      <td>Forrest Gump (1994)</td>\n",
       "    </tr>\n",
       "    <tr>\n",
       "      <th>...</th>\n",
       "      <td>...</td>\n",
       "      <td>...</td>\n",
       "    </tr>\n",
       "    <tr>\n",
       "      <th>6802</th>\n",
       "      <td>73106</td>\n",
       "      <td>American Pie Presents: The Book of Love (Ameri...</td>\n",
       "    </tr>\n",
       "    <tr>\n",
       "      <th>6803</th>\n",
       "      <td>109850</td>\n",
       "      <td>Need for Speed (2014)</td>\n",
       "    </tr>\n",
       "    <tr>\n",
       "      <th>6804</th>\n",
       "      <td>8605</td>\n",
       "      <td>Taxi 3 (2003)</td>\n",
       "    </tr>\n",
       "    <tr>\n",
       "      <th>6805</th>\n",
       "      <td>3689</td>\n",
       "      <td>Porky's II: The Next Day (1983)</td>\n",
       "    </tr>\n",
       "    <tr>\n",
       "      <th>6806</th>\n",
       "      <td>8130</td>\n",
       "      <td>Girl Next Door, The (1999)</td>\n",
       "    </tr>\n",
       "  </tbody>\n",
       "</table>\n",
       "<p>6807 rows × 2 columns</p>\n",
       "</div>"
      ],
      "text/plain": [
       "        item                                              title\n",
       "0        318                   Shawshank Redemption, The (1994)\n",
       "1       2571                                 Matrix, The (1999)\n",
       "2       2959                                  Fight Club (1999)\n",
       "3        296                                Pulp Fiction (1994)\n",
       "4        356                                Forrest Gump (1994)\n",
       "...      ...                                                ...\n",
       "6802   73106  American Pie Presents: The Book of Love (Ameri...\n",
       "6803  109850                              Need for Speed (2014)\n",
       "6804    8605                                      Taxi 3 (2003)\n",
       "6805    3689                    Porky's II: The Next Day (1983)\n",
       "6806    8130                         Girl Next Door, The (1999)\n",
       "\n",
       "[6807 rows x 2 columns]"
      ]
     },
     "execution_count": 23,
     "metadata": {},
     "output_type": "execute_result"
    }
   ],
   "source": [
    "title"
   ]
  },
  {
   "cell_type": "code",
   "execution_count": 24,
   "id": "eb3b9471",
   "metadata": {},
   "outputs": [
    {
     "name": "stdout",
     "output_type": "stream",
     "text": [
      "(6807, 2)\n",
      "결측치\n",
      "item     0\n",
      "title    0\n",
      "dtype: int64\n"
     ]
    }
   ],
   "source": [
    "print(title.shape)\n",
    "print('결측치')\n",
    "print(title.isnull().sum())"
   ]
  },
  {
   "cell_type": "markdown",
   "id": "5249aa0b",
   "metadata": {},
   "source": [
    "### 데이터 병합"
   ]
  },
  {
   "cell_type": "code",
   "execution_count": 25,
   "id": "f1399de4",
   "metadata": {},
   "outputs": [
    {
     "data": {
      "text/html": [
       "<div>\n",
       "<style scoped>\n",
       "    .dataframe tbody tr th:only-of-type {\n",
       "        vertical-align: middle;\n",
       "    }\n",
       "\n",
       "    .dataframe tbody tr th {\n",
       "        vertical-align: top;\n",
       "    }\n",
       "\n",
       "    .dataframe thead th {\n",
       "        text-align: right;\n",
       "    }\n",
       "</style>\n",
       "<table border=\"1\" class=\"dataframe\">\n",
       "  <thead>\n",
       "    <tr style=\"text-align: right;\">\n",
       "      <th></th>\n",
       "      <th>item</th>\n",
       "      <th>title</th>\n",
       "      <th>year</th>\n",
       "      <th>genre</th>\n",
       "      <th>director</th>\n",
       "      <th>writer</th>\n",
       "    </tr>\n",
       "  </thead>\n",
       "  <tbody>\n",
       "    <tr>\n",
       "      <th>0</th>\n",
       "      <td>318</td>\n",
       "      <td>Shawshank Redemption, The (1994)</td>\n",
       "      <td>1994.0</td>\n",
       "      <td>[Crime, Drama]</td>\n",
       "      <td>[nm0001104]</td>\n",
       "      <td>[nm0000175, nm0001104]</td>\n",
       "    </tr>\n",
       "    <tr>\n",
       "      <th>1</th>\n",
       "      <td>2571</td>\n",
       "      <td>Matrix, The (1999)</td>\n",
       "      <td>1999.0</td>\n",
       "      <td>[Action, Sci-Fi, Thriller]</td>\n",
       "      <td>[nm0905152, nm0905154]</td>\n",
       "      <td>[nm0905152, nm0905154]</td>\n",
       "    </tr>\n",
       "    <tr>\n",
       "      <th>2</th>\n",
       "      <td>2959</td>\n",
       "      <td>Fight Club (1999)</td>\n",
       "      <td>1999.0</td>\n",
       "      <td>[Action, Crime, Drama, Thriller]</td>\n",
       "      <td>[nm0000399]</td>\n",
       "      <td>[nm0657333, nm0880243]</td>\n",
       "    </tr>\n",
       "    <tr>\n",
       "      <th>3</th>\n",
       "      <td>296</td>\n",
       "      <td>Pulp Fiction (1994)</td>\n",
       "      <td>1994.0</td>\n",
       "      <td>[Comedy, Crime, Drama, Thriller]</td>\n",
       "      <td>[nm0000233]</td>\n",
       "      <td>[nm0000233, nm0000812]</td>\n",
       "    </tr>\n",
       "    <tr>\n",
       "      <th>4</th>\n",
       "      <td>356</td>\n",
       "      <td>Forrest Gump (1994)</td>\n",
       "      <td>1994.0</td>\n",
       "      <td>[Comedy, Drama, Romance, War]</td>\n",
       "      <td>[nm0000709]</td>\n",
       "      <td>[nm0744839]</td>\n",
       "    </tr>\n",
       "    <tr>\n",
       "      <th>...</th>\n",
       "      <td>...</td>\n",
       "      <td>...</td>\n",
       "      <td>...</td>\n",
       "      <td>...</td>\n",
       "      <td>...</td>\n",
       "      <td>...</td>\n",
       "    </tr>\n",
       "    <tr>\n",
       "      <th>6802</th>\n",
       "      <td>73106</td>\n",
       "      <td>American Pie Presents: The Book of Love (Ameri...</td>\n",
       "      <td>2009.0</td>\n",
       "      <td>[Comedy]</td>\n",
       "      <td>[nm0003289]</td>\n",
       "      <td>[nm0381221, nm0825738]</td>\n",
       "    </tr>\n",
       "    <tr>\n",
       "      <th>6803</th>\n",
       "      <td>109850</td>\n",
       "      <td>Need for Speed (2014)</td>\n",
       "      <td>2014.0</td>\n",
       "      <td>[Action, Crime, Drama]</td>\n",
       "      <td>[nm0915304]</td>\n",
       "      <td>[nm0309691]</td>\n",
       "    </tr>\n",
       "    <tr>\n",
       "      <th>6804</th>\n",
       "      <td>8605</td>\n",
       "      <td>Taxi 3 (2003)</td>\n",
       "      <td>2003.0</td>\n",
       "      <td>[Action, Comedy]</td>\n",
       "      <td>[nm0470443]</td>\n",
       "      <td>[nm0000108]</td>\n",
       "    </tr>\n",
       "    <tr>\n",
       "      <th>6805</th>\n",
       "      <td>3689</td>\n",
       "      <td>Porky's II: The Next Day (1983)</td>\n",
       "      <td>1983.0</td>\n",
       "      <td>[Comedy]</td>\n",
       "      <td>[nm0163706]</td>\n",
       "      <td>[nm0163706, nm0650276]</td>\n",
       "    </tr>\n",
       "    <tr>\n",
       "      <th>6806</th>\n",
       "      <td>8130</td>\n",
       "      <td>Girl Next Door, The (1999)</td>\n",
       "      <td>1999.0</td>\n",
       "      <td>[Documentary]</td>\n",
       "      <td>NaN</td>\n",
       "      <td>NaN</td>\n",
       "    </tr>\n",
       "  </tbody>\n",
       "</table>\n",
       "<p>6807 rows × 6 columns</p>\n",
       "</div>"
      ],
      "text/plain": [
       "        item                                              title    year  \\\n",
       "0        318                   Shawshank Redemption, The (1994)  1994.0   \n",
       "1       2571                                 Matrix, The (1999)  1999.0   \n",
       "2       2959                                  Fight Club (1999)  1999.0   \n",
       "3        296                                Pulp Fiction (1994)  1994.0   \n",
       "4        356                                Forrest Gump (1994)  1994.0   \n",
       "...      ...                                                ...     ...   \n",
       "6802   73106  American Pie Presents: The Book of Love (Ameri...  2009.0   \n",
       "6803  109850                              Need for Speed (2014)  2014.0   \n",
       "6804    8605                                      Taxi 3 (2003)  2003.0   \n",
       "6805    3689                    Porky's II: The Next Day (1983)  1983.0   \n",
       "6806    8130                         Girl Next Door, The (1999)  1999.0   \n",
       "\n",
       "                                 genre                director  \\\n",
       "0                       [Crime, Drama]             [nm0001104]   \n",
       "1           [Action, Sci-Fi, Thriller]  [nm0905152, nm0905154]   \n",
       "2     [Action, Crime, Drama, Thriller]             [nm0000399]   \n",
       "3     [Comedy, Crime, Drama, Thriller]             [nm0000233]   \n",
       "4        [Comedy, Drama, Romance, War]             [nm0000709]   \n",
       "...                                ...                     ...   \n",
       "6802                          [Comedy]             [nm0003289]   \n",
       "6803            [Action, Crime, Drama]             [nm0915304]   \n",
       "6804                  [Action, Comedy]             [nm0470443]   \n",
       "6805                          [Comedy]             [nm0163706]   \n",
       "6806                     [Documentary]                     NaN   \n",
       "\n",
       "                      writer  \n",
       "0     [nm0000175, nm0001104]  \n",
       "1     [nm0905152, nm0905154]  \n",
       "2     [nm0657333, nm0880243]  \n",
       "3     [nm0000233, nm0000812]  \n",
       "4                [nm0744839]  \n",
       "...                      ...  \n",
       "6802  [nm0381221, nm0825738]  \n",
       "6803             [nm0309691]  \n",
       "6804             [nm0000108]  \n",
       "6805  [nm0163706, nm0650276]  \n",
       "6806                     NaN  \n",
       "\n",
       "[6807 rows x 6 columns]"
      ]
     },
     "execution_count": 25,
     "metadata": {},
     "output_type": "execute_result"
    }
   ],
   "source": [
    "movie_df = pd.merge(title, year, how='left', on='item')\n",
    "movie_df = pd.merge(movie_df, new_genre, how='left', on='item')\n",
    "movie_df = pd.merge(movie_df, new_director, how='left', on='item')\n",
    "movie_df = pd.merge(movie_df, new_writers, how='left', on='item')\n",
    "movie_df"
   ]
  },
  {
   "cell_type": "code",
   "execution_count": 27,
   "id": "ec6b5ddd",
   "metadata": {},
   "outputs": [
    {
     "data": {
      "text/plain": [
       "item           0\n",
       "title          0\n",
       "year           8\n",
       "genre          0\n",
       "director    1304\n",
       "writer      1159\n",
       "dtype: int64"
      ]
     },
     "execution_count": 27,
     "metadata": {},
     "output_type": "execute_result"
    }
   ],
   "source": [
    "# 결측치 확인\n",
    "movie_df.isnull().sum()"
   ]
  },
  {
   "cell_type": "markdown",
   "id": "9b0604e5",
   "metadata": {},
   "source": [
    "- 감독과 작가의 결측치가 생각보다 많음 (사용하기 애매할수도 있음)\n",
    "- 개봉연도의 경우 title에 추가 정보로 채울 수 있음"
   ]
  },
  {
   "cell_type": "code",
   "execution_count": 39,
   "id": "b975ca3c",
   "metadata": {},
   "outputs": [],
   "source": [
    "none_year_idx = movie_df[movie_df['year'].isnull()].index"
   ]
  },
  {
   "cell_type": "code",
   "execution_count": 48,
   "id": "64873e8c",
   "metadata": {},
   "outputs": [
    {
     "data": {
      "text/html": [
       "<div>\n",
       "<style scoped>\n",
       "    .dataframe tbody tr th:only-of-type {\n",
       "        vertical-align: middle;\n",
       "    }\n",
       "\n",
       "    .dataframe tbody tr th {\n",
       "        vertical-align: top;\n",
       "    }\n",
       "\n",
       "    .dataframe thead th {\n",
       "        text-align: right;\n",
       "    }\n",
       "</style>\n",
       "<table border=\"1\" class=\"dataframe\">\n",
       "  <thead>\n",
       "    <tr style=\"text-align: right;\">\n",
       "      <th></th>\n",
       "      <th>item</th>\n",
       "      <th>title</th>\n",
       "    </tr>\n",
       "  </thead>\n",
       "  <tbody>\n",
       "    <tr>\n",
       "      <th>0</th>\n",
       "      <td>6987</td>\n",
       "      <td>Cabinet of Dr. Caligari, The (Cabinet des Dr. ...</td>\n",
       "    </tr>\n",
       "    <tr>\n",
       "      <th>1</th>\n",
       "      <td>3310</td>\n",
       "      <td>Kid, The (1921)</td>\n",
       "    </tr>\n",
       "    <tr>\n",
       "      <th>2</th>\n",
       "      <td>7065</td>\n",
       "      <td>Birth of a Nation, The (1915)</td>\n",
       "    </tr>\n",
       "    <tr>\n",
       "      <th>3</th>\n",
       "      <td>7243</td>\n",
       "      <td>Intolerance: Love's Struggle Throughout the Ag...</td>\n",
       "    </tr>\n",
       "    <tr>\n",
       "      <th>4</th>\n",
       "      <td>8511</td>\n",
       "      <td>Immigrant, The (1917)</td>\n",
       "    </tr>\n",
       "    <tr>\n",
       "      <th>5</th>\n",
       "      <td>6988</td>\n",
       "      <td>Broken Blossoms or The Yellow Man and the Girl...</td>\n",
       "    </tr>\n",
       "    <tr>\n",
       "      <th>6</th>\n",
       "      <td>32898</td>\n",
       "      <td>Trip to the Moon, A (Voyage dans la lune, Le) ...</td>\n",
       "    </tr>\n",
       "    <tr>\n",
       "      <th>7</th>\n",
       "      <td>119145</td>\n",
       "      <td>Kingsman: The Secret Service (2015)</td>\n",
       "    </tr>\n",
       "  </tbody>\n",
       "</table>\n",
       "</div>"
      ],
      "text/plain": [
       "     item                                              title\n",
       "0    6987  Cabinet of Dr. Caligari, The (Cabinet des Dr. ...\n",
       "1    3310                                    Kid, The (1921)\n",
       "2    7065                      Birth of a Nation, The (1915)\n",
       "3    7243  Intolerance: Love's Struggle Throughout the Ag...\n",
       "4    8511                              Immigrant, The (1917)\n",
       "5    6988  Broken Blossoms or The Yellow Man and the Girl...\n",
       "6   32898  Trip to the Moon, A (Voyage dans la lune, Le) ...\n",
       "7  119145                Kingsman: The Secret Service (2015)"
      ]
     },
     "execution_count": 48,
     "metadata": {},
     "output_type": "execute_result"
    }
   ],
   "source": [
    "none_year_movie_df = movie_df.iloc[none_year_idx][['item', 'title']].reset_index(drop=True)\n",
    "none_year_movie_df"
   ]
  },
  {
   "cell_type": "code",
   "execution_count": 56,
   "id": "6a05d56e",
   "metadata": {},
   "outputs": [],
   "source": [
    "none_year_movie_dict = dict([ (i, int(t[t.rfind('(')+1:-1])) for i,t in none_year_movie_df.values])"
   ]
  },
  {
   "cell_type": "code",
   "execution_count": 57,
   "id": "e3ef0e21",
   "metadata": {},
   "outputs": [
    {
     "data": {
      "text/html": [
       "<div>\n",
       "<style scoped>\n",
       "    .dataframe tbody tr th:only-of-type {\n",
       "        vertical-align: middle;\n",
       "    }\n",
       "\n",
       "    .dataframe tbody tr th {\n",
       "        vertical-align: top;\n",
       "    }\n",
       "\n",
       "    .dataframe thead th {\n",
       "        text-align: right;\n",
       "    }\n",
       "</style>\n",
       "<table border=\"1\" class=\"dataframe\">\n",
       "  <thead>\n",
       "    <tr style=\"text-align: right;\">\n",
       "      <th></th>\n",
       "      <th>item</th>\n",
       "      <th>title</th>\n",
       "      <th>year</th>\n",
       "      <th>genre</th>\n",
       "      <th>director</th>\n",
       "      <th>writer</th>\n",
       "    </tr>\n",
       "  </thead>\n",
       "  <tbody>\n",
       "    <tr>\n",
       "      <th>0</th>\n",
       "      <td>318</td>\n",
       "      <td>Shawshank Redemption, The (1994)</td>\n",
       "      <td>1994.0</td>\n",
       "      <td>[Crime, Drama]</td>\n",
       "      <td>[nm0001104]</td>\n",
       "      <td>[nm0000175, nm0001104]</td>\n",
       "    </tr>\n",
       "    <tr>\n",
       "      <th>1</th>\n",
       "      <td>2571</td>\n",
       "      <td>Matrix, The (1999)</td>\n",
       "      <td>1999.0</td>\n",
       "      <td>[Action, Sci-Fi, Thriller]</td>\n",
       "      <td>[nm0905152, nm0905154]</td>\n",
       "      <td>[nm0905152, nm0905154]</td>\n",
       "    </tr>\n",
       "    <tr>\n",
       "      <th>2</th>\n",
       "      <td>2959</td>\n",
       "      <td>Fight Club (1999)</td>\n",
       "      <td>1999.0</td>\n",
       "      <td>[Action, Crime, Drama, Thriller]</td>\n",
       "      <td>[nm0000399]</td>\n",
       "      <td>[nm0657333, nm0880243]</td>\n",
       "    </tr>\n",
       "    <tr>\n",
       "      <th>3</th>\n",
       "      <td>296</td>\n",
       "      <td>Pulp Fiction (1994)</td>\n",
       "      <td>1994.0</td>\n",
       "      <td>[Comedy, Crime, Drama, Thriller]</td>\n",
       "      <td>[nm0000233]</td>\n",
       "      <td>[nm0000233, nm0000812]</td>\n",
       "    </tr>\n",
       "    <tr>\n",
       "      <th>4</th>\n",
       "      <td>356</td>\n",
       "      <td>Forrest Gump (1994)</td>\n",
       "      <td>1994.0</td>\n",
       "      <td>[Comedy, Drama, Romance, War]</td>\n",
       "      <td>[nm0000709]</td>\n",
       "      <td>[nm0744839]</td>\n",
       "    </tr>\n",
       "    <tr>\n",
       "      <th>...</th>\n",
       "      <td>...</td>\n",
       "      <td>...</td>\n",
       "      <td>...</td>\n",
       "      <td>...</td>\n",
       "      <td>...</td>\n",
       "      <td>...</td>\n",
       "    </tr>\n",
       "    <tr>\n",
       "      <th>6802</th>\n",
       "      <td>73106</td>\n",
       "      <td>American Pie Presents: The Book of Love (Ameri...</td>\n",
       "      <td>2009.0</td>\n",
       "      <td>[Comedy]</td>\n",
       "      <td>[nm0003289]</td>\n",
       "      <td>[nm0381221, nm0825738]</td>\n",
       "    </tr>\n",
       "    <tr>\n",
       "      <th>6803</th>\n",
       "      <td>109850</td>\n",
       "      <td>Need for Speed (2014)</td>\n",
       "      <td>2014.0</td>\n",
       "      <td>[Action, Crime, Drama]</td>\n",
       "      <td>[nm0915304]</td>\n",
       "      <td>[nm0309691]</td>\n",
       "    </tr>\n",
       "    <tr>\n",
       "      <th>6804</th>\n",
       "      <td>8605</td>\n",
       "      <td>Taxi 3 (2003)</td>\n",
       "      <td>2003.0</td>\n",
       "      <td>[Action, Comedy]</td>\n",
       "      <td>[nm0470443]</td>\n",
       "      <td>[nm0000108]</td>\n",
       "    </tr>\n",
       "    <tr>\n",
       "      <th>6805</th>\n",
       "      <td>3689</td>\n",
       "      <td>Porky's II: The Next Day (1983)</td>\n",
       "      <td>1983.0</td>\n",
       "      <td>[Comedy]</td>\n",
       "      <td>[nm0163706]</td>\n",
       "      <td>[nm0163706, nm0650276]</td>\n",
       "    </tr>\n",
       "    <tr>\n",
       "      <th>6806</th>\n",
       "      <td>8130</td>\n",
       "      <td>Girl Next Door, The (1999)</td>\n",
       "      <td>1999.0</td>\n",
       "      <td>[Documentary]</td>\n",
       "      <td>NaN</td>\n",
       "      <td>NaN</td>\n",
       "    </tr>\n",
       "  </tbody>\n",
       "</table>\n",
       "<p>6807 rows × 6 columns</p>\n",
       "</div>"
      ],
      "text/plain": [
       "        item                                              title    year  \\\n",
       "0        318                   Shawshank Redemption, The (1994)  1994.0   \n",
       "1       2571                                 Matrix, The (1999)  1999.0   \n",
       "2       2959                                  Fight Club (1999)  1999.0   \n",
       "3        296                                Pulp Fiction (1994)  1994.0   \n",
       "4        356                                Forrest Gump (1994)  1994.0   \n",
       "...      ...                                                ...     ...   \n",
       "6802   73106  American Pie Presents: The Book of Love (Ameri...  2009.0   \n",
       "6803  109850                              Need for Speed (2014)  2014.0   \n",
       "6804    8605                                      Taxi 3 (2003)  2003.0   \n",
       "6805    3689                    Porky's II: The Next Day (1983)  1983.0   \n",
       "6806    8130                         Girl Next Door, The (1999)  1999.0   \n",
       "\n",
       "                                 genre                director  \\\n",
       "0                       [Crime, Drama]             [nm0001104]   \n",
       "1           [Action, Sci-Fi, Thriller]  [nm0905152, nm0905154]   \n",
       "2     [Action, Crime, Drama, Thriller]             [nm0000399]   \n",
       "3     [Comedy, Crime, Drama, Thriller]             [nm0000233]   \n",
       "4        [Comedy, Drama, Romance, War]             [nm0000709]   \n",
       "...                                ...                     ...   \n",
       "6802                          [Comedy]             [nm0003289]   \n",
       "6803            [Action, Crime, Drama]             [nm0915304]   \n",
       "6804                  [Action, Comedy]             [nm0470443]   \n",
       "6805                          [Comedy]             [nm0163706]   \n",
       "6806                     [Documentary]                     NaN   \n",
       "\n",
       "                      writer  \n",
       "0     [nm0000175, nm0001104]  \n",
       "1     [nm0905152, nm0905154]  \n",
       "2     [nm0657333, nm0880243]  \n",
       "3     [nm0000233, nm0000812]  \n",
       "4                [nm0744839]  \n",
       "...                      ...  \n",
       "6802  [nm0381221, nm0825738]  \n",
       "6803             [nm0309691]  \n",
       "6804             [nm0000108]  \n",
       "6805  [nm0163706, nm0650276]  \n",
       "6806                     NaN  \n",
       "\n",
       "[6807 rows x 6 columns]"
      ]
     },
     "execution_count": 57,
     "metadata": {},
     "output_type": "execute_result"
    }
   ],
   "source": [
    "movi[movie_df['item'] == 318]"
   ]
  },
  {
   "cell_type": "code",
   "execution_count": null,
   "id": "7d6c0ff7",
   "metadata": {},
   "outputs": [],
   "source": [
    "movie_df.iloc[]"
   ]
  },
  {
   "cell_type": "markdown",
   "id": "8c657fe9",
   "metadata": {},
   "source": [
    "-------"
   ]
  },
  {
   "cell_type": "markdown",
   "id": "f61bbd7c",
   "metadata": {},
   "source": [
    "## 생각해볼 점 (1) 유저의 활동시기 보다 한참후에 개봉한 영화를 추천해주는 것이 맞을까?"
   ]
  },
  {
   "cell_type": "markdown",
   "id": "bc0abcdb",
   "metadata": {},
   "source": [
    "예를들어 35번 유저의 정보를 보면 2007~2008년까지의 데이터가 존재함"
   ]
  },
  {
   "cell_type": "code",
   "execution_count": 29,
   "id": "f92d571e",
   "metadata": {},
   "outputs": [
    {
     "data": {
      "text/plain": [
       "35"
      ]
     },
     "execution_count": 29,
     "metadata": {},
     "output_type": "execute_result"
    }
   ],
   "source": [
    "train_rating['user'].unique()[5]"
   ]
  },
  {
   "cell_type": "code",
   "execution_count": 30,
   "id": "9545e6fd",
   "metadata": {},
   "outputs": [
    {
     "data": {
      "text/plain": [
       "array([2006, 2008])"
      ]
     },
     "execution_count": 30,
     "metadata": {},
     "output_type": "execute_result"
    }
   ],
   "source": [
    "train_rating[train_rating['user'] == train_rating['user'].unique()[5]]['year'].unique()"
   ]
  },
  {
   "cell_type": "markdown",
   "id": "7b341399",
   "metadata": {},
   "source": [
    "목록에 있는 영화들의 개봉연도는 1922~2014년"
   ]
  },
  {
   "cell_type": "code",
   "execution_count": 31,
   "id": "3d30b5d9",
   "metadata": {},
   "outputs": [
    {
     "data": {
      "text/plain": [
       "array([1922, 1923, 1924, 1925, 1926, 1927, 1928, 1929, 1930, 1931, 1932,\n",
       "       1933, 1934, 1935, 1936, 1937, 1938, 1939, 1940, 1941, 1942, 1943,\n",
       "       1944, 1945, 1946, 1947, 1948, 1949, 1950, 1951, 1952, 1953, 1954,\n",
       "       1955, 1956, 1957, 1958, 1959, 1960, 1961, 1962, 1963, 1964, 1965,\n",
       "       1966, 1967, 1968, 1969, 1970, 1971, 1972, 1973, 1974, 1975, 1976,\n",
       "       1977, 1978, 1979, 1980, 1981, 1982, 1983, 1984, 1985, 1986, 1987,\n",
       "       1988, 1989, 1990, 1991, 1992, 1993, 1994, 1995, 1996, 1997, 1998,\n",
       "       1999, 2000, 2001, 2002, 2003, 2004, 2005, 2006, 2007, 2008, 2009,\n",
       "       2010, 2011, 2012, 2013, 2014])"
      ]
     },
     "execution_count": 31,
     "metadata": {},
     "output_type": "execute_result"
    }
   ],
   "source": [
    "year['year'].unique()"
   ]
  },
  {
   "cell_type": "code",
   "execution_count": 32,
   "id": "1e8665b8",
   "metadata": {},
   "outputs": [
    {
     "data": {
      "image/png": "[encoded data removed]",
      "text/plain": [
       "<Figure size 1224x360 with 1 Axes>"
      ]
     },
     "metadata": {
      "needs_background": "light"
     },
     "output_type": "display_data"
    }
   ],
   "source": [
    "fig, ax = plt.subplots(figsize=(17,5))\n",
    "\n",
    "year['year'].value_counts().sort_index().plot.bar(ax=ax)\n",
    "\n",
    "plt.show()"
   ]
  },
  {
   "cell_type": "markdown",
   "id": "d29155fe",
   "metadata": {},
   "source": [
    "ex) 이 경우에 35번 유저에게 마지막 사용연도(2008년) 보다 한참 후인 2014년의 영화가 추천되는 것이 옳은가?   \n",
    "(35번 유저가 2014년에는 없는 이탈유저라면..?)"
   ]
  },
  {
   "cell_type": "markdown",
   "id": "bd254a16",
   "metadata": {},
   "source": [
    "-------"
   ]
  },
  {
   "cell_type": "markdown",
   "id": "3417d540",
   "metadata": {},
   "source": [
    "## 생각해볼 점 (2) 영화를 많이 본 유저와 적게 본 유저에게 같은 방법으로 영화추천을 해도 될까?"
   ]
  },
  {
   "cell_type": "markdown",
   "id": "3c5dc15f",
   "metadata": {},
   "source": [
    "유저의 영화 시청수를 보게되면 16~2912개 까지 차이가 많이 나는 것을 볼 수 있다   \n",
    "하지만 평균은 164개로 편향이 심한것을 볼 수 있다"
   ]
  },
  {
   "cell_type": "code",
   "execution_count": 33,
   "id": "adc199d9",
   "metadata": {},
   "outputs": [
    {
     "data": {
      "text/plain": [
       "count    31360.000000\n",
       "mean       164.364509\n",
       "std        150.009107\n",
       "min         16.000000\n",
       "25%         71.000000\n",
       "50%        114.000000\n",
       "75%        200.000000\n",
       "max       2912.000000\n",
       "Name: user, dtype: float64"
      ]
     },
     "execution_count": 33,
     "metadata": {},
     "output_type": "execute_result"
    }
   ],
   "source": [
    "train_rating['user'].value_counts().describe()"
   ]
  },
  {
   "cell_type": "code",
   "execution_count": 34,
   "id": "b3b70f2c",
   "metadata": {},
   "outputs": [],
   "source": [
    "user_item_count = train_rating.groupby(['user'])['item'].agg('count').values.tolist()"
   ]
  },
  {
   "cell_type": "code",
   "execution_count": 35,
   "id": "898a7fc6",
   "metadata": {},
   "outputs": [
    {
     "data": {
      "image/png": "[encoded data removed]",
      "text/plain": [
       "<Figure size 1080x360 with 1 Axes>"
      ]
     },
     "metadata": {
      "needs_background": "light"
     },
     "output_type": "display_data"
    }
   ],
   "source": [
    "fig, ax = plt.subplots(figsize=(15,5))\n",
    "\n",
    "sns.boxplot(x=user_item_count, ax=ax)\n",
    "ax.axvline(x=1300, color='tab:red', ls='dotted')\n",
    "\n",
    "ax.set_title('user movie count')\n",
    "plt.show()"
   ]
  },
  {
   "cell_type": "markdown",
   "id": "ccdd1f08",
   "metadata": {},
   "source": [
    "이상치에 해당하는 유저(영화를 많이 본 유저)의 수가 많지는 않지만 이런 유저들에게는 다른 기준으로 추천을 해주는 것이 맞지 않을지?   \n",
    "(이정도로 영화를 많이 봤으면 아무거나 추천해준다던지, content 기반으로 추천을 한다던지, 다른 유저들도 많이본 영화 중 안본걸 추천해준다던지 등)   \n",
    "또한, 1500개를 본 유저와 500개를 본 유저도 차이점을 둬야할지?"
   ]
  },
  {
   "cell_type": "markdown",
   "id": "9376ded6",
   "metadata": {},
   "source": [
    "--------------"
   ]
  },
  {
   "cell_type": "markdown",
   "id": "784cdfa3",
   "metadata": {},
   "source": [
    "## 생각해볼 점 (3) 유저들이 많이보지 않은 영화를 추천해 줘도 괜찮을까?"
   ]
  },
  {
   "cell_type": "code",
   "execution_count": null,
   "id": "b65ff666",
   "metadata": {},
   "outputs": [],
   "source": []
  }
 ],
 "metadata": {
  "kernelspec": {
   "display_name": "Python 3 (ipykernel)",
   "language": "python",
   "name": "python3"
  },
  "language_info": {
   "codemirror_mode": {
    "name": "ipython",
    "version": 3
   },
   "file_extension": ".py",
   "mimetype": "text/x-python",
   "name": "python",
   "nbconvert_exporter": "python",
   "pygments_lexer": "ipython3",
   "version": "3.8.5"
  }
 },
 "nbformat": 4,
 "nbformat_minor": 5
}
