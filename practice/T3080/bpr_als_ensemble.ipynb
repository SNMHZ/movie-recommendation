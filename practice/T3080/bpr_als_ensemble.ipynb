{
 "cells": [
  {
   "cell_type": "code",
   "execution_count": 1,
   "metadata": {},
   "outputs": [],
   "source": [
    "import pandas as pd\n",
    "import numpy as np\n",
    "\n",
    "import implicit\n",
    "import split_dataset\n",
    "import make_dict\n",
    "import os\n",
    "from scipy.sparse import csr_matrix\n",
    "import random\n",
    "\n",
    "from tqdm import tqdm\n",
    "\n",
    "seed = 777\n",
    "\n",
    "random.seed(seed)\n",
    "np.random.seed(seed)"
   ]
  },
  {
   "cell_type": "code",
   "execution_count": 2,
   "metadata": {},
   "outputs": [],
   "source": [
    "train = pd.read_csv('/opt/ml/input/data/train/train_ratings.csv')\n",
    "train['rating'] = 1\n",
    "pivot = pd.pivot_table(data=train, values='rating', index='user', columns='item').fillna(0)\n",
    "preference_matrix_csr = csr_matrix(pivot)"
   ]
  },
  {
   "cell_type": "code",
   "execution_count": 3,
   "metadata": {},
   "outputs": [],
   "source": [
    "N = 10"
   ]
  },
  {
   "cell_type": "code",
   "execution_count": 4,
   "metadata": {},
   "outputs": [
    {
     "data": {
      "application/vnd.jupyter.widget-view+json": {
       "model_id": "b4027ce9387e4bf18fb186063fc63235",
       "version_major": 2,
       "version_minor": 0
      },
      "text/plain": [
       "  0%|          | 0/90 [00:00<?, ?it/s]"
      ]
     },
     "metadata": {},
     "output_type": "display_data"
    }
   ],
   "source": [
    "als_model = implicit.als.AlternatingLeastSquares(factors=300, regularization=50, iterations=90, random_state=seed)\n",
    "als_model.fit(preference_matrix_csr)\n",
    "als_model_df = pd.DataFrame(np.matmul(als_model.user_factors.to_numpy(), als_model.item_factors.to_numpy().T), columns=pivot.columns, index=pivot.index)\n",
    "\n",
    "als_model_df_final = als_model_df - pivot * 1000\n",
    "\n",
    "als_result = [m.argsort()[::-1][:1000] for m in als_model_df_final.values]"
   ]
  },
  {
   "cell_type": "code",
   "execution_count": 5,
   "metadata": {},
   "outputs": [
    {
     "data": {
      "application/vnd.jupyter.widget-view+json": {
       "model_id": "42a8976a88d44ee59d847bac41a79d1b",
       "version_major": 2,
       "version_minor": 0
      },
      "text/plain": [
       "  0%|          | 0/100 [00:00<?, ?it/s]"
      ]
     },
     "metadata": {},
     "output_type": "display_data"
    }
   ],
   "source": [
    "bpr_model = implicit.bpr.BayesianPersonalizedRanking(factors=200,learning_rate=0.001, random_state=seed)\n",
    "bpr_model.fit(preference_matrix_csr)\n",
    "bpr_model_df = pd.DataFrame(np.matmul(bpr_model.user_factors.to_numpy(), bpr_model.item_factors.to_numpy().T), columns=pivot.columns, index=pivot.index)\n",
    "\n",
    "bpr_model_df_final = bpr_model_df - pivot*1000\n",
    "\n",
    "bpr_result = [m.argsort()[::-1][:1000] for m in bpr_model_df_final.values]"
   ]
  },
  {
   "cell_type": "code",
   "execution_count": 6,
   "metadata": {},
   "outputs": [],
   "source": [
    "popular_movie_id_ls = train['item'].value_counts().index\n",
    "total_user_num = train['user'].nunique()\n",
    "user_movie_dict = dict([(a,list(b)) for a,b in train.groupby(['user']).agg({'item':'unique'}).reset_index().values])\n",
    "# make dict\n",
    "movie_genre_dict, movie_year_dict, movie_director_dict, movie_writer_dict = make_dict.make_movie_info_dict()\n",
    "user_genre_dict, user_year_dict, user_director_dict, user_writer_dict = make_dict.make_user_info_dict(train)"
   ]
  },
  {
   "cell_type": "code",
   "execution_count": 15,
   "metadata": {},
   "outputs": [
    {
     "name": "stderr",
     "output_type": "stream",
     "text": [
      "100%|██████████| 31360/31360 [00:05<00:00, 6148.57it/s]\n"
     ]
    }
   ],
   "source": [
    "# 연도 & 장르 필터링\n",
    "users, items = [], [[] for _ in range(total_user_num)]\n",
    "item_columns = bpr_model_df_final.columns\n",
    "user_id = bpr_model_df_final.index\n",
    "for idx in tqdm(range(total_user_num)):\n",
    "    users.extend([user_id[idx]] * N)\n",
    "    for i in bpr_result[idx]:\n",
    "        # if (len(set(movie_genre_dict[item_columns[i]])-set(user_genre_dict[user_id[idx]])) <= 1): # 장르\n",
    "        # if (movie_year_dict[item_columns[i]]<=user_year_dict[user_id[idx]]): # 연도\n",
    "        if (len(set(movie_genre_dict[item_columns[i]])-set(user_genre_dict[user_id[idx]])) <= 1) and (movie_year_dict[item_columns[i]]<=user_year_dict[user_id[idx]]): # 장르,연도\n",
    "            if len(items[idx]) < 3:\n",
    "                items[idx].append(item_columns[i])\n",
    "            else:\n",
    "                break\n",
    "    for i in als_result[idx]:\n",
    "        # if (len(set(movie_genre_dict[item_columns[i]])-set(user_genre_dict[user_id[idx]])) <= 1): # 장르\n",
    "        # if (movie_year_dict[item_columns[i]]<=user_year_dict[user_id[idx]]): # 연도\n",
    "        if (len(set(movie_genre_dict[item_columns[i]])-set(user_genre_dict[user_id[idx]])) <= 1) and (movie_year_dict[item_columns[i]]<=user_year_dict[user_id[idx]]): # 장르,연도\n",
    "            if len(items[idx]) < N:\n",
    "                if item_columns[i] not in items[idx]:\n",
    "                    items[idx].append(item_columns[i])\n",
    "            else:\n",
    "                break"
   ]
  },
  {
   "cell_type": "code",
   "execution_count": 8,
   "metadata": {},
   "outputs": [
    {
     "name": "stdout",
     "output_type": "stream",
     "text": [
      "313600 31360\n"
     ]
    }
   ],
   "source": [
    "print(len(users), len(items))"
   ]
  },
  {
   "cell_type": "code",
   "execution_count": 16,
   "metadata": {},
   "outputs": [],
   "source": [
    "sub = pd.DataFrame(zip(users,np.array(items).flatten()), columns=['user','item'])\n",
    "# sub = pd.DataFrame(zip(users, items), columns=['user','item'])\n",
    "sub.to_csv(\"result/bpr_als_37.csv\", index=False)"
   ]
  },
  {
   "cell_type": "code",
   "execution_count": 17,
   "metadata": {},
   "outputs": [
    {
     "data": {
      "text/plain": [
       "(313600, 2)"
      ]
     },
     "execution_count": 17,
     "metadata": {},
     "output_type": "execute_result"
    }
   ],
   "source": [
    "sub.shape"
   ]
  },
  {
   "cell_type": "code",
   "execution_count": null,
   "metadata": {},
   "outputs": [],
   "source": []
  }
 ],
 "metadata": {
  "interpreter": {
   "hash": "d4d1e4263499bec80672ea0156c357c1ee493ec2b1c70f0acce89fc37c4a6abe"
  },
  "kernelspec": {
   "display_name": "Python 3.8.5 ('base')",
   "language": "python",
   "name": "python3"
  },
  "language_info": {
   "codemirror_mode": {
    "name": "ipython",
    "version": 3
   },
   "file_extension": ".py",
   "mimetype": "text/x-python",
   "name": "python",
   "nbconvert_exporter": "python",
   "pygments_lexer": "ipython3",
   "version": "3.8.5"
  },
  "orig_nbformat": 4
 },
 "nbformat": 4,
 "nbformat_minor": 2
}
